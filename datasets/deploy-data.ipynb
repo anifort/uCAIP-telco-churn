{
 "cells": [
  {
   "cell_type": "code",
   "execution_count": 10,
   "id": "gothic-fundamental",
   "metadata": {},
   "outputs": [
    {
     "name": "stdout",
     "output_type": "stream",
     "text": [
      "409 POST https://bigquery.googleapis.com/bigquery/v2/projects/myfirstproject-226013/datasets?prettyPrint=false: Already Exists: Dataset myfirstproject-226013:telco\n"
     ]
    }
   ],
   "source": [
    "from google.cloud import bigquery\n",
    "client = bigquery.Client()\n",
    "dataset_id = \"{}.telco\".format(client.project)\n",
    "\n",
    "# Construct a full Dataset object to send to the API.\n",
    "dataset = bigquery.Dataset(dataset_id)\n",
    "\n",
    "# TODO(developer): Specify the geographic location where the dataset should reside.\n",
    "dataset.location = \"europe-west4\"\n",
    "\n",
    "# Send the dataset to the API for creation, with an explicit timeout.\n",
    "# Raises google.api_core.exceptions.Conflict if the Dataset already\n",
    "# exists within the project.\n",
    "try:\n",
    "    dataset = client.create_dataset(dataset, timeout=30)  # Make an API request.\n",
    "    print(\"Created dataset {}.{}\".format(client.project, dataset.dataset_id))\n",
    "except Exception as ex:\n",
    "    print(ex)"
   ]
  },
  {
   "cell_type": "markdown",
   "id": "fifty-evans",
   "metadata": {},
   "source": [
    "### Load Phone Data"
   ]
  },
  {
   "cell_type": "code",
   "execution_count": 36,
   "id": "mobile-salem",
   "metadata": {},
   "outputs": [
    {
     "name": "stdout",
     "output_type": "stream",
     "text": [
      "Loaded 8590 rows and 40 columns to myfirstproject-226013.telco.phone\n"
     ]
    }
   ],
   "source": [
    "table_id = \"{}.telco.phone\".format(client.project)\n",
    "file_path = 'phone_dataset.csv'\n",
    "\n",
    "job_config = bigquery.LoadJobConfig(\n",
    "    schema=[\n",
    "        bigquery.SchemaField(\"brand\", \"STRING\"),\n",
    "        bigquery.SchemaField(\"model\", \"STRING\"),\n",
    "        bigquery.SchemaField(\"network_technology\", \"STRING\"),\n",
    "        bigquery.SchemaField(\"bands_2G\", \"STRING\"),\n",
    "        bigquery.SchemaField(\"bands_3G\", \"STRING\"),\n",
    "        bigquery.SchemaField(\"bands_4G\", \"STRING\"),\n",
    "        bigquery.SchemaField(\"network_speed\", \"STRING\"),\n",
    "        bigquery.SchemaField(\"GPRS\", \"STRING\"),\n",
    "        bigquery.SchemaField(\"EDGE\", \"STRING\"),\n",
    "        bigquery.SchemaField(\"announced\", \"STRING\"),\n",
    "        bigquery.SchemaField(\"status\", \"STRING\"),\n",
    "        bigquery.SchemaField(\"dimentions\", \"STRING\"),\n",
    "        bigquery.SchemaField(\"weight_g\", \"FLOAT\"),\n",
    "        bigquery.SchemaField(\"weight_oz\", \"FLOAT\"),\n",
    "        bigquery.SchemaField(\"SIM\", \"STRING\"),\n",
    "        bigquery.SchemaField(\"display_type\", \"STRING\"),\n",
    "        bigquery.SchemaField(\"display_resolution\", \"STRING\"),\n",
    "        bigquery.SchemaField(\"display_size\", \"STRING\"),\n",
    "        bigquery.SchemaField(\"OS\", \"STRING\"),\n",
    "        bigquery.SchemaField(\"CPU\", \"STRING\"),\n",
    "        bigquery.SchemaField(\"Chipset\", \"STRING\"),\n",
    "        bigquery.SchemaField(\"GPU\", \"STRING\"),\n",
    "        bigquery.SchemaField(\"memory_card\", \"STRING\"),\n",
    "        bigquery.SchemaField(\"internal_memory\", \"STRING\"),\n",
    "        bigquery.SchemaField(\"RAM\", \"STRING\"),\n",
    "        bigquery.SchemaField(\"primary_camera\", \"STRING\"),\n",
    "        bigquery.SchemaField(\"secondary_camera\", \"STRING\"),\n",
    "        bigquery.SchemaField(\"loud_speaker\", \"STRING\"),\n",
    "        bigquery.SchemaField(\"audio_jack\", \"STRING\"),\n",
    "        bigquery.SchemaField(\"WLAN\", \"STRING\"),\n",
    "        bigquery.SchemaField(\"bluetooth\", \"STRING\"),\n",
    "        bigquery.SchemaField(\"GPS\", \"STRING\"),\n",
    "        bigquery.SchemaField(\"NFC\", \"STRING\"),\n",
    "        bigquery.SchemaField(\"radio\", \"STRING\"),\n",
    "        bigquery.SchemaField(\"USB\", \"STRING\"),\n",
    "        bigquery.SchemaField(\"sensors\", \"STRING\"),\n",
    "        bigquery.SchemaField(\"battery\", \"STRING\"),\n",
    "        bigquery.SchemaField(\"colors\", \"STRING\"),\n",
    "        bigquery.SchemaField(\"approx_price_EUR\", \"INTEGER\"),\n",
    "        bigquery.SchemaField(\"img_url\", \"STRING\")\n",
    "    ],\n",
    "    \n",
    "    \n",
    "    autodetect=True,\n",
    "    skip_leading_rows=1, \n",
    "    max_bad_records=10000,\n",
    "    source_format=bigquery.SourceFormat.CSV, \n",
    "    writeDisposition=\"WRITE_TRUNCATE\", # overwrites table\n",
    "    \n",
    ")\n",
    "\n",
    "with open(file_path, \"rb\") as source_file:\n",
    "    job = client.load_table_from_file(source_file, table_id, job_config=job_config)\n",
    "\n",
    "job.result()  # Waits for the job to complete.\n",
    "\n",
    "table = client.get_table(table_id)  # Make an API request.\n",
    "print(\"Loaded {} rows and {} columns to {}\".format(table.num_rows, len(table.schema), table_id))"
   ]
  },
  {
   "cell_type": "markdown",
   "id": "assigned-mortgage",
   "metadata": {},
   "source": [
    "### Load Churn Data"
   ]
  },
  {
   "cell_type": "code",
   "execution_count": 37,
   "id": "higher-eight",
   "metadata": {},
   "outputs": [
    {
     "name": "stdout",
     "output_type": "stream",
     "text": [
      "Loaded 7043 rows and 21 columns to myfirstproject-226013.telco.churn_v5\n"
     ]
    }
   ],
   "source": [
    "table_id = \"{}.telco.churn\".format(client.project)\n",
    "file_path = 'churn.csv'\n",
    "\n",
    "job_config = bigquery.LoadJobConfig(\n",
    "    source_format=bigquery.SourceFormat.CSV, \n",
    "    skip_leading_rows=1, \n",
    "    autodetect=True,\n",
    "    writeDisposition=\"WRITE_TRUNCATE\", # overwrites table\n",
    ")\n",
    "\n",
    "with open(file_path, \"rb\") as source_file:\n",
    "    job = client.load_table_from_file(source_file, table_id, job_config=job_config)\n",
    "\n",
    "job.result()  # Waits for the job to complete.\n",
    "\n",
    "table = client.get_table(table_id)  # Make an API request.\n",
    "print(\"Loaded {} rows and {} columns to {}\".format(table.num_rows, len(table.schema), table_id))"
   ]
  },
  {
   "cell_type": "code",
   "execution_count": null,
   "id": "graduate-growing",
   "metadata": {},
   "outputs": [],
   "source": []
  }
 ],
 "metadata": {
  "environment": {
   "name": "common-cpu.mnightly-2021-02-02-debian-10-test",
   "type": "gcloud",
   "uri": "gcr.io/deeplearning-platform-release/base-cpu:mnightly-2021-02-02-debian-10-test"
  },
  "kernelspec": {
   "display_name": "Python 3",
   "language": "python",
   "name": "python3"
  },
  "language_info": {
   "codemirror_mode": {
    "name": "ipython",
    "version": 3
   },
   "file_extension": ".py",
   "mimetype": "text/x-python",
   "name": "python",
   "nbconvert_exporter": "python",
   "pygments_lexer": "ipython3",
   "version": "3.7.9"
  }
 },
 "nbformat": 4,
 "nbformat_minor": 5
}

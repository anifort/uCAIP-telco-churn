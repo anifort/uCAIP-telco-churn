{
 "cells": [
  {
   "cell_type": "code",
   "execution_count": null,
   "id": "institutional-sustainability",
   "metadata": {},
   "outputs": [],
   "source": [
    "!pip install git+https://github.com/googleapis/python-aiplatform.git@mb-release"
   ]
  },
  {
   "cell_type": "code",
   "execution_count": 2,
   "id": "eight-might",
   "metadata": {},
   "outputs": [],
   "source": [
    "from google.cloud import aiplatform\n",
    "PROJECT_ID=!gcloud config get-value project # returns default project id \n",
    "PROJECT_ID=PROJECT_ID[0]\n",
    "REGION='europe-west4'\n",
    "BUCKET = \"gs://\"+PROJECT_ID"
   ]
  },
  {
   "cell_type": "code",
   "execution_count": null,
   "id": "handed-uncle",
   "metadata": {},
   "outputs": [],
   "source": [
    "VERSION='v1'\n",
    "JOB_NAME=\"telco-churn-job-\"+VERSION\n",
    "MODEL_NAME=\"telco-churn-model-\"+VERSION\n",
    "DATASET_ID='5848592619210276864'"
   ]
  },
  {
   "cell_type": "code",
   "execution_count": null,
   "id": "laden-sociology",
   "metadata": {},
   "outputs": [],
   "source": [
    "aiplatform.init(project=PROJECT_ID, staging_bucket=BUCKET, location=REGION)\n",
    "\n",
    "# ds = aiplatform.TabularDataset.create(display_name=display_name, gcs_source=gcs_source) # GCS dataset\n",
    "# ds = aiplatform.TabularDataset.create(display_name=display_name, bigquery_source=bigquery_source) # BQ dataset\n",
    "\n",
    "# ds.wait()\n",
    "\n",
    "\n",
    "ds = aiplatform.Dataset('5848592619210276864') # For existing dataset! TODO: Change that to the created dataset id\n",
    "\n",
    "job = aiplatform.CustomPythonPackageTrainingJob(\n",
    "    display_name=JOB_NAME, \n",
    "    python_package_gcs_uri=BUCKET+'/telco-churn/dist/trainer-0.1.tar.gz', \n",
    "    python_module_name='trainer.task', \n",
    "    container_uri='eu.gcr.io/cloud-aiplatform/training/scikit-learn-cpu.0-23:latest', \n",
    "    model_serving_container_image_uri='eu.gcr.io/cloud-aiplatform/prediction/sklearn-cpu.0-23:latest'\n",
    ")\n",
    "\n",
    "job.run(\n",
    "    ds, replica_count=1, model_display_name=MODEL_NAME,\n",
    "    base_output_dir=BUCKET+\"/telco-churn/assets-\"+VERSION,\n",
    "    machine_type='n1-standard-4'\n",
    ")\n",
    "\n",
    "m = job.get_model()\n",
    "\n",
    "endpoint = m.deploy(machine_type='n1-standard-4')\n",
    "\n",
    "endpoint.predict([['Male', 0, True, False, True, False, 8, 20.25, '158.35', 'No', 'No internet service', 'No internet service', 'No internet service', 'No internet service', 'No internet service', 'Month-to-month', 'Mailed check', 'No'], ['Female', 0, False, False, True, True, 2, 87.15, '183.75', 'Fiber optic', 'No', 'No', 'No', 'Yes', 'No', 'Month-to-month', 'Bank transfer (automatic)', 'No']])"
   ]
  }
 ],
 "metadata": {
  "environment": {
   "name": "common-cpu.mnightly-2021-02-02-debian-10-test",
   "type": "gcloud",
   "uri": "gcr.io/deeplearning-platform-release/base-cpu:mnightly-2021-02-02-debian-10-test"
  },
  "kernelspec": {
   "display_name": "Python 3",
   "language": "python",
   "name": "python3"
  },
  "language_info": {
   "codemirror_mode": {
    "name": "ipython",
    "version": 3
   },
   "file_extension": ".py",
   "mimetype": "text/x-python",
   "name": "python",
   "nbconvert_exporter": "python",
   "pygments_lexer": "ipython3",
   "version": "3.7.9"
  }
 },
 "nbformat": 4,
 "nbformat_minor": 5
}

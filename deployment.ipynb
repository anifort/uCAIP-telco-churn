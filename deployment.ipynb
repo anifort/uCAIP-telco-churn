{
 "cells": [
  {
   "cell_type": "code",
   "execution_count": 79,
   "id": "sacred-communication",
   "metadata": {},
   "outputs": [],
   "source": [
    "BUCKET = \"gs://telco-churn\""
   ]
  },
  {
   "cell_type": "code",
   "execution_count": 113,
   "id": "stainless-shadow",
   "metadata": {},
   "outputs": [
    {
     "name": "stdout",
     "output_type": "stream",
     "text": [
      "\u001b[1;33mWARNING:\u001b[0m \n",
      "    Cannot import tensorflow under path /opt/conda/bin/python. Using \"chief\" for cluster setting.\n",
      "    If this is not intended, Please check if tensorflow is installed. Please also\n",
      "    verify if the python path used is correct. If not, to change the python path:\n",
      "    use `gcloud config set ml_engine/local_python $python_path`\n",
      "    Eg: gcloud config set ml_engine/local_python /usr/bin/python3\n",
      "\u001b[1;33mWARNING:\u001b[0m \n",
      "    Cannot import tensorflow under path /opt/conda/bin/python. Using \"chief\" for cluster setting.\n",
      "    If this is not intended, Please check if tensorflow is installed. Please also\n",
      "    verify if the python path used is correct. If not, to change the python path:\n",
      "    use `gcloud config set ml_engine/local_python $python_path`\n",
      "    Eg: gcloud config set ml_engine/local_python /usr/bin/python3\n"
     ]
    }
   ],
   "source": [
    "!gcloud ai-platform local train --package-path=telco-churn-package/trainer --module-name=trainer.task \\\n",
    "    -- \\\n",
    "    --model_param_kernel=linear \\\n",
    "    --model_dir=gs://telco-churn/model \\\n",
    "    --data_format=csv \\\n",
    "    --training_data_uri=gs://telco-churn/tmp/dataset-4909943940624416768-tables-2021-02-12T22:02:38.681953Z/training-*.csv \\\n",
    "    --test_data_uri=gs://telco-churn/tmp/dataset-4909943940624416768-tables-2021-02-12T22:02:38.681953Z/test-*.csv \\\n",
    "    --validation_data_uri=gs://telco-churn/tmp/dataset-4909943940624416768-tables-2021-02-12T22:02:38.681953Z/validation-*.csv "
   ]
  },
  {
   "cell_type": "code",
   "execution_count": 81,
   "id": "exterior-carroll",
   "metadata": {},
   "outputs": [
    {
     "name": "stdout",
     "output_type": "stream",
     "text": [
      "python: can't open file 'setup.py': [Errno 2] No such file or directory\n"
     ]
    }
   ],
   "source": [
    "!python setup.py sdist"
   ]
  },
  {
   "cell_type": "code",
   "execution_count": 63,
   "id": "younger-memphis",
   "metadata": {},
   "outputs": [
    {
     "name": "stdout",
     "output_type": "stream",
     "text": [
      "Copying file://dist/trainer-0.1.tar.gz [Content-Type=application/x-tar]...\n",
      "/ [1 files][  560.0 B/  560.0 B]                                                \n",
      "Operation completed over 1 objects/560.0 B.                                      \n"
     ]
    }
   ],
   "source": [
    "!gsutil cp dist/trainer-0.1.tar.gz $BUCKET\"/dist/\""
   ]
  },
  {
   "cell_type": "code",
   "execution_count": 76,
   "id": "experimental-healing",
   "metadata": {},
   "outputs": [
    {
     "name": "stdout",
     "output_type": "stream",
     "text": [
      "/home/jupyter/ucaip-telco-churn\n"
     ]
    }
   ],
   "source": [
    "!pwd"
   ]
  },
  {
   "cell_type": "code",
   "execution_count": 89,
   "id": "minor-attack",
   "metadata": {},
   "outputs": [],
   "source": [
    "deployed_model = {\n",
    "        # format: 'projects/{project}/locations/{location}/models/{model}'\n",
    "        \"model\": \"model_name\",\n",
    "        \"display_name\": \"deployed_model_display_name\",\n",
    "        # `dedicated_resources` must be used for non-AutoML models\n",
    "        \"dedicated_resources\": {\n",
    "            \"min_replica_count\": 1,\n",
    "            \"machine_spec\": {\n",
    "                \"machine_type\": \"n1-standard-2\",\n",
    "                # Accelerators can be used only if the model specifies a GPU image.\n",
    "                # 'accelerator_type': aiplatform.gapic.AcceleratorType.NVIDIA_TESLA_K80,\n",
    "                # 'accelerator_count': 1,\n",
    "            },\n",
    "        },\n",
    "    }\n"
   ]
  },
  {
   "cell_type": "code",
   "execution_count": 96,
   "id": "julian-drinking",
   "metadata": {},
   "outputs": [
    {
     "data": {
      "text/plain": [
       "dict"
      ]
     },
     "execution_count": 96,
     "metadata": {},
     "output_type": "execute_result"
    }
   ],
   "source": [
    "type(deployed_model)"
   ]
  },
  {
   "cell_type": "code",
   "execution_count": 97,
   "id": "useful-hepatitis",
   "metadata": {},
   "outputs": [
    {
     "name": "stdout",
     "output_type": "stream",
     "text": [
      "\u001b[1;33mWARNING:\u001b[0m \n",
      "    Cannot import tensorflow under path /opt/conda/bin/python. Using \"chief\" for cluster setting.\n",
      "    If this is not intended, Please check if tensorflow is installed. Please also\n",
      "    verify if the python path used is correct. If not, to change the python path:\n",
      "    use `gcloud config set ml_engine/local_python $python_path`\n",
      "    Eg: gcloud config set ml_engine/local_python /usr/bin/python3\n",
      "\u001b[1;33mWARNING:\u001b[0m \n",
      "    Cannot import tensorflow under path /opt/conda/bin/python. Using \"chief\" for cluster setting.\n",
      "    If this is not intended, Please check if tensorflow is installed. Please also\n",
      "    verify if the python path used is correct. If not, to change the python path:\n",
      "    use `gcloud config set ml_engine/local_python $python_path`\n",
      "    Eg: gcloud config set ml_engine/local_python /usr/bin/python3\n",
      "/opt/conda/bin/python: No module named 1\n"
     ]
    }
   ],
   "source": [
    "!gcloud ai-platform local train $(<config.dat)"
   ]
  },
  {
   "cell_type": "code",
   "execution_count": null,
   "id": "activated-reason",
   "metadata": {},
   "outputs": [],
   "source": []
  }
 ],
 "metadata": {
  "environment": {
   "name": "common-cpu.mnightly-2021-02-02-debian-10-test",
   "type": "gcloud",
   "uri": "gcr.io/deeplearning-platform-release/base-cpu:mnightly-2021-02-02-debian-10-test"
  },
  "kernelspec": {
   "display_name": "Python 3",
   "language": "python",
   "name": "python3"
  },
  "language_info": {
   "codemirror_mode": {
    "name": "ipython",
    "version": 3
   },
   "file_extension": ".py",
   "mimetype": "text/x-python",
   "name": "python",
   "nbconvert_exporter": "python",
   "pygments_lexer": "ipython3",
   "version": "3.7.9"
  }
 },
 "nbformat": 4,
 "nbformat_minor": 5
}

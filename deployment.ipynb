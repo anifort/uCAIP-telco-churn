{
 "cells": [
  {
   "cell_type": "code",
   "execution_count": 21,
   "id": "acting-produce",
   "metadata": {},
   "outputs": [
    {
     "name": "stdout",
     "output_type": "stream",
     "text": [
      "\u001b[1;33mWARNING:\u001b[0m \n",
      "    Cannot import tensorflow under path /opt/conda/bin/python. Using \"chief\" for cluster setting.\n",
      "    If this is not intended, Please check if tensorflow is installed. Please also\n",
      "    verify if the python path used is correct. If not, to change the python path:\n",
      "    use `gcloud config set ml_engine/local_python $python_path`\n",
      "    Eg: gcloud config set ml_engine/local_python /usr/bin/python3\n",
      "\u001b[1;33mWARNING:\u001b[0m \n",
      "    Cannot import tensorflow under path /opt/conda/bin/python. Using \"chief\" for cluster setting.\n",
      "    If this is not intended, Please check if tensorflow is installed. Please also\n",
      "    verify if the python path used is correct. If not, to change the python path:\n",
      "    use `gcloud config set ml_engine/local_python $python_path`\n",
      "    Eg: gcloud config set ml_engine/local_python /usr/bin/python3\n"
     ]
    }
   ],
   "source": [
    "!gcloud ai-platform local train --package-path=trainer --module-name=trainer.task"
   ]
  },
  {
   "cell_type": "code",
   "execution_count": null,
   "id": "ambient-glenn",
   "metadata": {},
   "outputs": [],
   "source": []
  }
 ],
 "metadata": {
  "environment": {
   "name": "common-cpu.mnightly-2021-02-02-debian-10-test",
   "type": "gcloud",
   "uri": "gcr.io/deeplearning-platform-release/base-cpu:mnightly-2021-02-02-debian-10-test"
  },
  "kernelspec": {
   "display_name": "Python 3",
   "language": "python",
   "name": "python3"
  },
  "language_info": {
   "codemirror_mode": {
    "name": "ipython",
    "version": 3
   },
   "file_extension": ".py",
   "mimetype": "text/x-python",
   "name": "python",
   "nbconvert_exporter": "python",
   "pygments_lexer": "ipython3",
   "version": "3.7.9"
  }
 },
 "nbformat": 4,
 "nbformat_minor": 5
}

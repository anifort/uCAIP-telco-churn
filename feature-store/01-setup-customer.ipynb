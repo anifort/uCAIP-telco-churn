{
 "cells": [
  {
   "cell_type": "markdown",
   "id": "national-civilization",
   "metadata": {},
   "source": [
    "# Featurestore - Churn Demo\n",
    "## Feature Store Setup\n",
    "Christos Aniftos"
   ]
  },
  {
   "cell_type": "markdown",
   "id": "medieval-roads",
   "metadata": {},
   "source": [
    "## Install required libraries"
   ]
  },
  {
   "cell_type": "markdown",
   "id": "creative-bracket",
   "metadata": {},
   "source": [
    "## Import modules"
   ]
  },
  {
   "cell_type": "code",
   "execution_count": null,
   "id": "unlikely-detective",
   "metadata": {},
   "outputs": [],
   "source": [
    "from google.cloud import aiplatform"
   ]
  },
  {
   "cell_type": "code",
   "execution_count": null,
   "id": "wrong-offense",
   "metadata": {},
   "outputs": [],
   "source": [
    "from google.api_core import operations_v1\n",
    "from google.cloud.aiplatform_v1beta1.types import io as io_pb2\n",
    "from google.cloud.aiplatform_v1beta1.types import FeaturestoreMonitoringConfig\n",
    "from google.cloud.aiplatform_v1beta1.types.feature import Feature\n",
    "from google.cloud.aiplatform_v1beta1 import FeaturestoreServiceClient\n",
    "from google.cloud.aiplatform_v1beta1 import FeaturestoreOnlineServingServiceClient\n",
    "from google.cloud.aiplatform_v1beta1.types import entity_type as entity_type_pb2\n",
    "from google.cloud.aiplatform_v1beta1.types import featurestore as featurestore_pb2\n",
    "from google.cloud.aiplatform_v1beta1.types import feature_selector as feature_selector_pb2\n",
    "from google.cloud.aiplatform_v1beta1.types import featurestore_service as featurestore_service_pb2\n",
    "from google.cloud.aiplatform_v1beta1.types import featurestore_online_service as featurestore_online_service_pb2"
   ]
  },
  {
   "cell_type": "code",
   "execution_count": null,
   "id": "experimental-lincoln",
   "metadata": {},
   "outputs": [],
   "source": [
    "PROJECT_ID=!gcloud config get-value project # returns default project id \n",
    "PROJECT_ID=PROJECT_ID[0]\n",
    "\n",
    "LOCATION = 'europe-west4' \n",
    "API_ENDPOINT = LOCATION+\"-aiplatform.googleapis.com\" \n",
    "FEATURESTORE_ID = \"telco\"\n",
    "ENTITY=\"customer\""
   ]
  },
  {
   "cell_type": "markdown",
   "id": "excited-integrity",
   "metadata": {},
   "source": [
    "## Define clients for FS admin and data management"
   ]
  },
  {
   "cell_type": "code",
   "execution_count": null,
   "id": "existing-tuition",
   "metadata": {},
   "outputs": [],
   "source": [
    "# Create admin_client for CRUD\n",
    "admin_client = FeaturestoreServiceClient(\n",
    "    client_options={\"api_endpoint\": API_ENDPOINT})"
   ]
  },
  {
   "cell_type": "code",
   "execution_count": null,
   "id": "hungry-reward",
   "metadata": {},
   "outputs": [],
   "source": [
    "LOC_PATH = admin_client.common_location_path(PROJECT_ID, LOCATION)\n",
    "FS_PATH = admin_client.featurestore_path(PROJECT_ID, LOCATION, FEATURESTORE_ID)\n",
    "ENTITY_PATH = admin_client.entity_type_path(PROJECT_ID, LOCATION, FEATURESTORE_ID, ENTITY)\n",
    "FEATURE_PATH = admin_client.feature_path(PROJECT_ID, LOCATION, FEATURESTORE_ID, ENTITY, '{}')\n",
    "\n",
    "print(\"Location: \\t\", LOC_PATH)\n",
    "print(\"Feature Store: \\t\", FS_PATH)\n",
    "print(\"Entity: \\t\", ENTITY_PATH)\n",
    "print(\"Feature: \\t\",FEATURE_PATH)"
   ]
  },
  {
   "cell_type": "code",
   "execution_count": null,
   "id": "furnished-headset",
   "metadata": {},
   "outputs": [],
   "source": [
    "# Create operation client to poll LRO status.\n",
    "#lro_client = operations_v1.OperationsClient(admin_client.transport.grpc_channel)"
   ]
  },
  {
   "cell_type": "markdown",
   "id": "toxic-subdivision",
   "metadata": {},
   "source": [
    "## Create FeatureStore"
   ]
  },
  {
   "cell_type": "code",
   "execution_count": null,
   "id": "focused-burns",
   "metadata": {},
   "outputs": [],
   "source": [
    "new_feature_store = featurestore_pb2.Featurestore(\n",
    "            online_serving_config=featurestore_pb2.Featurestore.OnlineServingConfig(\n",
    "                fixed_node_count=1 # The number of nodes for each cluster (bigtable)\n",
    "            )\n",
    "        )\n",
    "try:\n",
    "    print(\n",
    "        admin_client.create_featurestore(\n",
    "            featurestore_service_pb2.CreateFeaturestoreRequest(\n",
    "                parent=LOC_PATH,\n",
    "                featurestore_id=FEATURESTORE_ID,\n",
    "                featurestore= new_feature_store\n",
    "            )\n",
    "        ).result()\n",
    "    )\n",
    "except Exception as ex:\n",
    "    print(ex)"
   ]
  },
  {
   "cell_type": "markdown",
   "id": "unavailable-treat",
   "metadata": {},
   "source": [
    " ## List all Feature Stores"
   ]
  },
  {
   "cell_type": "code",
   "execution_count": null,
   "id": "human-commander",
   "metadata": {},
   "outputs": [],
   "source": [
    "list(admin_client.list_featurestores(parent=LOC_PATH))"
   ]
  },
  {
   "cell_type": "markdown",
   "id": "cardiovascular-fancy",
   "metadata": {},
   "source": [
    "## Get Feature store by name"
   ]
  },
  {
   "cell_type": "code",
   "execution_count": null,
   "id": "composed-crack",
   "metadata": {},
   "outputs": [],
   "source": [
    "try:\n",
    "    feature_store_obj = admin_client.get_featurestore(name = FS_PATH)\n",
    "except Exception as ex:\n",
    "    print(ex)\n",
    "feature_store_obj"
   ]
  },
  {
   "cell_type": "markdown",
   "id": "hispanic-supervisor",
   "metadata": {},
   "source": [
    "### Update feature store (changing online serving nodes)"
   ]
  },
  {
   "cell_type": "code",
   "execution_count": null,
   "id": "great-casino",
   "metadata": {},
   "outputs": [],
   "source": [
    "feature_store_obj.online_serving_config.fixed_node_count=1\n",
    "admin_client.update_featurestore(\n",
    "    featurestore_service_pb2.UpdateFeaturestoreRequest(featurestore=feature_store_obj)\n",
    ")"
   ]
  },
  {
   "cell_type": "markdown",
   "id": "continental-external",
   "metadata": {},
   "source": [
    "## Create a feature store Entity"
   ]
  },
  {
   "cell_type": "code",
   "execution_count": null,
   "id": "suitable-maria",
   "metadata": {},
   "outputs": [],
   "source": [
    "try:\n",
    "    entity_type_obj = admin_client.create_entity_type(\n",
    "        featurestore_service_pb2.CreateEntityTypeRequest(\n",
    "            parent=FS_PATH,\n",
    "            entity_type_id=ENTITY, \n",
    "            entity_type=entity_type_pb2.EntityType(description=\"customer features\"))).result()\n",
    "    print(entity_type_obj)\n",
    "except Exception as ex:\n",
    "    print(ex)"
   ]
  },
  {
   "cell_type": "code",
   "execution_count": null,
   "id": "dressed-assist",
   "metadata": {},
   "outputs": [],
   "source": [
    "type(entity_type_obj)"
   ]
  },
  {
   "cell_type": "code",
   "execution_count": null,
   "id": "aware-alliance",
   "metadata": {},
   "outputs": [],
   "source": [
    "from google.protobuf import duration_pb2 as duration \n",
    "\n",
    "duration = duration.Duration()\n",
    "duration.FromSeconds(seconds=3600)\n",
    "\n",
    "\n",
    "fmc=FeaturestoreMonitoringConfig(\n",
    "    snapshot_analysis = FeaturestoreMonitoringConfig.SnapshotAnalysis(disabled=False, monitoring_interval = duration))\n",
    "fmc"
   ]
  },
  {
   "cell_type": "code",
   "execution_count": null,
   "id": "younger-subsection",
   "metadata": {},
   "outputs": [],
   "source": [
    "entity_type_obj.monitoring_config= fmc\n",
    "entity_type_obj = admin_client.update_entity_type(featurestore_service_pb2.UpdateEntityTypeRequest(\n",
    "            entity_type=entity_type_pb2.EntityType(name=entity_type_obj.name)),\n",
    "            )"
   ]
  },
  {
   "cell_type": "markdown",
   "id": "civic-pledge",
   "metadata": {},
   "source": [
    "## Create features in batch"
   ]
  },
  {
   "cell_type": "code",
   "execution_count": null,
   "id": "center-punch",
   "metadata": {},
   "outputs": [],
   "source": [
    "features_list_tmp = []\n",
    "\n",
    "features_list_tmp.append(featurestore_service_pb2.CreateFeatureRequest(\n",
    "                feature=Feature(\n",
    "                    value_type=Feature.ValueType.STRING,\n",
    "                    description=\"gender\",\n",
    "                    monitoring_config= fmc,\n",
    "                    labels=[(\"no-pii\", \"\"),(\"approved\", \"\")]),\n",
    "                feature_id=\"gender\"))\n",
    "\n",
    "features_list_tmp.append(featurestore_service_pb2.CreateFeatureRequest(\n",
    "                feature=Feature(\n",
    "                    value_type=Feature.ValueType.BOOL,\n",
    "                    description=\"weather customer is senior citizen \",\n",
    "                    monitoring_config= fmc,\n",
    "                    labels=[(\"no-pii\", \"\"),(\"approved\", \"\")]),\n",
    "                feature_id=\"senior_citizen\"))\n",
    "\n",
    "features_list_tmp.append(featurestore_service_pb2.CreateFeatureRequest(\n",
    "                feature=Feature(\n",
    "                    value_type=Feature.ValueType.BOOL,\n",
    "                    description=\"does customer have Partner\",\n",
    "                    monitoring_config= fmc,\n",
    "                    labels=[(\"pii\", \"\"),(\"approved\", \"\")]),\n",
    "                feature_id=\"partner\"))\n",
    "\n",
    "features_list_tmp.append(featurestore_service_pb2.CreateFeatureRequest(\n",
    "                feature=Feature(\n",
    "                    value_type=Feature.ValueType.BOOL,\n",
    "                    description=\"does customer have Dependents\",\n",
    "                    monitoring_config= fmc,\n",
    "                    labels=[(\"pii\", \"\"),(\"approved\", \"\")]),\n",
    "                feature_id=\"dependents\"))\n",
    "\n",
    "features_list_tmp.append(featurestore_service_pb2.CreateFeatureRequest(\n",
    "                feature=Feature(\n",
    "                    value_type=Feature.ValueType.INT64,\n",
    "                    description=\"how long he is a custormer for\",\n",
    "                    monitoring_config= fmc,\n",
    "                    labels=[(\"no-pii\", \"\"),(\"approved\", \"\")]),\n",
    "                feature_id=\"tenure\"))\n",
    "\n",
    "features_list_tmp.append(featurestore_service_pb2.CreateFeatureRequest(\n",
    "                feature=Feature(\n",
    "                    value_type=Feature.ValueType.BOOL,\n",
    "                    description=\"is using PhoneService\",\n",
    "                    monitoring_config= fmc,\n",
    "                    labels=[(\"no-pii\", \"\"),(\"approved\", \"\")]),\n",
    "                feature_id=\"phone_service\"))\n",
    "\n",
    "features_list_tmp.append(featurestore_service_pb2.CreateFeatureRequest(\n",
    "                feature=Feature(\n",
    "                    value_type=Feature.ValueType.STRING,\n",
    "                    description=\"if customer has MultipleLines\",\n",
    "                    monitoring_config= fmc,\n",
    "                    labels=[(\"no-pii\", \"\")]),\n",
    "                feature_id=\"multiple_lines\"))\n",
    "\n",
    "\n",
    "features_list_tmp.append(featurestore_service_pb2.CreateFeatureRequest(\n",
    "                feature=Feature(\n",
    "                    value_type=Feature.ValueType.STRING,\n",
    "                    description=\"if customer has InternetService\",\n",
    "                    monitoring_config= fmc,\n",
    "                    labels=[(\"no-pii\", \"\")]),\n",
    "                feature_id=\"internet_service\"))\n",
    "\n",
    "features_list_tmp.append(featurestore_service_pb2.CreateFeatureRequest(\n",
    "                feature=Feature(\n",
    "                    value_type=Feature.ValueType.STRING,\n",
    "                    description=\"if customer has OnlineSecurity\",\n",
    "                    monitoring_config= fmc,\n",
    "                    labels=[(\"no-pii\", \"\"),(\"approved\", \"\")]),\n",
    "                feature_id=\"online_security\"))\n",
    "\n",
    "features_list_tmp.append(featurestore_service_pb2.CreateFeatureRequest(\n",
    "                feature=Feature(\n",
    "                    value_type=Feature.ValueType.STRING,\n",
    "                    description=\"if customer has OnlineBackup\",\n",
    "                    monitoring_config= fmc,\n",
    "                    labels=[(\"no-pii\", \"\"),(\"approved\", \"\")]),\n",
    "                feature_id=\"online_backup\"))\n",
    "\n",
    "\n",
    "features_list_tmp.append(featurestore_service_pb2.CreateFeatureRequest(\n",
    "                feature=Feature(\n",
    "                    value_type=Feature.ValueType.STRING,\n",
    "                    description=\"if has device protection\",\n",
    "                    monitoring_config= fmc,\n",
    "                    labels=[(\"no-pii\", \"\")]),\n",
    "                feature_id=\"device_protection\"))\n",
    "\n",
    "features_list_tmp.append(featurestore_service_pb2.CreateFeatureRequest(\n",
    "                feature=Feature(\n",
    "                    value_type=Feature.ValueType.STRING,\n",
    "                    description=\"if uses tech support\",\n",
    "                    monitoring_config= fmc,\n",
    "                    labels=[(\"no-pii\", \"\"),(\"approved\", \"\")]),\n",
    "                feature_id=\"tech_support\"))\n",
    "\n",
    "features_list_tmp.append(featurestore_service_pb2.CreateFeatureRequest(\n",
    "                feature=Feature(\n",
    "                    value_type=Feature.ValueType.STRING,\n",
    "                    description=\"if has steaming tv service\",\n",
    "                    monitoring_config= fmc,\n",
    "                    labels=[(\"no-pii\", \"\"),(\"approved\", \"\"),(\"validated\", \"\")]),\n",
    "                feature_id=\"streaming_tv\"))\n",
    "\n",
    "features_list_tmp.append(featurestore_service_pb2.CreateFeatureRequest(\n",
    "                feature=Feature(\n",
    "                    value_type=Feature.ValueType.STRING,\n",
    "                    description=\"if has steaming movies\",\n",
    "                    labels=[(\"no-pii\", \"\")]),\n",
    "                feature_id=\"streaming_movies\"))\n",
    "\n",
    "features_list_tmp.append(featurestore_service_pb2.CreateFeatureRequest(\n",
    "                feature=Feature(\n",
    "                    value_type=Feature.ValueType.STRING,\n",
    "                    description=\"type of contract\",\n",
    "                    labels=[(\"no-pii\", \"\")]),\n",
    "                feature_id=\"contract\"))\n",
    "\n",
    "features_list_tmp.append(featurestore_service_pb2.CreateFeatureRequest(\n",
    "                    feature=Feature(value_type=Feature.ValueType.BOOL,\n",
    "                    description=\"Opt in for PaperlessBilling\",\n",
    "                    labels=[(\"no-pii\", \"\")]),\n",
    "                feature_id=\"paperless_billing\"))\n",
    "\n",
    "features_list_tmp.append(featurestore_service_pb2.CreateFeatureRequest(\n",
    "                    feature=Feature(value_type=Feature.ValueType.STRING,\n",
    "                    description=\"what is the payment method\",\n",
    "                    labels=[(\"no-pii\", \"\")]),\n",
    "                feature_id=\"payment_method\"))\n",
    "\n",
    "features_list_tmp.append(featurestore_service_pb2.CreateFeatureRequest(\n",
    "                    feature=Feature(value_type=Feature.ValueType.DOUBLE,\n",
    "                    description=\"average monthly charges\",\n",
    "                    labels=[(\"no-pii\", \"\")]),\n",
    "                feature_id=\"monthly_charges\"))\n",
    "\n",
    "features_list_tmp.append(featurestore_service_pb2.CreateFeatureRequest(\n",
    "                    feature=Feature(value_type=Feature.ValueType.BOOL,\n",
    "                    description=\"if male\",\n",
    "                    labels=[(\"no-pii\", \"\")]),\n",
    "                feature_id=\"male\"))\n",
    "\n",
    "features_list_tmp.append(featurestore_service_pb2.CreateFeatureRequest(\n",
    "                    feature=Feature(value_type=Feature.ValueType.BOOL,\n",
    "                    description=\"if female\",\n",
    "                    labels=[(\"no-pii\", \"\")]),\n",
    "                feature_id=\"female\"))\n",
    "\n",
    "features_list_tmp.append(featurestore_service_pb2.CreateFeatureRequest(\n",
    "                    feature=Feature(value_type=Feature.ValueType.DOUBLE,\n",
    "                    description=\"Monthly chrages Standartised -1 - 1\",\n",
    "                    labels=[(\"no-pii\", \"\")]),\n",
    "                feature_id=\"monthly_charges_std\"))\n",
    "\n",
    "features_list_tmp.append(featurestore_service_pb2.CreateFeatureRequest(\n",
    "                    feature=Feature(value_type=Feature.ValueType.DOUBLE,\n",
    "                    description=\"Total Charges\",\n",
    "                    labels=[(\"no-pii\", \"\")]),\n",
    "                feature_id=\"total_charges\"))\n",
    "\n",
    "\n",
    "features_list_tmp.append(featurestore_service_pb2.CreateFeatureRequest(\n",
    "                    feature=Feature(value_type=Feature.ValueType.DOUBLE,\n",
    "                    description=\"the average monthly spending of customer with similar profile\",\n",
    "                    labels=[(\"no-pii\", \"\")]),\n",
    "                feature_id=\"monthly_charges_avg_customer_clustered\"))\n",
    "\n",
    "    \n",
    "    \n",
    "try:\n",
    "    features_list = admin_client.batch_create_features(\n",
    "        parent=ENTITY_PATH,\n",
    "        requests=features_list_tmp).result()\n",
    "    print(features_list)\n",
    "except Exception as ex:\n",
    "    print(ex)"
   ]
  },
  {
   "cell_type": "markdown",
   "id": "desperate-oxide",
   "metadata": {},
   "source": [
    "## Update Feature"
   ]
  },
  {
   "cell_type": "code",
   "execution_count": null,
   "id": "built-vision",
   "metadata": {},
   "outputs": [],
   "source": [
    "feature =admin_client.get_feature(name=FEATURE_PATH.format('monthly_charges'))\n",
    "feature"
   ]
  },
  {
   "cell_type": "code",
   "execution_count": null,
   "id": "headed-wagner",
   "metadata": {},
   "outputs": [],
   "source": [
    "tmp_list = list(feature.labels.items())\n",
    "tmp_list.append((\"bm\", \"12\"))\n",
    "feature.labels=tmp_list\n",
    "feature.monitoring_config= fmc"
   ]
  },
  {
   "cell_type": "code",
   "execution_count": null,
   "id": "organized-figure",
   "metadata": {},
   "outputs": [],
   "source": [
    "admin_client.update_feature(\n",
    "    featurestore_service_pb2.UpdateFeatureRequest(feature=feature)\n",
    ")"
   ]
  },
  {
   "cell_type": "markdown",
   "id": "taken-mystery",
   "metadata": {},
   "source": [
    "## Delete Feature"
   ]
  },
  {
   "cell_type": "code",
   "execution_count": null,
   "id": "secure-arrangement",
   "metadata": {},
   "outputs": [],
   "source": [
    "\"\"\"\n",
    "try:\n",
    "    admin_client.delete_feature(name=FEATURE_PATH.format('monthly_charges')).result()\n",
    "except Exception as ex:\n",
    "    print(ex)\n",
    "\"\"\""
   ]
  },
  {
   "cell_type": "markdown",
   "id": "grave-nightlife",
   "metadata": {},
   "source": [
    "## Search Features"
   ]
  },
  {
   "cell_type": "markdown",
   "id": "compatible-monitoring",
   "metadata": {},
   "source": [
    "-  ``feature_id``: Supports = comparisons.\n",
    "-  ``description``: Supports = comparisons. Multi-token filters should be enclosed in quotes.\n",
    "-  ``entity_type_id``: Supports = comparisons.\n",
    "-  ``value_type``: Supports = and != comparisons.\n",
    "-  ``labels``: Supports key-value equality as well as key presence.\n",
    "-  ``featurestore_id``: Supports = comparisons."
   ]
  },
  {
   "cell_type": "code",
   "execution_count": null,
   "id": "imported-charter",
   "metadata": {},
   "outputs": [],
   "source": [
    "admin_client.search_features(location=LOC_PATH)"
   ]
  },
  {
   "cell_type": "code",
   "execution_count": null,
   "id": "secret-compensation",
   "metadata": {},
   "outputs": [],
   "source": [
    "q=\"featurestore_id={}\".format(FEATURESTORE_ID)\n",
    "admin_client.search_features(\n",
    "        featurestore_service_pb2.SearchFeaturesRequest(\n",
    "            location=LOC_PATH, query=q, page_size=2, page_token=\"\" ))"
   ]
  },
  {
   "cell_type": "code",
   "execution_count": null,
   "id": "radio-wagon",
   "metadata": {},
   "outputs": [],
   "source": [
    "q=\"\"\"\n",
    "    feature_id=monthly_charges AND \n",
    "    value_type=DOUBLE AND \n",
    "    featurestore_id={}\n",
    "\"\"\".format(FEATURESTORE_ID)\n",
    "\n",
    "admin_client.search_features(\n",
    "        featurestore_service_pb2.SearchFeaturesRequest(\n",
    "            location=LOC_PATH, query=q, page_size=5))"
   ]
  },
  {
   "cell_type": "code",
   "execution_count": null,
   "id": "international-exploration",
   "metadata": {},
   "outputs": [],
   "source": []
  }
 ],
 "metadata": {
  "environment": {
   "name": "common-cpu.mnightly-2021-02-02-debian-10-test",
   "type": "gcloud",
   "uri": "gcr.io/deeplearning-platform-release/base-cpu:mnightly-2021-02-02-debian-10-test"
  },
  "kernelspec": {
   "display_name": "Python 3",
   "language": "python",
   "name": "python3"
  },
  "language_info": {
   "codemirror_mode": {
    "name": "ipython",
    "version": 3
   },
   "file_extension": ".py",
   "mimetype": "text/x-python",
   "name": "python",
   "nbconvert_exporter": "python",
   "pygments_lexer": "ipython3",
   "version": "3.7.9"
  }
 },
 "nbformat": 4,
 "nbformat_minor": 5
}

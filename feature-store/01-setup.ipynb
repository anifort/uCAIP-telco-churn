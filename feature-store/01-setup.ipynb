{
 "cells": [
  {
   "cell_type": "markdown",
   "id": "17bf1cdb",
   "metadata": {},
   "source": [
    "# Featurestore - Mars21\n",
    "## Feature Store Setup\n",
    "Christos Aniftos \\\n",
    "Soeren Petersen"
   ]
  },
  {
   "cell_type": "markdown",
   "id": "296c0d3e",
   "metadata": {},
   "source": [
    "## Install required libraries"
   ]
  },
  {
   "cell_type": "markdown",
   "id": "21d62c50",
   "metadata": {},
   "source": [
    "## Import modules"
   ]
  },
  {
   "cell_type": "code",
   "execution_count": 14,
   "id": "6cfdfec5",
   "metadata": {},
   "outputs": [],
   "source": [
    "from google.cloud import aiplatform"
   ]
  },
  {
   "cell_type": "code",
   "execution_count": 15,
   "id": "8ebe87ee",
   "metadata": {},
   "outputs": [],
   "source": [
    "from google.api_core import operations_v1\n",
    "from google.cloud.aiplatform_v1beta1.types import io as io_pb2\n",
    "from google.cloud.aiplatform_v1beta1.types import FeaturestoreMonitoringConfig\n",
    "from google.cloud.aiplatform_v1beta1.types.feature import Feature\n",
    "from google.cloud.aiplatform_v1beta1 import FeaturestoreServiceClient\n",
    "from google.cloud.aiplatform_v1beta1 import FeaturestoreOnlineServingServiceClient\n",
    "from google.cloud.aiplatform_v1beta1.types import entity_type as entity_type_pb2\n",
    "from google.cloud.aiplatform_v1beta1.types import featurestore as featurestore_pb2\n",
    "from google.cloud.aiplatform_v1beta1.types import feature_selector as feature_selector_pb2\n",
    "from google.cloud.aiplatform_v1beta1.types import featurestore_service as featurestore_service_pb2\n",
    "from google.cloud.aiplatform_v1beta1.types import featurestore_online_service as featurestore_online_service_pb2"
   ]
  },
  {
   "cell_type": "code",
   "execution_count": 4,
   "id": "8d985893",
   "metadata": {},
   "outputs": [],
   "source": [
    "PROJECT_ID = \"feature-store-mars21\" # Change to your project id\n",
    "LOCATION = \"us-central1\" \n",
    "API_ENDPOINT = LOCATION+\"-aiplatform.googleapis.com\" \n",
    "FEATURESTORE_ID = \"universe\"\n",
    "ENTITY=\"customer\""
   ]
  },
  {
   "cell_type": "markdown",
   "id": "5df1e732",
   "metadata": {},
   "source": [
    "## Define clients for FS admin and data management"
   ]
  },
  {
   "cell_type": "code",
   "execution_count": 5,
   "id": "5b067f8c",
   "metadata": {},
   "outputs": [],
   "source": [
    "# Create admin_client for CRUD\n",
    "admin_client = FeaturestoreServiceClient(\n",
    "    client_options={\"api_endpoint\": API_ENDPOINT})"
   ]
  },
  {
   "cell_type": "code",
   "execution_count": 6,
   "id": "9cf2319c",
   "metadata": {},
   "outputs": [
    {
     "name": "stdout",
     "output_type": "stream",
     "text": [
      "Location: \t projects/feature-store-mars21/locations/us-central1\n",
      "Feature Store: \t projects/feature-store-mars21/locations/us-central1/featurestores/universe\n",
      "Entity: \t projects/feature-store-mars21/locations/us-central1/featurestores/universe/entityTypes/customer\n",
      "Feature: \t projects/feature-store-mars21/locations/us-central1/featurestores/universe/entityTypes/customer/features/{}\n"
     ]
    }
   ],
   "source": [
    "LOC_PATH = admin_client.common_location_path(PROJECT_ID, LOCATION)\n",
    "FS_PATH = admin_client.featurestore_path(PROJECT_ID, LOCATION, FEATURESTORE_ID)\n",
    "ENTITY_PATH = admin_client.entity_type_path(PROJECT_ID, LOCATION, FEATURESTORE_ID, ENTITY)\n",
    "FEATURE_PATH = admin_client.feature_path(PROJECT_ID, LOCATION, FEATURESTORE_ID, ENTITY, '{}')\n",
    "\n",
    "print(\"Location: \\t\", LOC_PATH)\n",
    "print(\"Feature Store: \\t\", FS_PATH)\n",
    "print(\"Entity: \\t\", ENTITY_PATH)\n",
    "print(\"Feature: \\t\",FEATURE_PATH)"
   ]
  },
  {
   "cell_type": "code",
   "execution_count": 14,
   "id": "286387d4",
   "metadata": {},
   "outputs": [],
   "source": [
    "# Create operation client to poll LRO status.\n",
    "#lro_client = operations_v1.OperationsClient(admin_client.transport.grpc_channel)"
   ]
  },
  {
   "cell_type": "markdown",
   "id": "f46d5c2a",
   "metadata": {},
   "source": [
    "## Create FeatureStore"
   ]
  },
  {
   "cell_type": "code",
   "execution_count": 15,
   "id": "f4eedf2b",
   "metadata": {},
   "outputs": [
    {
     "data": {
      "text/plain": [
       "name: \"projects/202835066335/locations/us-central1/featurestores/universe\""
      ]
     },
     "execution_count": 15,
     "metadata": {},
     "output_type": "execute_result"
    }
   ],
   "source": [
    "new_feature_store = featurestore_pb2.Featurestore(\n",
    "            online_serving_config=featurestore_pb2.Featurestore.OnlineServingConfig(\n",
    "                fixed_node_count=1 # The number of nodes for each cluster (bigtable)\n",
    "            )\n",
    "        )\n",
    "try:\n",
    "    print(\n",
    "        admin_client.create_featurestore(\n",
    "            featurestore_service_pb2.CreateFeaturestoreRequest(\n",
    "                parent=LOC_PATH,\n",
    "                featurestore_id=FEATURESTORE_ID,\n",
    "                featurestore= new_feature_store\n",
    "            )\n",
    "        ).result()\n",
    "    )\n",
    "except Exception as ex:\n",
    "    print(ex)"
   ]
  },
  {
   "cell_type": "markdown",
   "id": "ad59b167",
   "metadata": {},
   "source": [
    " ## List all Feature Stores"
   ]
  },
  {
   "cell_type": "code",
   "execution_count": 7,
   "id": "8877c042",
   "metadata": {},
   "outputs": [
    {
     "data": {
      "text/plain": [
       "[name: \"projects/202835066335/locations/us-central1/featurestores/universe\"\n",
       " create_time {\n",
       "   seconds: 1629202045\n",
       "   nanos: 67779000\n",
       " }\n",
       " update_time {\n",
       "   seconds: 1629416502\n",
       "   nanos: 685422000\n",
       " }\n",
       " etag: \"AMEw9yPBZRLTYXs6mTkVmurAuj_1jWOPJYh773b3w2bPGqTwiIElMRiNyThugfo6-qXk\"\n",
       " online_serving_config {\n",
       "   fixed_node_count: 1\n",
       " }\n",
       " state: STABLE]"
      ]
     },
     "execution_count": 7,
     "metadata": {},
     "output_type": "execute_result"
    }
   ],
   "source": [
    "list(admin_client.list_featurestores(parent=LOC_PATH))"
   ]
  },
  {
   "cell_type": "markdown",
   "id": "a59be797",
   "metadata": {},
   "source": [
    "## Get Feature store by name"
   ]
  },
  {
   "cell_type": "code",
   "execution_count": 8,
   "id": "cc15daea",
   "metadata": {},
   "outputs": [
    {
     "data": {
      "text/plain": [
       "name: \"projects/202835066335/locations/us-central1/featurestores/universe\"\n",
       "create_time {\n",
       "  seconds: 1629202045\n",
       "  nanos: 67779000\n",
       "}\n",
       "update_time {\n",
       "  seconds: 1629416502\n",
       "  nanos: 685422000\n",
       "}\n",
       "etag: \"AMEw9yPSjuqLfFPC0E0Gsuq850Dy89Bj0MZfmsbF3gmfx2tNAuQjJF7rJYvtUOZYk2u7\"\n",
       "online_serving_config {\n",
       "  fixed_node_count: 1\n",
       "}\n",
       "state: STABLE"
      ]
     },
     "execution_count": 8,
     "metadata": {},
     "output_type": "execute_result"
    }
   ],
   "source": [
    "try:\n",
    "    feature_store_obj = admin_client.get_featurestore(name = FS_PATH)\n",
    "except Exception as ex:\n",
    "    print(ex)\n",
    "feature_store_obj"
   ]
  },
  {
   "cell_type": "markdown",
   "id": "6f36ef22",
   "metadata": {},
   "source": [
    "### Update feature store (changing online serving nodes)"
   ]
  },
  {
   "cell_type": "code",
   "execution_count": 9,
   "id": "4d2905e3",
   "metadata": {},
   "outputs": [
    {
     "data": {
      "text/plain": [
       "<google.api_core.operation.Operation at 0x7f6de4341e90>"
      ]
     },
     "execution_count": 9,
     "metadata": {},
     "output_type": "execute_result"
    }
   ],
   "source": [
    "feature_store_obj.online_serving_config.fixed_node_count=1\n",
    "admin_client.update_featurestore(\n",
    "    featurestore_service_pb2.UpdateFeaturestoreRequest(featurestore=feature_store_obj)\n",
    ")"
   ]
  },
  {
   "cell_type": "markdown",
   "id": "91645f8c",
   "metadata": {},
   "source": [
    "## Create a feature store Entity"
   ]
  },
  {
   "cell_type": "code",
   "execution_count": 10,
   "id": "0dab0b1c",
   "metadata": {},
   "outputs": [
    {
     "name": "stdout",
     "output_type": "stream",
     "text": [
      "name: \"projects/202835066335/locations/us-central1/featurestores/universe/entityTypes/customer\"\n",
      "etag: \"AMEw9yOknVfCmMFgVv-cmAPsOZwpypS5M-utDLiPIBB0Ypx4Pyc6\"\n",
      "\n"
     ]
    }
   ],
   "source": [
    "try:\n",
    "    entity_type_obj = admin_client.create_entity_type(\n",
    "        featurestore_service_pb2.CreateEntityTypeRequest(\n",
    "            parent=FS_PATH,\n",
    "            entity_type_id=ENTITY, \n",
    "            entity_type=entity_type_pb2.EntityType(description=\"customer features\"))).result()\n",
    "    print(entity_type_obj)\n",
    "except Exception as ex:\n",
    "    print(ex)"
   ]
  },
  {
   "cell_type": "code",
   "execution_count": 11,
   "id": "31663e3a",
   "metadata": {},
   "outputs": [
    {
     "data": {
      "text/plain": [
       "google.cloud.aiplatform_v1beta1.types.entity_type.EntityType"
      ]
     },
     "execution_count": 11,
     "metadata": {},
     "output_type": "execute_result"
    }
   ],
   "source": [
    "type(entity_type_obj)"
   ]
  },
  {
   "cell_type": "code",
   "execution_count": 12,
   "id": "ee561c8b",
   "metadata": {},
   "outputs": [
    {
     "data": {
      "text/plain": [
       "snapshot_analysis {\n",
       "  monitoring_interval {\n",
       "    seconds: 60\n",
       "  }\n",
       "}"
      ]
     },
     "execution_count": 12,
     "metadata": {},
     "output_type": "execute_result"
    }
   ],
   "source": [
    "from google.protobuf import duration_pb2 as duration \n",
    "\n",
    "duration = duration.Duration()\n",
    "duration.FromSeconds(seconds=60)\n",
    "\n",
    "\n",
    "fmc=FeaturestoreMonitoringConfig(\n",
    "    snapshot_analysis = FeaturestoreMonitoringConfig.SnapshotAnalysis(disabled=False, monitoring_interval = duration))\n",
    "fmc"
   ]
  },
  {
   "cell_type": "code",
   "execution_count": 13,
   "id": "60bad68e",
   "metadata": {},
   "outputs": [],
   "source": [
    "entity_type_obj.monitoring_config= fmc\n",
    "entity_type_obj = admin_client.update_entity_type(featurestore_service_pb2.UpdateEntityTypeRequest(\n",
    "            entity_type=entity_type_pb2.EntityType(name=entity_type_obj.name)),\n",
    "            )"
   ]
  },
  {
   "cell_type": "markdown",
   "id": "47e00dca",
   "metadata": {},
   "source": [
    "## Create features in batch"
   ]
  },
  {
   "cell_type": "code",
   "execution_count": 23,
   "id": "f360b0a2",
   "metadata": {},
   "outputs": [
    {
     "name": "stdout",
     "output_type": "stream",
     "text": [
      "features {\n",
      "  name: \"projects/202835066335/locations/us-central1/featurestores/universe/entityTypes/planets/features/ls\"\n",
      "  etag: \"AMEw9yM0tXiW24AnP1LBYf81wptyYS9ksETfNZr7WCJ162mRLFlU\"\n",
      "}\n",
      "features {\n",
      "  name: \"projects/202835066335/locations/us-central1/featurestores/universe/entityTypes/planets/features/month\"\n",
      "  etag: \"AMEw9yMucEqHsDqNcR7V6DSHQyJXHVphQCrfJqkcUFTAY2kbe9hS\"\n",
      "}\n",
      "features {\n",
      "  name: \"projects/202835066335/locations/us-central1/featurestores/universe/entityTypes/planets/features/max_temp\"\n",
      "  etag: \"AMEw9yMLrEmQIX-Z-bZJMPBicdWbvV9D-Xe6lFKyTbbLV4jzCwfM\"\n",
      "}\n",
      "features {\n",
      "  name: \"projects/202835066335/locations/us-central1/featurestores/universe/entityTypes/planets/features/min_temp\"\n",
      "  etag: \"AMEw9yNGTJ0UigaSuha9bVjYHL5VURDQNWhijg6RpxWyGoSWQQrS\"\n",
      "}\n",
      "features {\n",
      "  name: \"projects/202835066335/locations/us-central1/featurestores/universe/entityTypes/planets/features/pressure\"\n",
      "  etag: \"AMEw9yNBvkvW6Ss8sUXg61VF8KM_2kjkVd__SoFhwwbXSxfIAaJW\"\n",
      "}\n",
      "features {\n",
      "  name: \"projects/202835066335/locations/us-central1/featurestores/universe/entityTypes/planets/features/atmo_opacity\"\n",
      "  etag: \"AMEw9yOuc1dmo5QwiZivcTvl8rYEMtT8Z1LRVw6tqi2js0P_2Hsa\"\n",
      "}\n",
      "features {\n",
      "  name: \"projects/202835066335/locations/us-central1/featurestores/universe/entityTypes/planets/features/max_temp_std\"\n",
      "  etag: \"AMEw9yO5-kyryrA4w2ItsdiDRebm6tlCMrCqmGw0CsQLE_YjsvrE\"\n",
      "}\n",
      "features {\n",
      "  name: \"projects/202835066335/locations/us-central1/featurestores/universe/entityTypes/planets/features/min_temp_std\"\n",
      "  etag: \"AMEw9yNH-0bjxJhK78CI9KTVMjb0UxeEB9IVP38UXVzz93JKD0ed\"\n",
      "}\n",
      "features {\n",
      "  name: \"projects/202835066335/locations/us-central1/featurestores/universe/entityTypes/planets/features/pressure_std\"\n",
      "  etag: \"AMEw9yN5NuXoMEv44IoNmIc9oD24GGB-7qGmodEPik28OpCnVXM7\"\n",
      "}\n",
      "features {\n",
      "  name: \"projects/202835066335/locations/us-central1/featurestores/universe/entityTypes/planets/features/avg_pressure_5d\"\n",
      "  etag: \"AMEw9yOZD-RHki78xjoK-2-bAOnhRbD3LlRQsRykZ5OgrTKPugW3\"\n",
      "}\n",
      "features {\n",
      "  name: \"projects/202835066335/locations/us-central1/featurestores/universe/entityTypes/planets/features/avg_min_temp_5d\"\n",
      "  etag: \"AMEw9yMKFKAVNQA60LdOLE9F-klbsHF0U4d5wgBEQKsEFd2DVeUs\"\n",
      "}\n",
      "features {\n",
      "  name: \"projects/202835066335/locations/us-central1/featurestores/universe/entityTypes/planets/features/avg_max_temp_5d\"\n",
      "  etag: \"AMEw9yN3bzgfoFTYo9xp4981YTgmjcgdpWlSIEvaxi2aYo6N1CM8\"\n",
      "}\n",
      "features {\n",
      "  name: \"projects/202835066335/locations/us-central1/featurestores/universe/entityTypes/planets/features/arr_pressure_3d\"\n",
      "  etag: \"AMEw9yMCiN2U-X7OyEhiTaht5cfA7F3URlS_aZ0_CoK9vRkBIaUX\"\n",
      "}\n",
      "features {\n",
      "  name: \"projects/202835066335/locations/us-central1/featurestores/universe/entityTypes/planets/features/arr_min_temp_3d\"\n",
      "  etag: \"AMEw9yOct2MXsCGEpQo-yC7DfkrVHa3_D2kKkdHIFco7c7cRIFP1\"\n",
      "}\n",
      "features {\n",
      "  name: \"projects/202835066335/locations/us-central1/featurestores/universe/entityTypes/planets/features/arr_max_temp_3d\"\n",
      "  etag: \"AMEw9yMnQRVY4L86rUEn-T1uEFBIQvbn8HGY429oqRcUSPLXXkyY\"\n",
      "}\n",
      "\n"
     ]
    }
   ],
   "source": [
    "features_list_tmp = []\n",
    "\n",
    "features_list_tmp.append(featurestore_service_pb2.CreateFeatureRequest(\n",
    "                feature=Feature(\n",
    "                    value_type=Feature.ValueType.STRING,\n",
    "                    description=\"gender\",\n",
    "                    monitoring_config= fmc,\n",
    "                    labels=[(\"no-pii\", \"\"),(\"approved\", \"\")]),\n",
    "                feature_id=\"gender\"))\n",
    "\n",
    "features_list_tmp.append(featurestore_service_pb2.CreateFeatureRequest(\n",
    "                feature=Feature(\n",
    "                    value_type=Feature.ValueType.BOOL,\n",
    "                    description=\"weather customer is senior citizen \",\n",
    "                    monitoring_config= fmc,\n",
    "                    labels=[(\"no-pii\", \"\"),(\"approved\", \"\")]),\n",
    "                feature_id=\"SeniorCitizen\"))\n",
    "\n",
    "features_list_tmp.append(featurestore_service_pb2.CreateFeatureRequest(\n",
    "                feature=Feature(\n",
    "                    value_type=Feature.ValueType.BOOL,\n",
    "                    description=\"does customer have Partner\",\n",
    "                    monitoring_config= fmc,\n",
    "                    labels=[(\"pii\", \"\"),(\"approved\", \"\")]),\n",
    "                feature_id=\"Partner\"))\n",
    "\n",
    "features_list_tmp.append(featurestore_service_pb2.CreateFeatureRequest(\n",
    "                feature=Feature(\n",
    "                    value_type=Feature.ValueType.BOOL,\n",
    "                    description=\"does customer have Dependents\",\n",
    "                    monitoring_config= fmc,\n",
    "                    labels=[(\"pii\", \"\"),(\"approved\", \"\")]),\n",
    "                feature_id=\"Dependents\"))\n",
    "\n",
    "features_list_tmp.append(featurestore_service_pb2.CreateFeatureRequest(\n",
    "                feature=Feature(\n",
    "                    value_type=Feature.ValueType.INT64,\n",
    "                    description=\"how long he is a custormer for\",\n",
    "                    monitoring_config= fmc,\n",
    "                    labels=[(\"no-pii\", \"\"),(\"approved\", \"\")]),\n",
    "                feature_id=\"tenure\"))\n",
    "\n",
    "features_list_tmp.append(featurestore_service_pb2.CreateFeatureRequest(\n",
    "                feature=Feature(\n",
    "                    value_type=Feature.ValueType.BOOL,\n",
    "                    description=\"is using PhoneService\",\n",
    "                    monitoring_config= fmc,\n",
    "                    labels=[(\"no-pii\", \"\"),(\"approved\", \"\")]),\n",
    "                feature_id=\"PhoneService\"))\n",
    "\n",
    "features_list_tmp.append(featurestore_service_pb2.CreateFeatureRequest(\n",
    "                feature=Feature(\n",
    "                    value_type=Feature.ValueType.STRING,\n",
    "                    description=\"if customer has MultipleLines\",\n",
    "                    monitoring_config= fmc,\n",
    "                    labels=[(\"no-pii\", \"\")]),\n",
    "                feature_id=\"MultipleLines\"))\n",
    "\n",
    "\n",
    "features_list_tmp.append(featurestore_service_pb2.CreateFeatureRequest(\n",
    "                feature=Feature(\n",
    "                    value_type=Feature.ValueType.STRING,\n",
    "                    description=\"if customer has InternetService\",\n",
    "                    monitoring_config= fmc,\n",
    "                    labels=[(\"no-pii\", \"\")]),\n",
    "                feature_id=\"InternetService\"))\n",
    "\n",
    "features_list_tmp.append(featurestore_service_pb2.CreateFeatureRequest(\n",
    "                feature=Feature(\n",
    "                    value_type=Feature.ValueType.STRING,\n",
    "                    description=\"if customer has OnlineSecurity\",\n",
    "                    monitoring_config= fmc,\n",
    "                    labels=[(\"no-pii\", \"\"),(\"approved\", \"\")]),\n",
    "                feature_id=\"OnlineSecurity\"))\n",
    "\n",
    "features_list_tmp.append(featurestore_service_pb2.CreateFeatureRequest(\n",
    "                feature=Feature(\n",
    "                    value_type=Feature.ValueType.STRING,\n",
    "                    description=\"if customer has OnlineBackup\",\n",
    "                    monitoring_config= fmc,\n",
    "                    labels=[(\"no-pii\", \"\"),(\"approved\", \"\")]),\n",
    "                feature_id=\"OnlineBackup\"))\n",
    "\n",
    "features_list_tmp.append(featurestore_service_pb2.CreateFeatureRequest(\n",
    "                feature=Feature(\n",
    "                    value_type=Feature.ValueType.STRING,\n",
    "                    description=\"if has device protection\",\n",
    "                    monitoring_config= fmc,\n",
    "                    labels=[(\"no-pii\", \"\")]),\n",
    "                feature_id=\"DeviceProtection\"))\n",
    "\n",
    "features_list_tmp.append(featurestore_service_pb2.CreateFeatureRequest(\n",
    "                feature=Feature(\n",
    "                    value_type=Feature.ValueType.STRING,\n",
    "                    description=\"if uses tech support\",\n",
    "                    monitoring_config= fmc,\n",
    "                    labels=[(\"no-pii\", \"\"),(\"approved\", \"\")]),\n",
    "                feature_id=\"TechSupport\"))\n",
    "\n",
    "features_list_tmp.append(featurestore_service_pb2.CreateFeatureRequest(\n",
    "                feature=Feature(\n",
    "                    value_type=Feature.ValueType.STRING,\n",
    "                    description=\"if has steaming tv service\",\n",
    "                    monitoring_config= fmc,\n",
    "                    labels=[(\"no-pii\", \"\"),(\"approved\", \"\"),(\"validated\", \"\")]),\n",
    "                feature_id=\"StreamingTV\"))\n",
    "\n",
    "features_list_tmp.append(featurestore_service_pb2.CreateFeatureRequest(\n",
    "                feature=Feature(\n",
    "                    value_type=Feature.ValueType.STRING,\n",
    "                    description=\"if has steaming movies\",\n",
    "                    labels=[(\"no-pii\", \"\")]),\n",
    "                feature_id=\"StreamingMovies\"))\n",
    "\n",
    "features_list_tmp.append(featurestore_service_pb2.CreateFeatureRequest(\n",
    "                feature=Feature(\n",
    "                    value_type=Feature.ValueType.STRING,\n",
    "                    description=\"type of contract\",\n",
    "                    labels=[(\"no-pii\", \"\")]),\n",
    "                feature_id=\"Contract\"))\n",
    "\n",
    "features_list_tmp.append(featurestore_service_pb2.CreateFeatureRequest(\n",
    "                    feature=Feature(value_type=Feature.ValueType.BOOL,\n",
    "                    description=\"Opt in for PaperlessBilling\",\n",
    "                    labels=[(\"no-pii\", \"\")]),\n",
    "                feature_id=\"PaperlessBilling\"))\n",
    "\n",
    "features_list_tmp.append(featurestore_service_pb2.CreateFeatureRequest(\n",
    "                    feature=Feature(value_type=Feature.ValueType.STRING,\n",
    "                    description=\"what is the payment method\",\n",
    "                    labels=[(\"no-pii\", \"\")]),\n",
    "                feature_id=\"PaymentMethod\"))\n",
    "\n",
    "features_list_tmp.append(featurestore_service_pb2.CreateFeatureRequest(\n",
    "                    feature=Feature(value_type=Feature.ValueType.DOUBLE_ARRAY,\n",
    "                    description=\"average monthly charges\",\n",
    "                    labels=[(\"no-pii\", \"\")]),\n",
    "                feature_id=\"MonthlyCharges\"))\n",
    "\n",
    "features_list_tmp.append(featurestore_service_pb2.CreateFeatureRequest(\n",
    "                    feature=Feature(value_type=Feature.ValueType.BOOL,\n",
    "                    description=\"if male\",\n",
    "                    labels=[(\"no-pii\", \"\")]),\n",
    "                feature_id=\"male\"))\n",
    "\n",
    "features_list_tmp.append(featurestore_service_pb2.CreateFeatureRequest(\n",
    "                    feature=Feature(value_type=Feature.ValueType.BOOL,\n",
    "                    description=\"if female\",\n",
    "                    labels=[(\"no-pii\", \"\")]),\n",
    "                feature_id=\"female\"))\n",
    "\n",
    "features_list_tmp.append(featurestore_service_pb2.CreateFeatureRequest(\n",
    "                    feature=Feature(value_type=Feature.ValueType.DOUBLE,\n",
    "                    description=\"Monthly chrages Standartised -1 - 1\",\n",
    "                    labels=[(\"no-pii\", \"\")]),\n",
    "                feature_id=\"MonthlyCharges_std\"))\n",
    "\n",
    "features_list_tmp.append(featurestore_service_pb2.CreateFeatureRequest(\n",
    "                    feature=Feature(value_type=Feature.ValueType.DOUBLE,\n",
    "                    description=\"Total Charges\",\n",
    "                    labels=[(\"no-pii\", \"\")]),\n",
    "                feature_id=\"TotalCharges\"))\n",
    "\n",
    "\n",
    "features_list_tmp.append(featurestore_service_pb2.CreateFeatureRequest(\n",
    "                    feature=Feature(value_type=Feature.ValueType.DOUBLE,\n",
    "                    description=\"the average monthly spending of customer with similar profile\",\n",
    "                    labels=[(\"no-pii\", \"\")]),\n",
    "                feature_id=\"MonthlyCharges_avg_customer_clustered\"))\n",
    "\n",
    "try:\n",
    "    features_list = admin_client.batch_create_features(\n",
    "        parent=ENTITY_PATH,\n",
    "        requests=features_list_tmp).result()\n",
    "    print(features_list)\n",
    "except Exception as ex:\n",
    "    print(ex)"
   ]
  },
  {
   "cell_type": "markdown",
   "id": "b222bfcb",
   "metadata": {},
   "source": [
    "## Update Feature"
   ]
  },
  {
   "cell_type": "code",
   "execution_count": 24,
   "id": "68de85c9",
   "metadata": {},
   "outputs": [
    {
     "data": {
      "text/plain": [
       "name: \"projects/202835066335/locations/us-central1/featurestores/universe/entityTypes/planets/features/atmo_opacity\"\n",
       "description: \"opacity in atmosphere (i.e sunny)\"\n",
       "value_type: STRING\n",
       "create_time {\n",
       "  seconds: 1629202061\n",
       "  nanos: 857196000\n",
       "}\n",
       "update_time {\n",
       "  seconds: 1629202061\n",
       "  nanos: 857196000\n",
       "}\n",
       "labels {\n",
       "  key: \"no-pii\"\n",
       "  value: \"\"\n",
       "}\n",
       "etag: \"AMEw9yOBVsC1OSbtOzks3GC3YsMpG9SGIqJ0y2yX0-xRD1ScDX4HW-7ImeaFzVsjOT7H\"\n",
       "monitoring_config {\n",
       "  snapshot_analysis {\n",
       "    monitoring_interval {\n",
       "      seconds: 86400\n",
       "    }\n",
       "    monitoring_interval_days: 1\n",
       "  }\n",
       "}"
      ]
     },
     "execution_count": 24,
     "metadata": {},
     "output_type": "execute_result"
    }
   ],
   "source": [
    "feature =admin_client.get_feature(name=FEATURE_PATH.format('MonthlyCharges'))\n",
    "feature"
   ]
  },
  {
   "cell_type": "code",
   "execution_count": 25,
   "id": "12316e28",
   "metadata": {},
   "outputs": [],
   "source": [
    "tmp_list = list(feature.labels.items())\n",
    "tmp_list.append((\"approved\", \"\"))\n",
    "feature.labels=tmp_list\n",
    "feature.monitoring_config= fmc"
   ]
  },
  {
   "cell_type": "code",
   "execution_count": 26,
   "id": "df55e79d",
   "metadata": {},
   "outputs": [
    {
     "data": {
      "text/plain": [
       "name: \"projects/202835066335/locations/us-central1/featurestores/universe/entityTypes/planets/features/atmo_opacity\"\n",
       "description: \"opacity in atmosphere (i.e sunny)\"\n",
       "value_type: STRING\n",
       "create_time {\n",
       "  seconds: 1629202061\n",
       "  nanos: 857196000\n",
       "}\n",
       "update_time {\n",
       "  seconds: 1629202063\n",
       "  nanos: 287767000\n",
       "}\n",
       "labels {\n",
       "  key: \"approved\"\n",
       "  value: \"\"\n",
       "}\n",
       "labels {\n",
       "  key: \"no-pii\"\n",
       "  value: \"\"\n",
       "}\n",
       "etag: \"AMEw9yNlh4DkYxdNFpeJvKZyoDXQEn8PiDz-a2GogHC6EQZAa67TIUv5qxv8IgiBJqJA\"\n",
       "monitoring_config {\n",
       "  snapshot_analysis {\n",
       "    monitoring_interval {\n",
       "      seconds: 86400\n",
       "    }\n",
       "    monitoring_interval_days: 1\n",
       "  }\n",
       "}"
      ]
     },
     "execution_count": 26,
     "metadata": {},
     "output_type": "execute_result"
    }
   ],
   "source": [
    "admin_client.update_feature(\n",
    "    featurestore_service_pb2.UpdateFeatureRequest(feature=feature)\n",
    ")"
   ]
  },
  {
   "cell_type": "markdown",
   "id": "cf2fc50f",
   "metadata": {},
   "source": [
    "## Delete Feature"
   ]
  },
  {
   "cell_type": "code",
   "execution_count": 27,
   "id": "c7de6675",
   "metadata": {},
   "outputs": [],
   "source": [
    "#try:\n",
    "#    admin_client.delete_feature(name=FEATURE_PATH.format('last_five_max_temp')).result()\n",
    "#except Exception as ex:\n",
    "#    print(ex)"
   ]
  },
  {
   "cell_type": "markdown",
   "id": "a0457fe9",
   "metadata": {},
   "source": [
    "## Search Features"
   ]
  },
  {
   "cell_type": "markdown",
   "id": "30d5b148",
   "metadata": {},
   "source": [
    "-  ``feature_id``: Supports = comparisons.\n",
    "-  ``description``: Supports = comparisons. Multi-token filters should be enclosed in quotes.\n",
    "-  ``entity_type_id``: Supports = comparisons.\n",
    "-  ``value_type``: Supports = and != comparisons.\n",
    "-  ``labels``: Supports key-value equality as well as key presence.\n",
    "-  ``featurestore_id``: Supports = comparisons."
   ]
  },
  {
   "cell_type": "code",
   "execution_count": 28,
   "id": "25044b83",
   "metadata": {},
   "outputs": [
    {
     "data": {
      "text/plain": [
       "SearchFeaturesPager<features {\n",
       "  name: \"projects/202835066335/locations/us-central1/featurestores/universe/entityTypes/planets/features/arr_max_temp_3d\"\n",
       "  description: \"array containing last 3 max temperatures\"\n",
       "  create_time {\n",
       "    seconds: 1629202061\n",
       "    nanos: 875339000\n",
       "  }\n",
       "  update_time {\n",
       "    seconds: 1629202061\n",
       "    nanos: 875339000\n",
       "  }\n",
       "  labels {\n",
       "    key: \"no-pii\"\n",
       "    value: \"\"\n",
       "  }\n",
       "}\n",
       "features {\n",
       "  name: \"projects/202835066335/locations/us-central1/featurestores/universe/entityTypes/planets/features/arr_min_temp_3d\"\n",
       "  description: \"array containing last 3 min temperatures\"\n",
       "  create_time {\n",
       "    seconds: 1629202061\n",
       "    nanos: 873703000\n",
       "  }\n",
       "  update_time {\n",
       "    seconds: 1629202061\n",
       "    nanos: 873703000\n",
       "  }\n",
       "  labels {\n",
       "    key: \"no-pii\"\n",
       "    value: \"\"\n",
       "  }\n",
       "}\n",
       "features {\n",
       "  name: \"projects/202835066335/locations/us-central1/featurestores/universe/entityTypes/planets/features/arr_pressure_3d\"\n",
       "  description: \"array containing last 3 atmospheric pressures\"\n",
       "  create_time {\n",
       "    seconds: 1629202061\n",
       "    nanos: 872103000\n",
       "  }\n",
       "  update_time {\n",
       "    seconds: 1629202061\n",
       "    nanos: 872103000\n",
       "  }\n",
       "  labels {\n",
       "    key: \"no-pii\"\n",
       "    value: \"\"\n",
       "  }\n",
       "}\n",
       "features {\n",
       "  name: \"projects/202835066335/locations/us-central1/featurestores/universe/entityTypes/planets/features/atmo_opacity\"\n",
       "  description: \"opacity in atmosphere (i.e sunny)\"\n",
       "  create_time {\n",
       "    seconds: 1629202061\n",
       "    nanos: 857196000\n",
       "  }\n",
       "  update_time {\n",
       "    seconds: 1629202063\n",
       "    nanos: 287767000\n",
       "  }\n",
       "  labels {\n",
       "    key: \"approved\"\n",
       "    value: \"\"\n",
       "  }\n",
       "  labels {\n",
       "    key: \"no-pii\"\n",
       "    value: \"\"\n",
       "  }\n",
       "}\n",
       "features {\n",
       "  name: \"projects/202835066335/locations/us-central1/featurestores/universe/entityTypes/planets/features/avg_max_temp_5d\"\n",
       "  description: \"avarage max temperature of last 5 days\"\n",
       "  create_time {\n",
       "    seconds: 1629202061\n",
       "    nanos: 869415000\n",
       "  }\n",
       "  update_time {\n",
       "    seconds: 1629202061\n",
       "    nanos: 869415000\n",
       "  }\n",
       "  labels {\n",
       "    key: \"approved\"\n",
       "    value: \"\"\n",
       "  }\n",
       "  labels {\n",
       "    key: \"no-pii\"\n",
       "    value: \"\"\n",
       "  }\n",
       "  labels {\n",
       "    key: \"validated\"\n",
       "    value: \"\"\n",
       "  }\n",
       "}\n",
       "features {\n",
       "  name: \"projects/202835066335/locations/us-central1/featurestores/universe/entityTypes/planets/features/avg_min_temp_5d\"\n",
       "  description: \"avarage min temperature of last 5 days\"\n",
       "  create_time {\n",
       "    seconds: 1629202061\n",
       "    nanos: 867198000\n",
       "  }\n",
       "  update_time {\n",
       "    seconds: 1629202061\n",
       "    nanos: 867198000\n",
       "  }\n",
       "  labels {\n",
       "    key: \"approved\"\n",
       "    value: \"\"\n",
       "  }\n",
       "  labels {\n",
       "    key: \"no-pii\"\n",
       "    value: \"\"\n",
       "  }\n",
       "}\n",
       "features {\n",
       "  name: \"projects/202835066335/locations/us-central1/featurestores/universe/entityTypes/planets/features/avg_pressure_5d\"\n",
       "  description: \"avarage atmospheric pressure of last 5 days\"\n",
       "  create_time {\n",
       "    seconds: 1629202061\n",
       "    nanos: 865137000\n",
       "  }\n",
       "  update_time {\n",
       "    seconds: 1629202061\n",
       "    nanos: 865137000\n",
       "  }\n",
       "  labels {\n",
       "    key: \"no-pii\"\n",
       "    value: \"\"\n",
       "  }\n",
       "}\n",
       "features {\n",
       "  name: \"projects/202835066335/locations/us-central1/featurestores/universe/entityTypes/planets/features/ls\"\n",
       "  description: \"Mars-Sun angle\"\n",
       "  create_time {\n",
       "    seconds: 1629202061\n",
       "    nanos: 848507000\n",
       "  }\n",
       "  update_time {\n",
       "    seconds: 1629202061\n",
       "    nanos: 848507000\n",
       "  }\n",
       "  labels {\n",
       "    key: \"approved\"\n",
       "    value: \"\"\n",
       "  }\n",
       "  labels {\n",
       "    key: \"no-pii\"\n",
       "    value: \"\"\n",
       "  }\n",
       "}\n",
       "features {\n",
       "  name: \"projects/202835066335/locations/us-central1/featurestores/universe/entityTypes/planets/features/max_temp\"\n",
       "  description: \"maximum temp on the day\"\n",
       "  create_time {\n",
       "    seconds: 1629202061\n",
       "    nanos: 851820000\n",
       "  }\n",
       "  update_time {\n",
       "    seconds: 1629202061\n",
       "    nanos: 851820000\n",
       "  }\n",
       "  labels {\n",
       "    key: \"approved\"\n",
       "    value: \"\"\n",
       "  }\n",
       "  labels {\n",
       "    key: \"no-pii\"\n",
       "    value: \"\"\n",
       "  }\n",
       "}\n",
       "features {\n",
       "  name: \"projects/202835066335/locations/us-central1/featurestores/universe/entityTypes/planets/features/max_temp_std\"\n",
       "  description: \"maximum temp standardized\"\n",
       "  create_time {\n",
       "    seconds: 1629202061\n",
       "    nanos: 859094000\n",
       "  }\n",
       "  update_time {\n",
       "    seconds: 1629202061\n",
       "    nanos: 859094000\n",
       "  }\n",
       "  labels {\n",
       "    key: \"no-pii\"\n",
       "    value: \"\"\n",
       "  }\n",
       "}\n",
       "features {\n",
       "  name: \"projects/202835066335/locations/us-central1/featurestores/universe/entityTypes/planets/features/min_temp\"\n",
       "  description: \"minimum temp on the day\"\n",
       "  create_time {\n",
       "    seconds: 1629202061\n",
       "    nanos: 853460000\n",
       "  }\n",
       "  update_time {\n",
       "    seconds: 1629202061\n",
       "    nanos: 853460000\n",
       "  }\n",
       "  labels {\n",
       "    key: \"approved\"\n",
       "    value: \"\"\n",
       "  }\n",
       "  labels {\n",
       "    key: \"no-pii\"\n",
       "    value: \"\"\n",
       "  }\n",
       "}\n",
       "features {\n",
       "  name: \"projects/202835066335/locations/us-central1/featurestores/universe/entityTypes/planets/features/min_temp_std\"\n",
       "  description: \"minimum temp standardized\"\n",
       "  create_time {\n",
       "    seconds: 1629202061\n",
       "    nanos: 861284000\n",
       "  }\n",
       "  update_time {\n",
       "    seconds: 1629202061\n",
       "    nanos: 861284000\n",
       "  }\n",
       "  labels {\n",
       "    key: \"approved\"\n",
       "    value: \"\"\n",
       "  }\n",
       "  labels {\n",
       "    key: \"no-pii\"\n",
       "    value: \"\"\n",
       "  }\n",
       "}\n",
       "features {\n",
       "  name: \"projects/202835066335/locations/us-central1/featurestores/universe/entityTypes/planets/features/month\"\n",
       "  description: \"month \"\n",
       "  create_time {\n",
       "    seconds: 1629202061\n",
       "    nanos: 850330000\n",
       "  }\n",
       "  update_time {\n",
       "    seconds: 1629202061\n",
       "    nanos: 850330000\n",
       "  }\n",
       "  labels {\n",
       "    key: \"approved\"\n",
       "    value: \"\"\n",
       "  }\n",
       "  labels {\n",
       "    key: \"no-pii\"\n",
       "    value: \"\"\n",
       "  }\n",
       "}\n",
       "features {\n",
       "  name: \"projects/202835066335/locations/us-central1/featurestores/universe/entityTypes/planets/features/pressure\"\n",
       "  description: \"atmospheric pressure\"\n",
       "  create_time {\n",
       "    seconds: 1629202061\n",
       "    nanos: 855078000\n",
       "  }\n",
       "  update_time {\n",
       "    seconds: 1629202061\n",
       "    nanos: 855078000\n",
       "  }\n",
       "  labels {\n",
       "    key: \"approved\"\n",
       "    value: \"\"\n",
       "  }\n",
       "  labels {\n",
       "    key: \"no-pii\"\n",
       "    value: \"\"\n",
       "  }\n",
       "}\n",
       "features {\n",
       "  name: \"projects/202835066335/locations/us-central1/featurestores/universe/entityTypes/planets/features/pressure_std\"\n",
       "  description: \"atmospheric pressure standardized\"\n",
       "  create_time {\n",
       "    seconds: 1629202061\n",
       "    nanos: 863365000\n",
       "  }\n",
       "  update_time {\n",
       "    seconds: 1629202061\n",
       "    nanos: 863365000\n",
       "  }\n",
       "  labels {\n",
       "    key: \"approved\"\n",
       "    value: \"\"\n",
       "  }\n",
       "  labels {\n",
       "    key: \"no-pii\"\n",
       "    value: \"\"\n",
       "  }\n",
       "}\n",
       ">"
      ]
     },
     "execution_count": 28,
     "metadata": {},
     "output_type": "execute_result"
    }
   ],
   "source": [
    "admin_client.search_features(location=LOC_PATH)"
   ]
  },
  {
   "cell_type": "code",
   "execution_count": 17,
   "id": "dea1f408",
   "metadata": {},
   "outputs": [
    {
     "data": {
      "text/plain": [
       "SearchFeaturesPager<features {\n",
       "  name: \"projects/202835066335/locations/us-central1/featurestores/universe/entityTypes/planets/features/arr_max_temp_3d\"\n",
       "  description: \"array containing last 3 max temperatures\"\n",
       "  create_time {\n",
       "    seconds: 1628001829\n",
       "    nanos: 658224000\n",
       "  }\n",
       "  update_time {\n",
       "    seconds: 1628001829\n",
       "    nanos: 658224000\n",
       "  }\n",
       "  labels {\n",
       "    key: \"no-pii\"\n",
       "    value: \"\"\n",
       "  }\n",
       "}\n",
       "features {\n",
       "  name: \"projects/202835066335/locations/us-central1/featurestores/universe/entityTypes/planets/features/arr_min_temp_3d\"\n",
       "  description: \"array containing last 3 min temperatures\"\n",
       "  create_time {\n",
       "    seconds: 1628001829\n",
       "    nanos: 656134000\n",
       "  }\n",
       "  update_time {\n",
       "    seconds: 1628001829\n",
       "    nanos: 656134000\n",
       "  }\n",
       "  labels {\n",
       "    key: \"no-pii\"\n",
       "    value: \"\"\n",
       "  }\n",
       "}\n",
       "next_page_token: \"CoYBCICAgICAgJTnOhJ4QU1Fdzl5TzNfbV8zQm5JVjljeU1kSl9YbFh5c2VKYjNiMEJHT2pocTZqdjAyVGFOMXdSQ212Z2x1bDZFczdDci0weUFUbF81c245eU9wQWpQU0RWcW9hNHpYVDNWWXYzc2U4MC02R1hvQ2MwNlJtZkl2OURPZz09GAI=\"\n",
       ">"
      ]
     },
     "execution_count": 17,
     "metadata": {},
     "output_type": "execute_result"
    }
   ],
   "source": [
    "q=\"featurestore_id={}\".format(FEATURESTORE_ID)\n",
    "admin_client.search_features(\n",
    "        featurestore_service_pb2.SearchFeaturesRequest(\n",
    "            location=LOC_PATH, query=q, page_size=2, page_token=\"\" ))"
   ]
  },
  {
   "cell_type": "code",
   "execution_count": 18,
   "id": "4b9a7e82",
   "metadata": {},
   "outputs": [
    {
     "data": {
      "text/plain": [
       "SearchFeaturesPager<features {\n",
       "  name: \"projects/202835066335/locations/us-central1/featurestores/universe/entityTypes/planets/features/arr_max_temp_3d\"\n",
       "  description: \"array containing last 3 max temperatures\"\n",
       "  create_time {\n",
       "    seconds: 1628001829\n",
       "    nanos: 658224000\n",
       "  }\n",
       "  update_time {\n",
       "    seconds: 1628001829\n",
       "    nanos: 658224000\n",
       "  }\n",
       "  labels {\n",
       "    key: \"no-pii\"\n",
       "    value: \"\"\n",
       "  }\n",
       "}\n",
       ">"
      ]
     },
     "execution_count": 18,
     "metadata": {},
     "output_type": "execute_result"
    }
   ],
   "source": [
    "q=\"\"\"\n",
    "    feature_id=MonthlyCharges AND \n",
    "    value_type=DOUBLE AND \n",
    "    featurestore_id={}\n",
    "\"\"\".format(FEATURESTORE_ID)\n",
    "\n",
    "admin_client.search_features(\n",
    "        featurestore_service_pb2.SearchFeaturesRequest(\n",
    "            location=LOC_PATH, query=q, page_size=5))"
   ]
  },
  {
   "cell_type": "code",
   "execution_count": null,
   "id": "4d77d411",
   "metadata": {},
   "outputs": [],
   "source": []
  }
 ],
 "metadata": {
  "environment": {
   "name": "common-cpu.m69",
   "type": "gcloud",
   "uri": "gcr.io/deeplearning-platform-release/base-cpu:m69"
  },
  "kernelspec": {
   "display_name": "Python 3",
   "language": "python",
   "name": "python3"
  },
  "language_info": {
   "codemirror_mode": {
    "name": "ipython",
    "version": 3
   },
   "file_extension": ".py",
   "mimetype": "text/x-python",
   "name": "python",
   "nbconvert_exporter": "python",
   "pygments_lexer": "ipython3",
   "version": "3.7.10"
  }
 },
 "nbformat": 4,
 "nbformat_minor": 5
}

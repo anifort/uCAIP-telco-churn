{
 "cells": [
  {
   "cell_type": "markdown",
   "id": "environmental-peoples",
   "metadata": {},
   "source": [
    "# Featurestore - Churn Demo\n",
    "## Feature Store Setup\n",
    "Christos Aniftos"
   ]
  },
  {
   "cell_type": "markdown",
   "id": "organized-timothy",
   "metadata": {},
   "source": [
    "## Install required libraries"
   ]
  },
  {
   "cell_type": "markdown",
   "id": "curious-charlotte",
   "metadata": {},
   "source": [
    "## Import modules"
   ]
  },
  {
   "cell_type": "code",
   "execution_count": 15,
   "id": "applied-affair",
   "metadata": {},
   "outputs": [],
   "source": [
    "from google.cloud import aiplatform"
   ]
  },
  {
   "cell_type": "code",
   "execution_count": 16,
   "id": "innocent-rotation",
   "metadata": {},
   "outputs": [],
   "source": [
    "from google.api_core import operations_v1\n",
    "from google.cloud.aiplatform_v1beta1.types import io as io_pb2\n",
    "from google.cloud.aiplatform_v1beta1.types import FeaturestoreMonitoringConfig\n",
    "from google.cloud.aiplatform_v1beta1.types.feature import Feature\n",
    "from google.cloud.aiplatform_v1beta1 import FeaturestoreServiceClient\n",
    "from google.cloud.aiplatform_v1beta1 import FeaturestoreOnlineServingServiceClient\n",
    "from google.cloud.aiplatform_v1beta1.types import entity_type as entity_type_pb2\n",
    "from google.cloud.aiplatform_v1beta1.types import featurestore as featurestore_pb2\n",
    "from google.cloud.aiplatform_v1beta1.types import feature_selector as feature_selector_pb2\n",
    "from google.cloud.aiplatform_v1beta1.types import featurestore_service as featurestore_service_pb2\n",
    "from google.cloud.aiplatform_v1beta1.types import featurestore_online_service as featurestore_online_service_pb2"
   ]
  },
  {
   "cell_type": "code",
   "execution_count": 17,
   "id": "several-transparency",
   "metadata": {},
   "outputs": [],
   "source": [
    "PROJECT_ID=!gcloud config get-value project # returns default project id \n",
    "PROJECT_ID=PROJECT_ID[0]\n",
    "\n",
    "LOCATION = 'europe-west4' \n",
    "API_ENDPOINT = LOCATION+\"-aiplatform.googleapis.com\" \n",
    "FEATURESTORE_ID = \"telco\"\n",
    "ENTITY=\"phone\""
   ]
  },
  {
   "cell_type": "markdown",
   "id": "activated-forestry",
   "metadata": {},
   "source": [
    "## Define clients for FS admin and data management"
   ]
  },
  {
   "cell_type": "code",
   "execution_count": 18,
   "id": "excessive-enlargement",
   "metadata": {},
   "outputs": [],
   "source": [
    "# Create admin_client for CRUD\n",
    "admin_client = FeaturestoreServiceClient(\n",
    "    client_options={\"api_endpoint\": API_ENDPOINT})"
   ]
  },
  {
   "cell_type": "code",
   "execution_count": 19,
   "id": "solid-maryland",
   "metadata": {},
   "outputs": [
    {
     "name": "stdout",
     "output_type": "stream",
     "text": [
      "Location: \t projects/myfirstproject-226013/locations/europe-west4\n",
      "Feature Store: \t projects/myfirstproject-226013/locations/europe-west4/featurestores/universe\n",
      "Entity: \t projects/myfirstproject-226013/locations/europe-west4/featurestores/universe/entityTypes/phone\n",
      "Feature: \t projects/myfirstproject-226013/locations/europe-west4/featurestores/universe/entityTypes/phone/features/{}\n"
     ]
    }
   ],
   "source": [
    "LOC_PATH = admin_client.common_location_path(PROJECT_ID, LOCATION)\n",
    "FS_PATH = admin_client.featurestore_path(PROJECT_ID, LOCATION, FEATURESTORE_ID)\n",
    "ENTITY_PATH = admin_client.entity_type_path(PROJECT_ID, LOCATION, FEATURESTORE_ID, ENTITY)\n",
    "FEATURE_PATH = admin_client.feature_path(PROJECT_ID, LOCATION, FEATURESTORE_ID, ENTITY, '{}')\n",
    "\n",
    "print(\"Location: \\t\", LOC_PATH)\n",
    "print(\"Feature Store: \\t\", FS_PATH)\n",
    "print(\"Entity: \\t\", ENTITY_PATH)\n",
    "print(\"Feature: \\t\",FEATURE_PATH)"
   ]
  },
  {
   "cell_type": "markdown",
   "id": "indie-robert",
   "metadata": {},
   "source": [
    "## Create FeatureStore"
   ]
  },
  {
   "cell_type": "code",
   "execution_count": 20,
   "id": "developed-spell",
   "metadata": {},
   "outputs": [
    {
     "name": "stdout",
     "output_type": "stream",
     "text": [
      "409 Featurestore `universe` already exists in projects/myfirstproject-226013/locations/europe-west4.\n"
     ]
    }
   ],
   "source": [
    "new_feature_store = featurestore_pb2.Featurestore(\n",
    "            online_serving_config=featurestore_pb2.Featurestore.OnlineServingConfig(\n",
    "                fixed_node_count=1 # The number of nodes for each cluster (bigtable)\n",
    "            )\n",
    "        )\n",
    "try:\n",
    "    print(\n",
    "        admin_client.create_featurestore(\n",
    "            featurestore_service_pb2.CreateFeaturestoreRequest(\n",
    "                parent=LOC_PATH,\n",
    "                featurestore_id=FEATURESTORE_ID,\n",
    "                featurestore= new_feature_store\n",
    "            )\n",
    "        ).result()\n",
    "    )\n",
    "except Exception as ex:\n",
    "    print(ex)"
   ]
  },
  {
   "cell_type": "markdown",
   "id": "independent-tomato",
   "metadata": {},
   "source": [
    "## Create a feature store Entity"
   ]
  },
  {
   "cell_type": "code",
   "execution_count": 21,
   "id": "dried-tooth",
   "metadata": {},
   "outputs": [
    {
     "name": "stdout",
     "output_type": "stream",
     "text": [
      "name: \"projects/478111835512/locations/europe-west4/featurestores/universe/entityTypes/phone\"\n",
      "etag: \"AMEw9yPtZ7NaOh8wH00s3cEFxTfTBITEFTTdcSctWTdeFOYFgHTf\"\n",
      "\n"
     ]
    }
   ],
   "source": [
    "try:\n",
    "    entity_type_obj = admin_client.create_entity_type(\n",
    "        featurestore_service_pb2.CreateEntityTypeRequest(\n",
    "            parent=FS_PATH,\n",
    "            entity_type_id=ENTITY, \n",
    "            entity_type=entity_type_pb2.EntityType(description=\"phone features\"))).result()\n",
    "    print(entity_type_obj)\n",
    "except Exception as ex:\n",
    "    print(ex)"
   ]
  },
  {
   "cell_type": "code",
   "execution_count": 22,
   "id": "pursuant-model",
   "metadata": {},
   "outputs": [
    {
     "data": {
      "text/plain": [
       "snapshot_analysis {\n",
       "  monitoring_interval {\n",
       "    seconds: 60\n",
       "  }\n",
       "}"
      ]
     },
     "execution_count": 22,
     "metadata": {},
     "output_type": "execute_result"
    }
   ],
   "source": [
    "from google.protobuf import duration_pb2 as duration \n",
    "\n",
    "duration = duration.Duration()\n",
    "duration.FromSeconds(seconds=60)\n",
    "\n",
    "\n",
    "fmc=FeaturestoreMonitoringConfig(\n",
    "    snapshot_analysis = FeaturestoreMonitoringConfig.SnapshotAnalysis(disabled=False, monitoring_interval = duration))\n",
    "fmc"
   ]
  },
  {
   "cell_type": "code",
   "execution_count": 23,
   "id": "together-assist",
   "metadata": {},
   "outputs": [],
   "source": [
    "entity_type_obj.monitoring_config= fmc\n",
    "entity_type_obj = admin_client.update_entity_type(featurestore_service_pb2.UpdateEntityTypeRequest(\n",
    "            entity_type=entity_type_pb2.EntityType(name=entity_type_obj.name)),\n",
    "            )"
   ]
  },
  {
   "cell_type": "markdown",
   "id": "interracial-costs",
   "metadata": {},
   "source": [
    "## Create features in batch"
   ]
  },
  {
   "cell_type": "code",
   "execution_count": 24,
   "id": "visible-restoration",
   "metadata": {},
   "outputs": [
    {
     "name": "stdout",
     "output_type": "stream",
     "text": [
      "features {\n",
      "  name: \"projects/478111835512/locations/europe-west4/featurestores/universe/entityTypes/phone/features/approx_price_euro\"\n",
      "  etag: \"AMEw9yPxTouoLBTyWBSB3XXGeYvMDNCRG3mj5YeE3-HmLEhxJCH7\"\n",
      "}\n",
      "features {\n",
      "  name: \"projects/478111835512/locations/europe-west4/featurestores/universe/entityTypes/phone/features/brand\"\n",
      "  etag: \"AMEw9yOBmh93CrykIOmEXtOKWZyundZYiWDnq80h7jbozaEMB_56\"\n",
      "}\n",
      "features {\n",
      "  name: \"projects/478111835512/locations/europe-west4/featurestores/universe/entityTypes/phone/features/model\"\n",
      "  etag: \"AMEw9yNpo3hnyF0122huWBXaqHh5OaYcIHZDdHPNw3Fb4xbS1ynH\"\n",
      "}\n",
      "\n"
     ]
    }
   ],
   "source": [
    "features_list_tmp = []\n",
    "\n",
    "features_list_tmp.append(featurestore_service_pb2.CreateFeatureRequest(\n",
    "                feature=Feature(\n",
    "                    value_type=Feature.ValueType.INT64,\n",
    "                    description=\"phone price euro\",\n",
    "                    monitoring_config= fmc,\n",
    "                    labels=[(\"no-pii\", \"\"),(\"approved\", \"\")]),\n",
    "                feature_id=\"approx_price_euro\"))\n",
    "\n",
    "features_list_tmp.append(featurestore_service_pb2.CreateFeatureRequest(\n",
    "                feature=Feature(\n",
    "                    value_type=Feature.ValueType.STRING,\n",
    "                    description=\"phone brand\",\n",
    "                    monitoring_config= fmc,\n",
    "                    labels=[(\"no-pii\", \"\"),(\"approved\", \"\")]),\n",
    "                feature_id=\"brand\"))\n",
    "\n",
    "features_list_tmp.append(featurestore_service_pb2.CreateFeatureRequest(\n",
    "                feature=Feature(\n",
    "                    value_type=Feature.ValueType.STRING,\n",
    "                    description=\"phone model\",\n",
    "                    monitoring_config= fmc,\n",
    "                    labels=[(\"pii\", \"\"),(\"approved\", \"\")]),\n",
    "                feature_id=\"model\"))\n",
    "    \n",
    "try:\n",
    "    features_list = admin_client.batch_create_features(\n",
    "        parent=ENTITY_PATH,\n",
    "        requests=features_list_tmp).result()\n",
    "    print(features_list)\n",
    "except Exception as ex:\n",
    "    print(ex)"
   ]
  },
  {
   "cell_type": "code",
   "execution_count": null,
   "id": "consolidated-muslim",
   "metadata": {},
   "outputs": [],
   "source": []
  }
 ],
 "metadata": {
  "environment": {
   "name": "common-cpu.mnightly-2021-02-02-debian-10-test",
   "type": "gcloud",
   "uri": "gcr.io/deeplearning-platform-release/base-cpu:mnightly-2021-02-02-debian-10-test"
  },
  "kernelspec": {
   "display_name": "Python 3",
   "language": "python",
   "name": "python3"
  },
  "language_info": {
   "codemirror_mode": {
    "name": "ipython",
    "version": 3
   },
   "file_extension": ".py",
   "mimetype": "text/x-python",
   "name": "python",
   "nbconvert_exporter": "python",
   "pygments_lexer": "ipython3",
   "version": "3.7.9"
  }
 },
 "nbformat": 4,
 "nbformat_minor": 5
}

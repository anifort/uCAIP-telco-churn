{
 "cells": [
  {
   "cell_type": "markdown",
   "id": "normal-processing",
   "metadata": {},
   "source": [
    "# Featurestore - Churn Demo\n",
    "## Data Injestion\n",
    "Christos Aniftos"
   ]
  },
  {
   "cell_type": "code",
   "execution_count": 1,
   "id": "specialized-franklin",
   "metadata": {},
   "outputs": [],
   "source": [
    "from google.api_core import operations_v1\n",
    "from google.cloud.aiplatform_v1beta1.types import io as io_pb2\n",
    "from google.cloud.aiplatform_v1beta1.types.feature import Feature\n",
    "from google.cloud.aiplatform_v1beta1 import FeaturestoreServiceClient\n",
    "from google.cloud.aiplatform_v1beta1 import FeaturestoreOnlineServingServiceClient\n",
    "from google.cloud.aiplatform_v1beta1.types import entity_type as entity_type_pb2\n",
    "from google.cloud.aiplatform_v1beta1.types import featurestore as featurestore_pb2\n",
    "from google.cloud.aiplatform_v1beta1.types import feature_selector as feature_selector_pb2\n",
    "from google.cloud.aiplatform_v1beta1.types import featurestore_service as featurestore_service_pb2\n",
    "from google.cloud.aiplatform_v1beta1.types import featurestore_online_service as featurestore_online_service_pb2"
   ]
  },
  {
   "cell_type": "code",
   "execution_count": 2,
   "id": "joint-merchandise",
   "metadata": {},
   "outputs": [],
   "source": [
    "PROJECT_ID=!gcloud config get-value project # returns default project id \n",
    "PROJECT_ID=PROJECT_ID[0]\n",
    "\n",
    "LOCATION = 'europe-west4'\n",
    "API_ENDPOINT = LOCATION+\"-aiplatform.googleapis.com\" \n",
    "FEATURESTORE_ID = \"telco\"\n",
    "ENTITY=\"customer\""
   ]
  },
  {
   "cell_type": "markdown",
   "id": "opponent-sessions",
   "metadata": {},
   "source": [
    "## Define clients for FS admin and data management"
   ]
  },
  {
   "cell_type": "code",
   "execution_count": 3,
   "id": "coordinated-compatibility",
   "metadata": {},
   "outputs": [],
   "source": [
    "# Create admin_client for CRUD \n",
    "admin_client = FeaturestoreServiceClient(\n",
    "    client_options={\"api_endpoint\": API_ENDPOINT})\n"
   ]
  },
  {
   "cell_type": "code",
   "execution_count": 4,
   "id": "exposed-vietnamese",
   "metadata": {},
   "outputs": [
    {
     "name": "stdout",
     "output_type": "stream",
     "text": [
      "Location: \t projects/myfirstproject-226013/locations/europe-west4\n",
      "Feature Store: \t projects/myfirstproject-226013/locations/europe-west4/featurestores/telco\n",
      "Entity: \t projects/myfirstproject-226013/locations/europe-west4/featurestores/telco/entityTypes/customer\n",
      "Feature: \t projects/myfirstproject-226013/locations/europe-west4/featurestores/telco/entityTypes/customer/features/{}\n"
     ]
    }
   ],
   "source": [
    "LOC_PATH = admin_client.common_location_path(PROJECT_ID, LOCATION)\n",
    "FS_PATH = admin_client.featurestore_path(PROJECT_ID, LOCATION, FEATURESTORE_ID)\n",
    "ENTITY_PATH = admin_client.entity_type_path(PROJECT_ID, LOCATION, FEATURESTORE_ID, ENTITY)\n",
    "FEATURE_PATH = admin_client.feature_path(PROJECT_ID, LOCATION, FEATURESTORE_ID, ENTITY, '{}')\n",
    "\n",
    "print(\"Location: \\t\", LOC_PATH)\n",
    "print(\"Feature Store: \\t\", FS_PATH)\n",
    "print(\"Entity: \\t\", ENTITY_PATH)\n",
    "print(\"Feature: \\t\",FEATURE_PATH)"
   ]
  },
  {
   "cell_type": "markdown",
   "id": "absent-finnish",
   "metadata": {},
   "source": [
    "## Injest"
   ]
  },
  {
   "cell_type": "markdown",
   "id": "invisible-rotation",
   "metadata": {},
   "source": [
    "#### prepare aggregated data to injest- this creates a temporary bq table with the features"
   ]
  },
  {
   "cell_type": "code",
   "execution_count": null,
   "id": "interior-potter",
   "metadata": {},
   "outputs": [],
   "source": [
    "from google.cloud import bigquery\n",
    "\n",
    "# Construct a BigQuery client object.\n",
    "client = bigquery.Client()\n",
    "\n",
    "query = \"\"\"\n",
    "CREATE OR REPLACE TABLE `{project_id}.telco.churn_features_tmp` \n",
    "AS SELECT \n",
    "t1.* EXCEPT(TotalCharges, SeniorCitizen),\n",
    "CAST(t1.SeniorCitizen AS BOOL) SeniorCitizen,\n",
    "SAFE_CAST(t1.TotalCharges AS FLOAT64) as TotalCharges, \n",
    "IF(t1.gender='Male',True,False) male,\n",
    "IF(t1.gender='Female',True,False) female,\n",
    "ML.STANDARD_SCALER(t1.MonthlyCharges) OVER() as MonthlyCharges_std,\n",
    "MonthlyCharges_avg_customer_clustered,\n",
    "CURRENT_TIMESTAMP() as update_time \n",
    "FROM `{project_id}.telco.churn` t1\n",
    "LEFT JOIN (SELECT \n",
    "    AVG(MonthlyCharges) MonthlyCharges_avg_customer_clustered,\n",
    "    SeniorCitizen,\n",
    "    Partner,\n",
    "    PhoneService,\n",
    "    InternetService,\n",
    "    DeviceProtection,\n",
    "    TechSupport,\n",
    "    StreamingTV,\n",
    "    StreamingMovies,\n",
    "    PaymentMethod\n",
    "FROM `myfirstproject-226013.telco.churn`  Group by \n",
    "SeniorCitizen,\n",
    "Partner,\n",
    "PhoneService,\n",
    "InternetService,\n",
    "DeviceProtection,\n",
    "TechSupport,\n",
    "StreamingTV,\n",
    "StreamingMovies,\n",
    "PaymentMethod) t2 ON\n",
    "t1.SeniorCitizen=t2.SeniorCitizen AND \n",
    "t1.Partner=t2.Partner AND \n",
    "t1.PhoneService=t2.PhoneService AND \n",
    "t1.InternetService=t2.InternetService AND \n",
    "t1.DeviceProtection=t2.DeviceProtection AND \n",
    "t1.TechSupport=t2.TechSupport AND \n",
    "t1.StreamingTV=t2.StreamingTV AND \n",
    "t1.StreamingMovies=t2.StreamingMovies AND \n",
    "t1.PaymentMethod=t2.PaymentMethod\n",
    "\"\"\".format(project_id=PROJECT_ID)\n",
    "query_job = client.query(query)  # Make an API request."
   ]
  },
  {
   "cell_type": "code",
   "execution_count": null,
   "id": "vanilla-squad",
   "metadata": {},
   "outputs": [],
   "source": [
    "query_job.result()"
   ]
  },
  {
   "cell_type": "markdown",
   "id": "interim-latter",
   "metadata": {},
   "source": [
    "### Supported injest modes\n",
    "\n",
    "avro_source (google.cloud.aiplatform_v1beta1.types.AvroSource):\n",
    "\n",
    "bigquery_source (google.cloud.aiplatform_v1beta1.types.BigQuerySource):\n",
    "\n",
    "csv_source (google.cloud.aiplatform_v1beta1.types.CsvSource):"
   ]
  },
  {
   "cell_type": "code",
   "execution_count": 16,
   "id": "fossil-monkey",
   "metadata": {},
   "outputs": [
    {
     "data": {
      "text/plain": [
       "'projects/myfirstproject-226013/locations/europe-west4/featurestores/universe/entityTypes/customer'"
      ]
     },
     "execution_count": 16,
     "metadata": {},
     "output_type": "execute_result"
    }
   ],
   "source": [
    "ENTITY_PATH"
   ]
  },
  {
   "cell_type": "markdown",
   "id": "pointed-compromise",
   "metadata": {},
   "source": [
    "### Injest from temp table to feature store"
   ]
  },
  {
   "cell_type": "code",
   "execution_count": 17,
   "id": "touched-planner",
   "metadata": {},
   "outputs": [],
   "source": [
    "import_request = featurestore_service_pb2.ImportFeatureValuesRequest(\n",
    "    entity_type=ENTITY_PATH,\n",
    "    bigquery_source=io_pb2.BigQuerySource(\n",
    "        input_uri=\"bq://{project_id}.telco.churn_features_tmp\".format(project_id=PROJECT_ID)\n",
    "    ),\n",
    "    feature_specs=[\n",
    "        featurestore_service_pb2.ImportFeatureValuesRequest.FeatureSpec(\n",
    "            id=\"gender\", source_field=\"gender\"),\n",
    "        featurestore_service_pb2.ImportFeatureValuesRequest.FeatureSpec(\n",
    "            id=\"senior_citizen\", source_field=\"SeniorCitizen\"),\n",
    "        featurestore_service_pb2.ImportFeatureValuesRequest.FeatureSpec(\n",
    "            id=\"partner\", source_field=\"Partner\"),\n",
    "        featurestore_service_pb2.ImportFeatureValuesRequest.FeatureSpec(\n",
    "            id=\"dependents\", source_field=\"Dependents\"),\n",
    "        featurestore_service_pb2.ImportFeatureValuesRequest.FeatureSpec(\n",
    "            id=\"tenure\", source_field=\"tenure\"),\n",
    "        featurestore_service_pb2.ImportFeatureValuesRequest.FeatureSpec(\n",
    "            id=\"phone_service\", source_field=\"PhoneService\"),\n",
    "        featurestore_service_pb2.ImportFeatureValuesRequest.FeatureSpec(\n",
    "            id=\"multiple_lines\", source_field=\"MultipleLines\"),\n",
    "        featurestore_service_pb2.ImportFeatureValuesRequest.FeatureSpec(\n",
    "            id=\"internet_service\", source_field=\"InternetService\"),\n",
    "        featurestore_service_pb2.ImportFeatureValuesRequest.FeatureSpec(\n",
    "            id=\"online_security\", source_field=\"OnlineSecurity\"),\n",
    "        featurestore_service_pb2.ImportFeatureValuesRequest.FeatureSpec(\n",
    "            id=\"online_backup\", source_field=\"OnlineBackup\"),\n",
    "        featurestore_service_pb2.ImportFeatureValuesRequest.FeatureSpec(\n",
    "            id=\"device_protection\", source_field=\"DeviceProtection\"),\n",
    "        featurestore_service_pb2.ImportFeatureValuesRequest.FeatureSpec(\n",
    "            id=\"tech_support\", source_field=\"TechSupport\"),\n",
    "        featurestore_service_pb2.ImportFeatureValuesRequest.FeatureSpec(\n",
    "            id=\"streaming_tv\", source_field=\"StreamingTV\"),\n",
    "        featurestore_service_pb2.ImportFeatureValuesRequest.FeatureSpec(\n",
    "            id=\"streaming_movies\", source_field=\"StreamingMovies\"),\n",
    "        featurestore_service_pb2.ImportFeatureValuesRequest.FeatureSpec(\n",
    "            id=\"contract\", source_field=\"Contract\"),\n",
    "        featurestore_service_pb2.ImportFeatureValuesRequest.FeatureSpec(\n",
    "            id=\"paperless_billing\", source_field=\"PaperlessBilling\"),\n",
    "        featurestore_service_pb2.ImportFeatureValuesRequest.FeatureSpec(\n",
    "            id=\"payment_method\", source_field=\"PaymentMethod\"),\n",
    "        featurestore_service_pb2.ImportFeatureValuesRequest.FeatureSpec(\n",
    "            id=\"monthly_charges\", source_field=\"MonthlyCharges\"),\n",
    "        featurestore_service_pb2.ImportFeatureValuesRequest.FeatureSpec(\n",
    "            id=\"male\", source_field=\"male\"),\n",
    "        featurestore_service_pb2.ImportFeatureValuesRequest.FeatureSpec(\n",
    "            id=\"female\", source_field=\"female\"),\n",
    "        featurestore_service_pb2.ImportFeatureValuesRequest.FeatureSpec(\n",
    "            id=\"monthly_charges_std\", source_field=\"MonthlyCharges_std\"),\n",
    "        featurestore_service_pb2.ImportFeatureValuesRequest.FeatureSpec(\n",
    "            id=\"total_charges\", source_field=\"TotalCharges\"),\n",
    "        featurestore_service_pb2.ImportFeatureValuesRequest.FeatureSpec(\n",
    "            id=\"monthly_charges_avg_customer_clustered\", source_field=\"MonthlyCharges_avg_customer_clustered\")\n",
    "    ],\n",
    "    entity_id_field=\"customerID\",\n",
    "    feature_time_field=\"update_time\",\n",
    "    worker_count=1)"
   ]
  },
  {
   "cell_type": "code",
   "execution_count": 18,
   "id": "compatible-orlando",
   "metadata": {},
   "outputs": [
    {
     "name": "stdout",
     "output_type": "stream",
     "text": [
      "CPU times: user 85.9 ms, sys: 33.3 ms, total: 119 ms\n",
      "Wall time: 6min 33s\n"
     ]
    },
    {
     "data": {
      "text/plain": [
       "imported_entity_count: 7043\n",
       "imported_feature_value_count: 161978"
      ]
     },
     "execution_count": 18,
     "metadata": {},
     "output_type": "execute_result"
    }
   ],
   "source": [
    "%%time\n",
    "admin_client.import_feature_values(import_request).result()"
   ]
  },
  {
   "cell_type": "code",
   "execution_count": null,
   "id": "ecological-ivory",
   "metadata": {},
   "outputs": [],
   "source": []
  }
 ],
 "metadata": {
  "environment": {
   "name": "common-cpu.mnightly-2021-02-02-debian-10-test",
   "type": "gcloud",
   "uri": "gcr.io/deeplearning-platform-release/base-cpu:mnightly-2021-02-02-debian-10-test"
  },
  "kernelspec": {
   "display_name": "Python 3",
   "language": "python",
   "name": "python3"
  },
  "language_info": {
   "codemirror_mode": {
    "name": "ipython",
    "version": 3
   },
   "file_extension": ".py",
   "mimetype": "text/x-python",
   "name": "python",
   "nbconvert_exporter": "python",
   "pygments_lexer": "ipython3",
   "version": "3.7.9"
  }
 },
 "nbformat": 4,
 "nbformat_minor": 5
}

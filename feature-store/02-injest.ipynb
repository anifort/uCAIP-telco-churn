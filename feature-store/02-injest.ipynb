{
 "cells": [
  {
   "cell_type": "markdown",
   "id": "3afd0045",
   "metadata": {},
   "source": [
    "# Featurestore - Mars21\n",
    "## Data Injestion\n",
    "Christos Aniftos \\\n",
    "Soeren Petersen"
   ]
  },
  {
   "cell_type": "code",
   "execution_count": 5,
   "id": "98e8b4e3",
   "metadata": {},
   "outputs": [],
   "source": [
    "from google.api_core import operations_v1\n",
    "from google.cloud.aiplatform_v1beta1.types import io as io_pb2\n",
    "from google.cloud.aiplatform_v1beta1.types.feature import Feature\n",
    "from google.cloud.aiplatform_v1beta1 import FeaturestoreServiceClient\n",
    "from google.cloud.aiplatform_v1beta1 import FeaturestoreOnlineServingServiceClient\n",
    "from google.cloud.aiplatform_v1beta1.types import entity_type as entity_type_pb2\n",
    "from google.cloud.aiplatform_v1beta1.types import featurestore as featurestore_pb2\n",
    "from google.cloud.aiplatform_v1beta1.types import feature_selector as feature_selector_pb2\n",
    "from google.cloud.aiplatform_v1beta1.types import featurestore_service as featurestore_service_pb2\n",
    "from google.cloud.aiplatform_v1beta1.types import featurestore_online_service as featurestore_online_service_pb2"
   ]
  },
  {
   "cell_type": "code",
   "execution_count": 6,
   "id": "7e3294e8",
   "metadata": {},
   "outputs": [],
   "source": [
    "PROJECT_ID = \"feature-store-mars21\" # Change to your project id\n",
    "LOCATION = \"us-central1\" \n",
    "API_ENDPOINT = LOCATION+\"-aiplatform.googleapis.com\" \n",
    "FEATURESTORE_ID = \"universe\"\n",
    "ENTITY=\"customer\""
   ]
  },
  {
   "cell_type": "markdown",
   "id": "34653219",
   "metadata": {},
   "source": [
    "## Define clients for FS admin and data management"
   ]
  },
  {
   "cell_type": "code",
   "execution_count": 7,
   "id": "143ffffa",
   "metadata": {},
   "outputs": [],
   "source": [
    "# Create admin_client for CRUD \n",
    "admin_client = FeaturestoreServiceClient(\n",
    "    client_options={\"api_endpoint\": API_ENDPOINT})\n"
   ]
  },
  {
   "cell_type": "code",
   "execution_count": 8,
   "id": "b6f115ac",
   "metadata": {},
   "outputs": [
    {
     "name": "stdout",
     "output_type": "stream",
     "text": [
      "Location: \t projects/feature-store-mars21/locations/us-central1\n",
      "Feature Store: \t projects/feature-store-mars21/locations/us-central1/featurestores/universe\n",
      "Entity: \t projects/feature-store-mars21/locations/us-central1/featurestores/universe/entityTypes/customer\n",
      "Feature: \t projects/feature-store-mars21/locations/us-central1/featurestores/universe/entityTypes/customer/features/{}\n"
     ]
    }
   ],
   "source": [
    "LOC_PATH = admin_client.common_location_path(PROJECT_ID, LOCATION)\n",
    "FS_PATH = admin_client.featurestore_path(PROJECT_ID, LOCATION, FEATURESTORE_ID)\n",
    "ENTITY_PATH = admin_client.entity_type_path(PROJECT_ID, LOCATION, FEATURESTORE_ID, ENTITY)\n",
    "FEATURE_PATH = admin_client.feature_path(PROJECT_ID, LOCATION, FEATURESTORE_ID, ENTITY, '{}')\n",
    "\n",
    "print(\"Location: \\t\", LOC_PATH)\n",
    "print(\"Feature Store: \\t\", FS_PATH)\n",
    "print(\"Entity: \\t\", ENTITY_PATH)\n",
    "print(\"Feature: \\t\",FEATURE_PATH)"
   ]
  },
  {
   "cell_type": "markdown",
   "id": "a7ea1c66",
   "metadata": {},
   "source": [
    "## Injest"
   ]
  },
  {
   "cell_type": "markdown",
   "id": "49d576d0",
   "metadata": {},
   "source": [
    "#### prepare aggregated data to injest- this creates a temporary bq table with the features"
   ]
  },
  {
   "cell_type": "code",
   "execution_count": 9,
   "id": "6c2e3e55",
   "metadata": {},
   "outputs": [],
   "source": [
    "from google.cloud import bigquery\n",
    "\n",
    "# Construct a BigQuery client object.\n",
    "client = bigquery.Client()\n",
    "\n",
    "query = \"\"\"\n",
    "CREATE OR REPLACE TABLE `{project_id}.telco.churn_features_tmp` \n",
    "AS SELECT \n",
    "t1.* EXCEPT(TotalCharges),\n",
    "SAFE_CAST(t1.TotalCharges AS FLOAT64) as TotalCharges, \n",
    "IF(t1.gender='Male',True,False) male,\n",
    "IF(t1.gender='Female',True,False) female,\n",
    "ML.STANDARD_SCALER(t1.MonthlyCharges) OVER() as MonthlyCharges_std,\n",
    "MonthlyCharges_avg_customer_clustered,\n",
    "CURRENT_TIMESTAMP() as update_time \n",
    "FROM `{project_id}.telco.churn` t1\n",
    "LEFT JOIN (SELECT \n",
    "    AVG(MonthlyCharges) MonthlyCharges_avg_customer_clustered,\n",
    "    SeniorCitizen,\n",
    "    Partner,\n",
    "    PhoneService,\n",
    "    InternetService,\n",
    "    DeviceProtection,\n",
    "    TechSupport,\n",
    "    StreamingTV,\n",
    "    StreamingMovies,\n",
    "    PaymentMethod\n",
    "FROM `myfirstproject-226013.telco.churn`  Group by \n",
    "SeniorCitizen,\n",
    "Partner,\n",
    "PhoneService,\n",
    "InternetService,\n",
    "DeviceProtection,\n",
    "TechSupport,\n",
    "StreamingTV,\n",
    "StreamingMovies,\n",
    "PaymentMethod) t2 ON\n",
    "t1.SeniorCitizen=t2.SeniorCitizen AND \n",
    "t1.Partner=t2.Partner AND \n",
    "t1.PhoneService=t2.PhoneService AND \n",
    "t1.InternetService=t2.InternetService AND \n",
    "t1.DeviceProtection=t2.DeviceProtection AND \n",
    "t1.TechSupport=t2.TechSupport AND \n",
    "t1.StreamingTV=t2.StreamingTV AND \n",
    "t1.StreamingMovies=t2.StreamingMovies AND \n",
    "t1.PaymentMethod=t2.PaymentMethod\n",
    "\"\"\".format(project_id=PROJECT_ID)\n",
    "query_job = client.query(query)  # Make an API request."
   ]
  },
  {
   "cell_type": "code",
   "execution_count": 10,
   "id": "d1a7044b",
   "metadata": {},
   "outputs": [
    {
     "ename": "NotFound",
     "evalue": "404 Not found: Dataset feature-store-mars21:telco was not found in location EU\n\n(job ID: 443e84c9-59ea-4e7c-88e6-2d89bff249af)\n\n                           -----Query Job SQL Follows-----                            \n\n    |    .    |    .    |    .    |    .    |    .    |    .    |    .    |    .    |\n   1:\n   2:CREATE OR REPLACE TABLE `feature-store-mars21.telco.churn_features_tmp` \n   3:AS SELECT \n   4:t1.* EXCEPT(TotalCharges),\n   5:SAFE_CAST(t1.TotalCharges AS FLOAT64) as TotalCharges, \n   6:IF(t1.gender='Male',1,0) male,\n   7:IF(t1.gender='Female',1,0) female,\n   8:ML.STANDARD_SCALER(t1.MonthlyCharges) OVER() as MonthlyCharges_std,\n   9:TotalCharges_avg_customer_clustered,\n  10:MonthlyCharges_avg_customer_clustered,\n  11:FROM `feature-store-mars21.telco.churn` t1\n  12:LEFT JOIN (SELECT \n  13:    AVG(SAFE_CAST(TotalCharges AS FLOAT64)) TotalCharges_avg_customer_clustered, \n  14:    AVG(MonthlyCharges) MonthlyCharges_avg_customer_clustered,\n  15:    SeniorCitizen,\n  16:    Partner,\n  17:    PhoneService,\n  18:    InternetService,\n  19:    DeviceProtection,\n  20:    TechSupport,\n  21:    StreamingTV,\n  22:    StreamingMovies,\n  23:    PaymentMethod\n  24:FROM `myfirstproject-226013.telco.churn`  Group by \n  25:SeniorCitizen,\n  26:Partner,\n  27:PhoneService,\n  28:InternetService,\n  29:DeviceProtection,\n  30:TechSupport,\n  31:StreamingTV,\n  32:StreamingMovies,\n  33:PaymentMethod) t2 ON\n  34:t1.SeniorCitizen=t2.SeniorCitizen AND \n  35:t1.Partner=t2.Partner AND \n  36:t1.PhoneService=t2.PhoneService AND \n  37:t1.InternetService=t2.InternetService AND \n  38:t1.DeviceProtection=t2.DeviceProtection AND \n  39:t1.TechSupport=t2.TechSupport AND \n  40:t1.StreamingTV=t2.StreamingTV AND \n  41:t1.StreamingMovies=t2.StreamingMovies AND \n  42:t1.PaymentMethod=t2.PaymentMethod\n    |    .    |    .    |    .    |    .    |    .    |    .    |    .    |    .    |",
     "output_type": "error",
     "traceback": [
      "\u001b[0;31m---------------------------------------------------------------------------\u001b[0m",
      "\u001b[0;31mNotFound\u001b[0m                                  Traceback (most recent call last)",
      "\u001b[0;32m<ipython-input-10-37c1de5c3ced>\u001b[0m in \u001b[0;36m<module>\u001b[0;34m\u001b[0m\n\u001b[0;32m----> 1\u001b[0;31m \u001b[0mquery_job\u001b[0m\u001b[0;34m.\u001b[0m\u001b[0mresult\u001b[0m\u001b[0;34m(\u001b[0m\u001b[0;34m)\u001b[0m\u001b[0;34m\u001b[0m\u001b[0;34m\u001b[0m\u001b[0m\n\u001b[0m",
      "\u001b[0;32m/opt/conda/lib/python3.7/site-packages/google/cloud/bigquery/job.py\u001b[0m in \u001b[0;36mresult\u001b[0;34m(self, page_size, max_results, retry, timeout, start_index)\u001b[0m\n\u001b[1;32m   3228\u001b[0m         \"\"\"\n\u001b[1;32m   3229\u001b[0m         \u001b[0;32mtry\u001b[0m\u001b[0;34m:\u001b[0m\u001b[0;34m\u001b[0m\u001b[0;34m\u001b[0m\u001b[0m\n\u001b[0;32m-> 3230\u001b[0;31m             \u001b[0msuper\u001b[0m\u001b[0;34m(\u001b[0m\u001b[0mQueryJob\u001b[0m\u001b[0;34m,\u001b[0m \u001b[0mself\u001b[0m\u001b[0;34m)\u001b[0m\u001b[0;34m.\u001b[0m\u001b[0mresult\u001b[0m\u001b[0;34m(\u001b[0m\u001b[0mretry\u001b[0m\u001b[0;34m=\u001b[0m\u001b[0mretry\u001b[0m\u001b[0;34m,\u001b[0m \u001b[0mtimeout\u001b[0m\u001b[0;34m=\u001b[0m\u001b[0mtimeout\u001b[0m\u001b[0;34m)\u001b[0m\u001b[0;34m\u001b[0m\u001b[0;34m\u001b[0m\u001b[0m\n\u001b[0m\u001b[1;32m   3231\u001b[0m \u001b[0;34m\u001b[0m\u001b[0m\n\u001b[1;32m   3232\u001b[0m             \u001b[0;31m# Return an iterator instead of returning the job.\u001b[0m\u001b[0;34m\u001b[0m\u001b[0;34m\u001b[0m\u001b[0;34m\u001b[0m\u001b[0m\n",
      "\u001b[0;32m/opt/conda/lib/python3.7/site-packages/google/cloud/bigquery/job.py\u001b[0m in \u001b[0;36mresult\u001b[0;34m(self, retry, timeout)\u001b[0m\n\u001b[1;32m    833\u001b[0m             \u001b[0mself\u001b[0m\u001b[0;34m.\u001b[0m\u001b[0m_begin\u001b[0m\u001b[0;34m(\u001b[0m\u001b[0mretry\u001b[0m\u001b[0;34m=\u001b[0m\u001b[0mretry\u001b[0m\u001b[0;34m,\u001b[0m \u001b[0mtimeout\u001b[0m\u001b[0;34m=\u001b[0m\u001b[0mtimeout\u001b[0m\u001b[0;34m)\u001b[0m\u001b[0;34m\u001b[0m\u001b[0;34m\u001b[0m\u001b[0m\n\u001b[1;32m    834\u001b[0m         \u001b[0;31m# TODO: modify PollingFuture so it can pass a retry argument to done().\u001b[0m\u001b[0;34m\u001b[0m\u001b[0;34m\u001b[0m\u001b[0;34m\u001b[0m\u001b[0m\n\u001b[0;32m--> 835\u001b[0;31m         \u001b[0;32mreturn\u001b[0m \u001b[0msuper\u001b[0m\u001b[0;34m(\u001b[0m\u001b[0m_AsyncJob\u001b[0m\u001b[0;34m,\u001b[0m \u001b[0mself\u001b[0m\u001b[0;34m)\u001b[0m\u001b[0;34m.\u001b[0m\u001b[0mresult\u001b[0m\u001b[0;34m(\u001b[0m\u001b[0mtimeout\u001b[0m\u001b[0;34m=\u001b[0m\u001b[0mtimeout\u001b[0m\u001b[0;34m)\u001b[0m\u001b[0;34m\u001b[0m\u001b[0;34m\u001b[0m\u001b[0m\n\u001b[0m\u001b[1;32m    836\u001b[0m \u001b[0;34m\u001b[0m\u001b[0m\n\u001b[1;32m    837\u001b[0m     \u001b[0;32mdef\u001b[0m \u001b[0mcancelled\u001b[0m\u001b[0;34m(\u001b[0m\u001b[0mself\u001b[0m\u001b[0;34m)\u001b[0m\u001b[0;34m:\u001b[0m\u001b[0;34m\u001b[0m\u001b[0;34m\u001b[0m\u001b[0m\n",
      "\u001b[0;32m/opt/conda/lib/python3.7/site-packages/google/api_core/future/polling.py\u001b[0m in \u001b[0;36mresult\u001b[0;34m(self, timeout, retry)\u001b[0m\n\u001b[1;32m    132\u001b[0m             \u001b[0;31m# pylint: disable=raising-bad-type\u001b[0m\u001b[0;34m\u001b[0m\u001b[0;34m\u001b[0m\u001b[0;34m\u001b[0m\u001b[0m\n\u001b[1;32m    133\u001b[0m             \u001b[0;31m# Pylint doesn't recognize that this is valid in this case.\u001b[0m\u001b[0;34m\u001b[0m\u001b[0;34m\u001b[0m\u001b[0;34m\u001b[0m\u001b[0m\n\u001b[0;32m--> 134\u001b[0;31m             \u001b[0;32mraise\u001b[0m \u001b[0mself\u001b[0m\u001b[0;34m.\u001b[0m\u001b[0m_exception\u001b[0m\u001b[0;34m\u001b[0m\u001b[0;34m\u001b[0m\u001b[0m\n\u001b[0m\u001b[1;32m    135\u001b[0m \u001b[0;34m\u001b[0m\u001b[0m\n\u001b[1;32m    136\u001b[0m         \u001b[0;32mreturn\u001b[0m \u001b[0mself\u001b[0m\u001b[0;34m.\u001b[0m\u001b[0m_result\u001b[0m\u001b[0;34m\u001b[0m\u001b[0;34m\u001b[0m\u001b[0m\n",
      "\u001b[0;31mNotFound\u001b[0m: 404 Not found: Dataset feature-store-mars21:telco was not found in location EU\n\n(job ID: 443e84c9-59ea-4e7c-88e6-2d89bff249af)\n\n                           -----Query Job SQL Follows-----                            \n\n    |    .    |    .    |    .    |    .    |    .    |    .    |    .    |    .    |\n   1:\n   2:CREATE OR REPLACE TABLE `feature-store-mars21.telco.churn_features_tmp` \n   3:AS SELECT \n   4:t1.* EXCEPT(TotalCharges),\n   5:SAFE_CAST(t1.TotalCharges AS FLOAT64) as TotalCharges, \n   6:IF(t1.gender='Male',1,0) male,\n   7:IF(t1.gender='Female',1,0) female,\n   8:ML.STANDARD_SCALER(t1.MonthlyCharges) OVER() as MonthlyCharges_std,\n   9:TotalCharges_avg_customer_clustered,\n  10:MonthlyCharges_avg_customer_clustered,\n  11:FROM `feature-store-mars21.telco.churn` t1\n  12:LEFT JOIN (SELECT \n  13:    AVG(SAFE_CAST(TotalCharges AS FLOAT64)) TotalCharges_avg_customer_clustered, \n  14:    AVG(MonthlyCharges) MonthlyCharges_avg_customer_clustered,\n  15:    SeniorCitizen,\n  16:    Partner,\n  17:    PhoneService,\n  18:    InternetService,\n  19:    DeviceProtection,\n  20:    TechSupport,\n  21:    StreamingTV,\n  22:    StreamingMovies,\n  23:    PaymentMethod\n  24:FROM `myfirstproject-226013.telco.churn`  Group by \n  25:SeniorCitizen,\n  26:Partner,\n  27:PhoneService,\n  28:InternetService,\n  29:DeviceProtection,\n  30:TechSupport,\n  31:StreamingTV,\n  32:StreamingMovies,\n  33:PaymentMethod) t2 ON\n  34:t1.SeniorCitizen=t2.SeniorCitizen AND \n  35:t1.Partner=t2.Partner AND \n  36:t1.PhoneService=t2.PhoneService AND \n  37:t1.InternetService=t2.InternetService AND \n  38:t1.DeviceProtection=t2.DeviceProtection AND \n  39:t1.TechSupport=t2.TechSupport AND \n  40:t1.StreamingTV=t2.StreamingTV AND \n  41:t1.StreamingMovies=t2.StreamingMovies AND \n  42:t1.PaymentMethod=t2.PaymentMethod\n    |    .    |    .    |    .    |    .    |    .    |    .    |    .    |    .    |"
     ]
    }
   ],
   "source": [
    "query_job.result()"
   ]
  },
  {
   "cell_type": "markdown",
   "id": "66f6a93c",
   "metadata": {},
   "source": [
    "### Supported injest modes\n",
    "\n",
    "avro_source (google.cloud.aiplatform_v1beta1.types.AvroSource):\n",
    "\n",
    "bigquery_source (google.cloud.aiplatform_v1beta1.types.BigQuerySource):\n",
    "\n",
    "csv_source (google.cloud.aiplatform_v1beta1.types.CsvSource):"
   ]
  },
  {
   "cell_type": "code",
   "execution_count": 11,
   "id": "78b39b79",
   "metadata": {},
   "outputs": [
    {
     "data": {
      "text/plain": [
       "'projects/feature-store-mars21/locations/us-central1/featurestores/universe/entityTypes/customer'"
      ]
     },
     "execution_count": 11,
     "metadata": {},
     "output_type": "execute_result"
    }
   ],
   "source": [
    "ENTITY_PATH"
   ]
  },
  {
   "cell_type": "markdown",
   "id": "df3ab5ad",
   "metadata": {},
   "source": [
    "### Injest from temp table to feature store"
   ]
  },
  {
   "cell_type": "code",
   "execution_count": 8,
   "id": "0876a3b6",
   "metadata": {},
   "outputs": [],
   "source": [
    "import_request = featurestore_service_pb2.ImportFeatureValuesRequest(\n",
    "    entity_type=ENTITY_PATH,\n",
    "    bigquery_source=io_pb2.BigQuerySource(\n",
    "        input_uri=\"bq://{project_id}.telco.churn\".format(project_id=PROJECT_ID)\n",
    "    ),\n",
    "    feature_specs=[\n",
    "        featurestore_service_pb2.ImportFeatureValuesRequest.FeatureSpec(\n",
    "            id=\"gender\", source_field=\"gender\"),\n",
    "        featurestore_service_pb2.ImportFeatureValuesRequest.FeatureSpec(\n",
    "            id=\"SeniorCitizen\", source_field=\"SeniorCitizen\"),\n",
    "        featurestore_service_pb2.ImportFeatureValuesRequest.FeatureSpec(\n",
    "            id=\"Partner\", source_field=\"Partner\"),\n",
    "        featurestore_service_pb2.ImportFeatureValuesRequest.FeatureSpec(\n",
    "            id=\"Dependents\", source_field=\"Dependents\"),\n",
    "        featurestore_service_pb2.ImportFeatureValuesRequest.FeatureSpec(\n",
    "            id=\"tenure\", source_field=\"tenure\"),\n",
    "        featurestore_service_pb2.ImportFeatureValuesRequest.FeatureSpec(\n",
    "            id=\"PhoneService\", source_field=\"PhoneService\"),\n",
    "        featurestore_service_pb2.ImportFeatureValuesRequest.FeatureSpec(\n",
    "            id=\"MultipleLines\", source_field=\"MultipleLines\"),\n",
    "        featurestore_service_pb2.ImportFeatureValuesRequest.FeatureSpec(\n",
    "            id=\"InternetService\", source_field=\"InternetService\"),\n",
    "        featurestore_service_pb2.ImportFeatureValuesRequest.FeatureSpec(\n",
    "            id=\"OnlineSecurity\", source_field=\"OnlineSecurity\"),\n",
    "        featurestore_service_pb2.ImportFeatureValuesRequest.FeatureSpec(\n",
    "            id=\"OnlineBackup\", source_field=\"OnlineBackup\"),\n",
    "        featurestore_service_pb2.ImportFeatureValuesRequest.FeatureSpec(\n",
    "            id=\"DeviceProtection\", source_field=\"DeviceProtection\"),\n",
    "        featurestore_service_pb2.ImportFeatureValuesRequest.FeatureSpec(\n",
    "            id=\"TechSupport\", source_field=\"TechSupport\"),\n",
    "        featurestore_service_pb2.ImportFeatureValuesRequest.FeatureSpec(\n",
    "            id=\"StreamingTV\", source_field=\"StreamingTV\"),\n",
    "        featurestore_service_pb2.ImportFeatureValuesRequest.FeatureSpec(\n",
    "            id=\"StreamingMovies\", source_field=\"StreamingMovies\"),\n",
    "        featurestore_service_pb2.ImportFeatureValuesRequest.FeatureSpec(\n",
    "            id=\"Contract\", source_field=\"Contract\"),\n",
    "        featurestore_service_pb2.ImportFeatureValuesRequest.FeatureSpec(\n",
    "            id=\"PaperlessBilling\", source_field=\"PaperlessBilling\"),\n",
    "        featurestore_service_pb2.ImportFeatureValuesRequest.FeatureSpec(\n",
    "            id=\"PaymentMethod\", source_field=\"PaymentMethod\"),\n",
    "        featurestore_service_pb2.ImportFeatureValuesRequest.FeatureSpec(\n",
    "            id=\"MonthlyCharges\", source_field=\"MonthlyCharges\"),\n",
    "        featurestore_service_pb2.ImportFeatureValuesRequest.FeatureSpec(\n",
    "            id=\"male\", source_field=\"male\"),\n",
    "        featurestore_service_pb2.ImportFeatureValuesRequest.FeatureSpec(\n",
    "            id=\"female\", source_field=\"female\"),\n",
    "        featurestore_service_pb2.ImportFeatureValuesRequest.FeatureSpec(\n",
    "            id=\"MonthlyCharges_std\", source_field=\"MonthlyCharges_std\"),\n",
    "        featurestore_service_pb2.ImportFeatureValuesRequest.FeatureSpec(\n",
    "            id=\"TotalCharges\", source_field=\"TotalCharges\"),\n",
    "        featurestore_service_pb2.ImportFeatureValuesRequest.FeatureSpec(\n",
    "            id=\"MonthlyCharges_avg_customer_clustered\", source_field=\"MonthlyCharges_avg_customer_clustered\")\n",
    "    ],\n",
    "    entity_id_field=\"customerID\",\n",
    "    feature_time_field=\"update_time\",\n",
    "    worker_count=1)"
   ]
  },
  {
   "cell_type": "code",
   "execution_count": 9,
   "id": "8079455c",
   "metadata": {},
   "outputs": [
    {
     "name": "stdout",
     "output_type": "stream",
     "text": [
      "CPU times: user 90.6 ms, sys: 32.2 ms, total: 123 ms\n",
      "Wall time: 6min 48s\n"
     ]
    },
    {
     "data": {
      "text/plain": [
       "imported_entity_count: 3\n",
       "imported_feature_value_count: 45"
      ]
     },
     "execution_count": 9,
     "metadata": {},
     "output_type": "execute_result"
    }
   ],
   "source": [
    "%%time\n",
    "admin_client.import_feature_values(import_request).result()"
   ]
  },
  {
   "cell_type": "code",
   "execution_count": null,
   "id": "837dc0ef",
   "metadata": {},
   "outputs": [],
   "source": []
  }
 ],
 "metadata": {
  "environment": {
   "name": "common-cpu.m69",
   "type": "gcloud",
   "uri": "gcr.io/deeplearning-platform-release/base-cpu:m69"
  },
  "kernelspec": {
   "display_name": "Python 3",
   "language": "python",
   "name": "python3"
  },
  "language_info": {
   "codemirror_mode": {
    "name": "ipython",
    "version": 3
   },
   "file_extension": ".py",
   "mimetype": "text/x-python",
   "name": "python",
   "nbconvert_exporter": "python",
   "pygments_lexer": "ipython3",
   "version": "3.7.10"
  }
 },
 "nbformat": 4,
 "nbformat_minor": 5
}

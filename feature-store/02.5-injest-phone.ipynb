{
 "cells": [
  {
   "cell_type": "markdown",
   "id": "stone-excitement",
   "metadata": {},
   "source": [
    "# Featurestore - Churn Demo\n",
    "## Data Injestion\n",
    "Christos Aniftos"
   ]
  },
  {
   "cell_type": "code",
   "execution_count": null,
   "id": "packed-reaction",
   "metadata": {},
   "outputs": [],
   "source": [
    "from google.api_core import operations_v1\n",
    "from google.cloud.aiplatform_v1beta1.types import io as io_pb2\n",
    "from google.cloud.aiplatform_v1beta1.types.feature import Feature\n",
    "from google.cloud.aiplatform_v1beta1 import FeaturestoreServiceClient\n",
    "from google.cloud.aiplatform_v1beta1 import FeaturestoreOnlineServingServiceClient\n",
    "from google.cloud.aiplatform_v1beta1.types import entity_type as entity_type_pb2\n",
    "from google.cloud.aiplatform_v1beta1.types import featurestore as featurestore_pb2\n",
    "from google.cloud.aiplatform_v1beta1.types import feature_selector as feature_selector_pb2\n",
    "from google.cloud.aiplatform_v1beta1.types import featurestore_service as featurestore_service_pb2\n",
    "from google.cloud.aiplatform_v1beta1.types import featurestore_online_service as featurestore_online_service_pb2"
   ]
  },
  {
   "cell_type": "code",
   "execution_count": null,
   "id": "speaking-equity",
   "metadata": {},
   "outputs": [],
   "source": [
    "PROJECT_ID=!gcloud config get-value project # returns default project id \n",
    "PROJECT_ID=PROJECT_ID[0]\n",
    "\n",
    "LOCATION = 'europe-west4'\n",
    "API_ENDPOINT = LOCATION+\"-aiplatform.googleapis.com\" \n",
    "FEATURESTORE_ID = \"telco\"\n",
    "ENTITY=\"phone\""
   ]
  },
  {
   "cell_type": "markdown",
   "id": "successful-atlanta",
   "metadata": {},
   "source": [
    "## Define clients for FS admin and data management"
   ]
  },
  {
   "cell_type": "code",
   "execution_count": null,
   "id": "surprising-dallas",
   "metadata": {},
   "outputs": [],
   "source": [
    "# Create admin_client for CRUD \n",
    "admin_client = FeaturestoreServiceClient(\n",
    "    client_options={\"api_endpoint\": API_ENDPOINT})"
   ]
  },
  {
   "cell_type": "code",
   "execution_count": null,
   "id": "dressed-differential",
   "metadata": {},
   "outputs": [],
   "source": [
    "LOC_PATH = admin_client.common_location_path(PROJECT_ID, LOCATION)\n",
    "FS_PATH = admin_client.featurestore_path(PROJECT_ID, LOCATION, FEATURESTORE_ID)\n",
    "ENTITY_PATH = admin_client.entity_type_path(PROJECT_ID, LOCATION, FEATURESTORE_ID, ENTITY)\n",
    "FEATURE_PATH = admin_client.feature_path(PROJECT_ID, LOCATION, FEATURESTORE_ID, ENTITY, '{}')\n",
    "\n",
    "print(\"Location: \\t\", LOC_PATH)\n",
    "print(\"Feature Store: \\t\", FS_PATH)\n",
    "print(\"Entity: \\t\", ENTITY_PATH)\n",
    "print(\"Feature: \\t\",FEATURE_PATH)"
   ]
  },
  {
   "cell_type": "markdown",
   "id": "random-maldives",
   "metadata": {},
   "source": [
    "## Injest"
   ]
  },
  {
   "cell_type": "markdown",
   "id": "adjusted-venture",
   "metadata": {},
   "source": [
    "#### prepare aggregated data to injest- this creates a temporary bq table with the features"
   ]
  },
  {
   "cell_type": "code",
   "execution_count": null,
   "id": "registered-boring",
   "metadata": {},
   "outputs": [],
   "source": [
    "from google.cloud import bigquery\n",
    "\n",
    "# Construct a BigQuery client object.\n",
    "client = bigquery.Client()\n",
    "\n",
    "query = \"\"\"\n",
    "CREATE OR REPLACE TABLE `{project_id}.telco.phone_features_tmp` \n",
    "AS SELECT CONCAT(brand,\" - \",model) as phoneID, *, CURRENT_TIMESTAMP() as update_time  \n",
    "FROM `{project_id}.telco.phone` \n",
    "\"\"\".format(project_id=PROJECT_ID)\n",
    "query_job = client.query(query)  # Make an API request."
   ]
  },
  {
   "cell_type": "code",
   "execution_count": null,
   "id": "supposed-martin",
   "metadata": {},
   "outputs": [],
   "source": [
    "query_job.result()"
   ]
  },
  {
   "cell_type": "markdown",
   "id": "blond-maker",
   "metadata": {},
   "source": [
    "### Supported injest modes\n",
    "\n",
    "avro_source (google.cloud.aiplatform_v1beta1.types.AvroSource):\n",
    "\n",
    "bigquery_source (google.cloud.aiplatform_v1beta1.types.BigQuerySource):\n",
    "\n",
    "csv_source (google.cloud.aiplatform_v1beta1.types.CsvSource):"
   ]
  },
  {
   "cell_type": "code",
   "execution_count": null,
   "id": "seven-bowling",
   "metadata": {},
   "outputs": [],
   "source": [
    "ENTITY_PATH"
   ]
  },
  {
   "cell_type": "markdown",
   "id": "vocal-abuse",
   "metadata": {},
   "source": [
    "### Injest from temp table to feature store"
   ]
  },
  {
   "cell_type": "code",
   "execution_count": null,
   "id": "surprised-unemployment",
   "metadata": {},
   "outputs": [],
   "source": [
    "import_request = featurestore_service_pb2.ImportFeatureValuesRequest(\n",
    "    entity_type=ENTITY_PATH,\n",
    "    bigquery_source=io_pb2.BigQuerySource(\n",
    "        input_uri=\"bq://{project_id}.telco.phone_features_tmp\".format(project_id=PROJECT_ID)\n",
    "    ),\n",
    "    feature_specs=[\n",
    "        featurestore_service_pb2.ImportFeatureValuesRequest.FeatureSpec(\n",
    "            id=\"approx_price_euro\", source_field=\"approx_price_EUR\"),\n",
    "        featurestore_service_pb2.ImportFeatureValuesRequest.FeatureSpec(\n",
    "            id=\"brand\", source_field=\"brand\"),\n",
    "        featurestore_service_pb2.ImportFeatureValuesRequest.FeatureSpec(\n",
    "            id=\"model\", source_field=\"model\"),\n",
    "    ],\n",
    "    entity_id_field=\"phoneID\",\n",
    "    feature_time_field=\"update_time\",\n",
    "    worker_count=1)"
   ]
  },
  {
   "cell_type": "code",
   "execution_count": null,
   "id": "capital-adapter",
   "metadata": {},
   "outputs": [],
   "source": [
    "%%time\n",
    "admin_client.import_feature_values(import_request).result()"
   ]
  },
  {
   "cell_type": "code",
   "execution_count": null,
   "id": "historical-drove",
   "metadata": {},
   "outputs": [],
   "source": []
  }
 ],
 "metadata": {
  "environment": {
   "name": "common-cpu.mnightly-2021-02-02-debian-10-test",
   "type": "gcloud",
   "uri": "gcr.io/deeplearning-platform-release/base-cpu:mnightly-2021-02-02-debian-10-test"
  },
  "kernelspec": {
   "display_name": "Python 3",
   "language": "python",
   "name": "python3"
  },
  "language_info": {
   "codemirror_mode": {
    "name": "ipython",
    "version": 3
   },
   "file_extension": ".py",
   "mimetype": "text/x-python",
   "name": "python",
   "nbconvert_exporter": "python",
   "pygments_lexer": "ipython3",
   "version": "3.7.9"
  }
 },
 "nbformat": 4,
 "nbformat_minor": 5
}

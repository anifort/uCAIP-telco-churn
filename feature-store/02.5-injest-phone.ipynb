{
 "cells": [
  {
   "cell_type": "markdown",
   "id": "casual-harrison",
   "metadata": {},
   "source": [
    "# Featurestore - Churn Demo\n",
    "## Data Injestion\n",
    "Christos Aniftos"
   ]
  },
  {
   "cell_type": "code",
   "execution_count": 27,
   "id": "baking-contemporary",
   "metadata": {},
   "outputs": [],
   "source": [
    "from google.api_core import operations_v1\n",
    "from google.cloud.aiplatform_v1beta1.types import io as io_pb2\n",
    "from google.cloud.aiplatform_v1beta1.types.feature import Feature\n",
    "from google.cloud.aiplatform_v1beta1 import FeaturestoreServiceClient\n",
    "from google.cloud.aiplatform_v1beta1 import FeaturestoreOnlineServingServiceClient\n",
    "from google.cloud.aiplatform_v1beta1.types import entity_type as entity_type_pb2\n",
    "from google.cloud.aiplatform_v1beta1.types import featurestore as featurestore_pb2\n",
    "from google.cloud.aiplatform_v1beta1.types import feature_selector as feature_selector_pb2\n",
    "from google.cloud.aiplatform_v1beta1.types import featurestore_service as featurestore_service_pb2\n",
    "from google.cloud.aiplatform_v1beta1.types import featurestore_online_service as featurestore_online_service_pb2"
   ]
  },
  {
   "cell_type": "code",
   "execution_count": 28,
   "id": "twelve-device",
   "metadata": {},
   "outputs": [],
   "source": [
    "PROJECT_ID=!gcloud config get-value project # returns default project id \n",
    "PROJECT_ID=PROJECT_ID[0]\n",
    "\n",
    "LOCATION = 'europe-west4'\n",
    "API_ENDPOINT = LOCATION+\"-aiplatform.googleapis.com\" \n",
    "FEATURESTORE_ID = \"telco\"\n",
    "ENTITY=\"phone\""
   ]
  },
  {
   "cell_type": "markdown",
   "id": "educated-ballet",
   "metadata": {},
   "source": [
    "## Define clients for FS admin and data management"
   ]
  },
  {
   "cell_type": "code",
   "execution_count": 29,
   "id": "hydraulic-maple",
   "metadata": {},
   "outputs": [],
   "source": [
    "# Create admin_client for CRUD \n",
    "admin_client = FeaturestoreServiceClient(\n",
    "    client_options={\"api_endpoint\": API_ENDPOINT})"
   ]
  },
  {
   "cell_type": "code",
   "execution_count": 30,
   "id": "indonesian-marketplace",
   "metadata": {},
   "outputs": [
    {
     "name": "stdout",
     "output_type": "stream",
     "text": [
      "Location: \t projects/myfirstproject-226013/locations/europe-west4\n",
      "Feature Store: \t projects/myfirstproject-226013/locations/europe-west4/featurestores/universe\n",
      "Entity: \t projects/myfirstproject-226013/locations/europe-west4/featurestores/universe/entityTypes/phone\n",
      "Feature: \t projects/myfirstproject-226013/locations/europe-west4/featurestores/universe/entityTypes/phone/features/{}\n"
     ]
    }
   ],
   "source": [
    "LOC_PATH = admin_client.common_location_path(PROJECT_ID, LOCATION)\n",
    "FS_PATH = admin_client.featurestore_path(PROJECT_ID, LOCATION, FEATURESTORE_ID)\n",
    "ENTITY_PATH = admin_client.entity_type_path(PROJECT_ID, LOCATION, FEATURESTORE_ID, ENTITY)\n",
    "FEATURE_PATH = admin_client.feature_path(PROJECT_ID, LOCATION, FEATURESTORE_ID, ENTITY, '{}')\n",
    "\n",
    "print(\"Location: \\t\", LOC_PATH)\n",
    "print(\"Feature Store: \\t\", FS_PATH)\n",
    "print(\"Entity: \\t\", ENTITY_PATH)\n",
    "print(\"Feature: \\t\",FEATURE_PATH)"
   ]
  },
  {
   "cell_type": "markdown",
   "id": "assured-eligibility",
   "metadata": {},
   "source": [
    "## Injest"
   ]
  },
  {
   "cell_type": "markdown",
   "id": "smaller-somewhere",
   "metadata": {},
   "source": [
    "#### prepare aggregated data to injest- this creates a temporary bq table with the features"
   ]
  },
  {
   "cell_type": "code",
   "execution_count": 32,
   "id": "finite-compiler",
   "metadata": {},
   "outputs": [],
   "source": [
    "from google.cloud import bigquery\n",
    "\n",
    "# Construct a BigQuery client object.\n",
    "client = bigquery.Client()\n",
    "\n",
    "query = \"\"\"\n",
    "CREATE OR REPLACE TABLE `{project_id}.telco.phone_features_tmp` \n",
    "AS SELECT CONCAT(brand,\" - \",model) as phoneID, *, CURRENT_TIMESTAMP() as update_time  \n",
    "FROM `{project_id}.telco.phone` \n",
    "\"\"\".format(project_id=PROJECT_ID)\n",
    "query_job = client.query(query)  # Make an API request."
   ]
  },
  {
   "cell_type": "code",
   "execution_count": 33,
   "id": "sticky-pantyhose",
   "metadata": {},
   "outputs": [
    {
     "data": {
      "text/plain": [
       "<google.cloud.bigquery.table._EmptyRowIterator at 0x7f87cd72c890>"
      ]
     },
     "execution_count": 33,
     "metadata": {},
     "output_type": "execute_result"
    }
   ],
   "source": [
    "query_job.result()"
   ]
  },
  {
   "cell_type": "markdown",
   "id": "facial-handy",
   "metadata": {},
   "source": [
    "### Supported injest modes\n",
    "\n",
    "avro_source (google.cloud.aiplatform_v1beta1.types.AvroSource):\n",
    "\n",
    "bigquery_source (google.cloud.aiplatform_v1beta1.types.BigQuerySource):\n",
    "\n",
    "csv_source (google.cloud.aiplatform_v1beta1.types.CsvSource):"
   ]
  },
  {
   "cell_type": "code",
   "execution_count": 34,
   "id": "liquid-america",
   "metadata": {},
   "outputs": [
    {
     "data": {
      "text/plain": [
       "'projects/myfirstproject-226013/locations/europe-west4/featurestores/universe/entityTypes/phone'"
      ]
     },
     "execution_count": 34,
     "metadata": {},
     "output_type": "execute_result"
    }
   ],
   "source": [
    "ENTITY_PATH"
   ]
  },
  {
   "cell_type": "markdown",
   "id": "subsequent-cancer",
   "metadata": {},
   "source": [
    "### Injest from temp table to feature store"
   ]
  },
  {
   "cell_type": "code",
   "execution_count": 35,
   "id": "facial-academy",
   "metadata": {},
   "outputs": [],
   "source": [
    "import_request = featurestore_service_pb2.ImportFeatureValuesRequest(\n",
    "    entity_type=ENTITY_PATH,\n",
    "    bigquery_source=io_pb2.BigQuerySource(\n",
    "        input_uri=\"bq://{project_id}.telco.phone_features_tmp\".format(project_id=PROJECT_ID)\n",
    "    ),\n",
    "    feature_specs=[\n",
    "        featurestore_service_pb2.ImportFeatureValuesRequest.FeatureSpec(\n",
    "            id=\"approx_price_euro\", source_field=\"approx_price_EUR\"),\n",
    "        featurestore_service_pb2.ImportFeatureValuesRequest.FeatureSpec(\n",
    "            id=\"brand\", source_field=\"brand\"),\n",
    "        featurestore_service_pb2.ImportFeatureValuesRequest.FeatureSpec(\n",
    "            id=\"model\", source_field=\"model\"),\n",
    "    ],\n",
    "    entity_id_field=\"phoneID\",\n",
    "    feature_time_field=\"update_time\",\n",
    "    worker_count=1)"
   ]
  },
  {
   "cell_type": "code",
   "execution_count": 36,
   "id": "contrary-economy",
   "metadata": {},
   "outputs": [
    {
     "name": "stdout",
     "output_type": "stream",
     "text": [
      "CPU times: user 101 ms, sys: 11.7 ms, total: 113 ms\n",
      "Wall time: 4min 42s\n"
     ]
    },
    {
     "data": {
      "text/plain": [
       "imported_entity_count: 8590\n",
       "imported_feature_value_count: 22148"
      ]
     },
     "execution_count": 36,
     "metadata": {},
     "output_type": "execute_result"
    }
   ],
   "source": [
    "%%time\n",
    "admin_client.import_feature_values(import_request).result()"
   ]
  },
  {
   "cell_type": "code",
   "execution_count": null,
   "id": "revised-project",
   "metadata": {},
   "outputs": [],
   "source": []
  }
 ],
 "metadata": {
  "environment": {
   "name": "common-cpu.mnightly-2021-02-02-debian-10-test",
   "type": "gcloud",
   "uri": "gcr.io/deeplearning-platform-release/base-cpu:mnightly-2021-02-02-debian-10-test"
  },
  "kernelspec": {
   "display_name": "Python 3",
   "language": "python",
   "name": "python3"
  },
  "language_info": {
   "codemirror_mode": {
    "name": "ipython",
    "version": 3
   },
   "file_extension": ".py",
   "mimetype": "text/x-python",
   "name": "python",
   "nbconvert_exporter": "python",
   "pygments_lexer": "ipython3",
   "version": "3.7.9"
  }
 },
 "nbformat": 4,
 "nbformat_minor": 5
}

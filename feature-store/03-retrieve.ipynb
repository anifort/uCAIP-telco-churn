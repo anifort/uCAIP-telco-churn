{
 "cells": [
  {
   "cell_type": "markdown",
   "id": "aaea2fd6",
   "metadata": {},
   "source": [
    "# Featurestore - Mars21\n",
    "## Feature retrieval (online & batch)\n",
    "Christos Aniftos \\\n",
    "Soeren Petersen"
   ]
  },
  {
   "cell_type": "code",
   "execution_count": 1,
   "id": "c1615877",
   "metadata": {},
   "outputs": [],
   "source": [
    "from google.api_core import operations_v1\n",
    "from google.cloud.aiplatform_v1beta1.types import io as io_pb2\n",
    "from google.cloud.aiplatform_v1beta1.types.feature import Feature\n",
    "from google.cloud.aiplatform_v1beta1 import FeaturestoreServiceClient\n",
    "from google.cloud.aiplatform_v1beta1 import FeaturestoreOnlineServingServiceClient\n",
    "from google.cloud.aiplatform_v1beta1.types import entity_type as entity_type_pb2\n",
    "from google.cloud.aiplatform_v1beta1.types import featurestore as featurestore_pb2\n",
    "from google.cloud.aiplatform_v1beta1.types import feature_selector as feature_selector_pb2\n",
    "from google.cloud.aiplatform_v1beta1.types import featurestore_service as featurestore_service_pb2\n",
    "from google.cloud.aiplatform_v1beta1.types import featurestore_online_service as featurestore_online_service_pb2"
   ]
  },
  {
   "cell_type": "code",
   "execution_count": 2,
   "id": "de1b5c0b",
   "metadata": {},
   "outputs": [],
   "source": [
    "PROJECT_ID = \"feature-store-mars21\" # Change to your project id\n",
    "LOCATION = \"us-central1\" \n",
    "API_ENDPOINT = LOCATION+\"-aiplatform.googleapis.com\" \n",
    "FEATURESTORE_ID = \"universe\"\n",
    "ENTITY=\"customer\""
   ]
  },
  {
   "cell_type": "markdown",
   "id": "7213781d",
   "metadata": {},
   "source": [
    "## Define clients for FS admin and data management"
   ]
  },
  {
   "cell_type": "code",
   "execution_count": 3,
   "id": "d3cffce9",
   "metadata": {},
   "outputs": [],
   "source": [
    "# Create admin_client for CRUD and data_client for reading feature values.\n",
    "admin_client = FeaturestoreServiceClient(\n",
    "    client_options={\"api_endpoint\": API_ENDPOINT})\n",
    "\n",
    "data_client = FeaturestoreOnlineServingServiceClient(\n",
    "    client_options={\"api_endpoint\": API_ENDPOINT})"
   ]
  },
  {
   "cell_type": "code",
   "execution_count": 4,
   "id": "e56908d0",
   "metadata": {},
   "outputs": [
    {
     "name": "stdout",
     "output_type": "stream",
     "text": [
      "Location: \t projects/feature-store-mars21/locations/us-central1\n",
      "Feature Store: \t projects/feature-store-mars21/locations/us-central1/featurestores/universe\n",
      "Entity: \t projects/feature-store-mars21/locations/us-central1/featurestores/universe/entityTypes/planets\n",
      "Feature: \t projects/feature-store-mars21/locations/us-central1/featurestores/universe/entityTypes/planets/features/{}\n"
     ]
    }
   ],
   "source": [
    "LOC_PATH = admin_client.common_location_path(PROJECT_ID, LOCATION)\n",
    "FS_PATH = admin_client.featurestore_path(PROJECT_ID, LOCATION, FEATURESTORE_ID)\n",
    "ENTITY_PATH = admin_client.entity_type_path(PROJECT_ID, LOCATION, FEATURESTORE_ID, ENTITY)\n",
    "FEATURE_PATH = admin_client.feature_path(PROJECT_ID, LOCATION, FEATURESTORE_ID, ENTITY, '{}')\n",
    "\n",
    "print(\"Location: \\t\", LOC_PATH)\n",
    "print(\"Feature Store: \\t\", FS_PATH)\n",
    "print(\"Entity: \\t\", ENTITY_PATH)\n",
    "print(\"Feature: \\t\",FEATURE_PATH)"
   ]
  },
  {
   "cell_type": "markdown",
   "id": "a1f97563",
   "metadata": {},
   "source": [
    "## Read Values from FS Online Storage - Real time!"
   ]
  },
  {
   "cell_type": "code",
   "execution_count": 5,
   "id": "f4ac8bce",
   "metadata": {},
   "outputs": [],
   "source": [
    "feature_selector = feature_selector_pb2.FeatureSelector(\n",
    "    id_matcher=feature_selector_pb2.IdMatcher(\n",
    "        ids=[\"avg_max_temp_5d\", \"arr_max_temp_3d\", \"max_temp_std\"]))"
   ]
  },
  {
   "cell_type": "code",
   "execution_count": 6,
   "id": "7b8be667",
   "metadata": {},
   "outputs": [
    {
     "name": "stdout",
     "output_type": "stream",
     "text": [
      "CPU times: user 20.3 ms, sys: 0 ns, total: 20.3 ms\n",
      "Wall time: 407 ms\n"
     ]
    },
    {
     "data": {
      "text/plain": [
       "header {\n",
       "  entity_type: \"projects/202835066335/locations/us-central1/featurestores/universe/entityTypes/planets\"\n",
       "  feature_descriptors {\n",
       "    id: \"avg_max_temp_5d\"\n",
       "  }\n",
       "  feature_descriptors {\n",
       "    id: \"arr_max_temp_3d\"\n",
       "  }\n",
       "  feature_descriptors {\n",
       "    id: \"max_temp_std\"\n",
       "  }\n",
       "}\n",
       "entity_view {\n",
       "  entity_id: \"mars\"\n",
       "  data {\n",
       "    value {\n",
       "      double_value: -1.1666666666666667\n",
       "      metadata {\n",
       "        generate_time {\n",
       "          seconds: 1351814400\n",
       "        }\n",
       "      }\n",
       "    }\n",
       "  }\n",
       "  data {\n",
       "    value {\n",
       "      double_array_value {\n",
       "        values: 0.0\n",
       "        values: -1.0\n",
       "        values: -4.0\n",
       "      }\n",
       "      metadata {\n",
       "        generate_time {\n",
       "          seconds: 1351814400\n",
       "        }\n",
       "      }\n",
       "    }\n",
       "  }\n",
       "  data {\n",
       "    value {\n",
       "      double_value: 0.7954092224592259\n",
       "      metadata {\n",
       "        generate_time {\n",
       "          seconds: 1351814400\n",
       "        }\n",
       "      }\n",
       "    }\n",
       "  }\n",
       "}"
      ]
     },
     "execution_count": 6,
     "metadata": {},
     "output_type": "execute_result"
    }
   ],
   "source": [
    "%%time\n",
    "data_client.read_feature_values(\n",
    "    featurestore_online_service_pb2.ReadFeatureValuesRequest(\n",
    "        entity_type=ENTITY_PATH,\n",
    "        entity_id=\"mars\",\n",
    "        feature_selector=feature_selector))"
   ]
  },
  {
   "cell_type": "code",
   "execution_count": 7,
   "id": "42a93dd7",
   "metadata": {},
   "outputs": [
    {
     "name": "stdout",
     "output_type": "stream",
     "text": [
      "header {\n",
      "  entity_type: \"projects/202835066335/locations/us-central1/featurestores/universe/entityTypes/planets\"\n",
      "  feature_descriptors {\n",
      "    id: \"avg_max_temp_5d\"\n",
      "  }\n",
      "  feature_descriptors {\n",
      "    id: \"arr_max_temp_3d\"\n",
      "  }\n",
      "  feature_descriptors {\n",
      "    id: \"max_temp_std\"\n",
      "  }\n",
      "}\n",
      "\n",
      "entity_view {\n",
      "  entity_id: \"jupyter\"\n",
      "  data {\n",
      "    value {\n",
      "      double_value: -3.5\n",
      "      metadata {\n",
      "        generate_time {\n",
      "          seconds: 1351814400\n",
      "        }\n",
      "      }\n",
      "    }\n",
      "  }\n",
      "  data {\n",
      "    value {\n",
      "      double_array_value {\n",
      "        values: 0.0\n",
      "        values: -3.0\n",
      "        values: -12.0\n",
      "      }\n",
      "      metadata {\n",
      "        generate_time {\n",
      "          seconds: 1351814400\n",
      "        }\n",
      "      }\n",
      "    }\n",
      "  }\n",
      "  data {\n",
      "    value {\n",
      "      double_value: 0.7954092224592264\n",
      "      metadata {\n",
      "        generate_time {\n",
      "          seconds: 1351814400\n",
      "        }\n",
      "      }\n",
      "    }\n",
      "  }\n",
      "}\n",
      "\n",
      "entity_view {\n",
      "  entity_id: \"mars\"\n",
      "  data {\n",
      "    value {\n",
      "      double_value: -1.1666666666666667\n",
      "      metadata {\n",
      "        generate_time {\n",
      "          seconds: 1351814400\n",
      "        }\n",
      "      }\n",
      "    }\n",
      "  }\n",
      "  data {\n",
      "    value {\n",
      "      double_array_value {\n",
      "        values: 0.0\n",
      "        values: -1.0\n",
      "        values: -4.0\n",
      "      }\n",
      "      metadata {\n",
      "        generate_time {\n",
      "          seconds: 1351814400\n",
      "        }\n",
      "      }\n",
      "    }\n",
      "  }\n",
      "  data {\n",
      "    value {\n",
      "      double_value: 0.7954092224592259\n",
      "      metadata {\n",
      "        generate_time {\n",
      "          seconds: 1351814400\n",
      "        }\n",
      "      }\n",
      "    }\n",
      "  }\n",
      "}\n",
      "\n",
      "CPU times: user 6.5 ms, sys: 0 ns, total: 6.5 ms\n",
      "Wall time: 338 ms\n"
     ]
    }
   ],
   "source": [
    "%%time\n",
    "response_stream = data_client.streaming_read_feature_values(\n",
    "    featurestore_online_service_pb2.StreamingReadFeatureValuesRequest(\n",
    "        entity_type=ENTITY_PATH,\n",
    "        entity_ids=[\"mars\", \"jupyter\"],\n",
    "        feature_selector=feature_selector))\n",
    "\n",
    "for response in response_stream:\n",
    "  print(response)"
   ]
  },
  {
   "cell_type": "code",
   "execution_count": 19,
   "id": "3d47303b",
   "metadata": {},
   "outputs": [
    {
     "name": "stdout",
     "output_type": "stream",
     "text": [
      "Copying file://feature-request.csv [Content-Type=text/csv]...\n",
      "/ [1 files][  144.0 B/  144.0 B]                                                \n",
      "Operation completed over 1 objects/144.0 B.                                      \n"
     ]
    }
   ],
   "source": [
    "!gsutil cp feature-request.csv gs://feature-store-mars21/feature-request.csv"
   ]
  },
  {
   "cell_type": "code",
   "execution_count": 20,
   "id": "2d9da559",
   "metadata": {},
   "outputs": [],
   "source": [
    "EXPORT_TABLE_URI = \"bq://feature-store-mars21.training.churn_data_v1\"\n",
    "FEATURE_REQ_CSV_PATH = \"gs://feature-store-mars21/feature-request.csv\""
   ]
  },
  {
   "cell_type": "code",
   "execution_count": 21,
   "id": "554019ef",
   "metadata": {},
   "outputs": [],
   "source": [
    "batch_serving_request = featurestore_service_pb2.BatchReadFeatureValuesRequest(\n",
    "    featurestore=FS_PATH,\n",
    "    csv_read_instances=io_pb2.CsvSource(\n",
    "        gcs_source=io_pb2.GcsSource(uris=[FEATURE_REQ_CSV_PATH])),\n",
    "    \n",
    "    # Output info\n",
    "    destination=featurestore_service_pb2.FeatureValueDestination(\n",
    "        bigquery_destination=io_pb2.BigQueryDestination(\n",
    "            # output to BigQuery table\n",
    "            output_uri=EXPORT_TABLE_URI)),\n",
    "    #destination=featurestore_service_pb2.FeatureValueDestination(\n",
    "    #    tfrecord_destination=io_pb2.CsvDestination(\n",
    "    #        gcs_destination=EXPORT_TF_PATH)),\n",
    "   \n",
    "\n",
    "    # Select features to read\n",
    "    entity_type_specs=[\n",
    "        featurestore_service_pb2.BatchReadFeatureValuesRequest.EntityTypeSpec(\n",
    "            # read feature values of features subscriber_type and duration_minutes from \"bikes\"\n",
    "            entity_type_id=ENTITY, \n",
    "            feature_selector=feature_selector\n",
    "        ),\n",
    "        #featurestore_service_pb2.BatchReadFeatureValuesRequest.EntityTypeSpec(\n",
    "        #    entity_type_id=\"spaceships\",\n",
    "        #    feature_selector=feature_selector_pb2.FeatureSelector(\n",
    "        #        id_matcher=feature_selector_pb2.IdMatcher(\n",
    "        #            ids=[\"size\", \"speed\"])))\n",
    "    ])"
   ]
  },
  {
   "cell_type": "code",
   "execution_count": 22,
   "id": "9a11dae0",
   "metadata": {},
   "outputs": [
    {
     "name": "stdout",
     "output_type": "stream",
     "text": [
      "\n",
      "CPU times: user 14.8 ms, sys: 5.29 ms, total: 20 ms\n",
      "Wall time: 25.2 s\n"
     ]
    }
   ],
   "source": [
    "%%time\n",
    "try:\n",
    "    print(admin_client.batch_read_feature_values(batch_serving_request).result())\n",
    "except Exception as ex:\n",
    "    print(ex)"
   ]
  },
  {
   "cell_type": "code",
   "execution_count": null,
   "id": "1f12b41b",
   "metadata": {},
   "outputs": [],
   "source": []
  }
 ],
 "metadata": {
  "environment": {
   "name": "common-cpu.m69",
   "type": "gcloud",
   "uri": "gcr.io/deeplearning-platform-release/base-cpu:m69"
  },
  "kernelspec": {
   "display_name": "Python 3",
   "language": "python",
   "name": "python3"
  },
  "language_info": {
   "codemirror_mode": {
    "name": "ipython",
    "version": 3
   },
   "file_extension": ".py",
   "mimetype": "text/x-python",
   "name": "python",
   "nbconvert_exporter": "python",
   "pygments_lexer": "ipython3",
   "version": "3.7.10"
  }
 },
 "nbformat": 4,
 "nbformat_minor": 5
}

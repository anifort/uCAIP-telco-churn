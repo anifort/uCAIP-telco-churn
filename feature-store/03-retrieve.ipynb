{
 "cells": [
  {
   "cell_type": "markdown",
   "id": "sticky-internship",
   "metadata": {},
   "source": [
    "# Featurestore - Mars21\n",
    "## Feature retrieval (online & batch)\n",
    "Christos Aniftos \\\n",
    "Soeren Petersen"
   ]
  },
  {
   "cell_type": "code",
   "execution_count": null,
   "id": "whole-township",
   "metadata": {},
   "outputs": [],
   "source": [
    "from google.api_core import operations_v1\n",
    "from google.cloud.aiplatform_v1beta1.types import io as io_pb2\n",
    "from google.cloud.aiplatform_v1beta1.types.feature import Feature\n",
    "from google.cloud.aiplatform_v1beta1 import FeaturestoreServiceClient\n",
    "from google.cloud.aiplatform_v1beta1 import FeaturestoreOnlineServingServiceClient\n",
    "from google.cloud.aiplatform_v1beta1.types import entity_type as entity_type_pb2\n",
    "from google.cloud.aiplatform_v1beta1.types import featurestore as featurestore_pb2\n",
    "from google.cloud.aiplatform_v1beta1.types import feature_selector as feature_selector_pb2\n",
    "from google.cloud.aiplatform_v1beta1.types import featurestore_service as featurestore_service_pb2\n",
    "from google.cloud.aiplatform_v1beta1.types import featurestore_online_service as featurestore_online_service_pb2"
   ]
  },
  {
   "cell_type": "code",
   "execution_count": null,
   "id": "conventional-documentary",
   "metadata": {},
   "outputs": [],
   "source": [
    "PROJECT_ID=!gcloud config get-value project # returns default project id \n",
    "PROJECT_ID=PROJECT_ID[0]\n",
    "\n",
    "LOCATION = 'europe-west4'\n",
    "API_ENDPOINT = LOCATION+\"-aiplatform.googleapis.com\" \n",
    "FEATURESTORE_ID = \"telco\"\n",
    "ENTITY_CUSTOMER=\"customer\"\n",
    "ENTITY_PHONE=\"phone\""
   ]
  },
  {
   "cell_type": "markdown",
   "id": "warming-atlanta",
   "metadata": {},
   "source": [
    "## Define clients for FS admin and data management"
   ]
  },
  {
   "cell_type": "code",
   "execution_count": null,
   "id": "opened-representation",
   "metadata": {},
   "outputs": [],
   "source": [
    "# Create admin_client for CRUD and data_client for reading feature values.\n",
    "admin_client = FeaturestoreServiceClient(\n",
    "    client_options={\"api_endpoint\": API_ENDPOINT})\n",
    "\n",
    "data_client = FeaturestoreOnlineServingServiceClient(\n",
    "    client_options={\"api_endpoint\": API_ENDPOINT})"
   ]
  },
  {
   "cell_type": "code",
   "execution_count": null,
   "id": "julian-skiing",
   "metadata": {},
   "outputs": [],
   "source": [
    "LOC_PATH = admin_client.common_location_path(PROJECT_ID, LOCATION)\n",
    "FS_PATH = admin_client.featurestore_path(PROJECT_ID, LOCATION, FEATURESTORE_ID)\n",
    "ENTITY_CUSTOMER_PATH = admin_client.entity_type_path(PROJECT_ID, LOCATION, FEATURESTORE_ID, ENTITY_CUSTOMER)\n",
    "FEATURE_CUSTOMER_PATH = admin_client.feature_path(PROJECT_ID, LOCATION, FEATURESTORE_ID, ENTITY_CUSTOMER, '{}')\n",
    "ENTITY_PHONE_PATH = admin_client.entity_type_path(PROJECT_ID, LOCATION, FEATURESTORE_ID, ENTITY_PHONE)\n",
    "FEATURE_PHONE_PATH = admin_client.feature_path(PROJECT_ID, LOCATION, FEATURESTORE_ID, ENTITY_PHONE, '{}')\n",
    "\n",
    "print(\"Location: \\t\", LOC_PATH)\n",
    "print(\"Feature Store: \\t\", FS_PATH)\n",
    "print(\"Entity customer: \\t\", FEATURE_CUSTOMER_PATH)\n",
    "print(\"Feature customer: \\t\",FEATURE_CUSTOMER_PATH)\n",
    "print(\"Entity phone: \\t\", ENTITY_PHONE_PATH)\n",
    "print(\"Feature phone: \\t\",FEATURE_PHONE_PATH)"
   ]
  },
  {
   "cell_type": "markdown",
   "id": "thirty-influence",
   "metadata": {},
   "source": [
    "## Read Values from FS Online Storage - Real time!"
   ]
  },
  {
   "cell_type": "code",
   "execution_count": null,
   "id": "tired-blink",
   "metadata": {},
   "outputs": [],
   "source": [
    "feature_selector_customer = feature_selector_pb2.FeatureSelector(\n",
    "    id_matcher=feature_selector_pb2.IdMatcher(\n",
    "        ids=[\"senior_citizen\", \"partner\", \"monthly_charges_avg_customer_clustered\", \"monthly_charges\", \"payment_method\"]))\n",
    "\n",
    "feature_selector_phone = feature_selector_pb2.FeatureSelector(\n",
    "    id_matcher=feature_selector_pb2.IdMatcher(\n",
    "        ids=[\"approx_price_euro\"]))"
   ]
  },
  {
   "cell_type": "code",
   "execution_count": null,
   "id": "hollywood-divide",
   "metadata": {},
   "outputs": [],
   "source": [
    "%%time\n",
    "customer_id = \"9708-HPXWZ\"\n",
    "data_client.read_feature_values(\n",
    "    featurestore_online_service_pb2.ReadFeatureValuesRequest(\n",
    "        entity_type=ENTITY_CUSTOMER_PATH,\n",
    "        entity_id= customer_id,\n",
    "        feature_selector=feature_selector_customer))"
   ]
  },
  {
   "cell_type": "code",
   "execution_count": null,
   "id": "original-employer",
   "metadata": {},
   "outputs": [],
   "source": [
    "%%time\n",
    "phone_id = \"Apple - iPhone 4\"\n",
    "data_client.read_feature_values(\n",
    "    featurestore_online_service_pb2.ReadFeatureValuesRequest(\n",
    "        entity_type=ENTITY_PHONE_PATH,\n",
    "        entity_id= phone_id,\n",
    "        feature_selector=feature_selector_phone))"
   ]
  },
  {
   "cell_type": "code",
   "execution_count": null,
   "id": "modified-allen",
   "metadata": {},
   "outputs": [],
   "source": [
    "%%time\n",
    "response_stream = data_client.streaming_read_feature_values(\n",
    "    featurestore_online_service_pb2.StreamingReadFeatureValuesRequest(\n",
    "        entity_type=ENTITY_CUSTOMER_PATH,\n",
    "        entity_ids=[\"9708-HPXWZ\", \"2523-EWWZL\"],\n",
    "        feature_selector=feature_selector_customer))\n",
    "\n",
    "for response in response_stream:\n",
    "  print(response)"
   ]
  },
  {
   "cell_type": "markdown",
   "id": "acting-viking",
   "metadata": {},
   "source": [
    "## Read Values from BATCH storage"
   ]
  },
  {
   "cell_type": "code",
   "execution_count": null,
   "id": "collaborative-morgan",
   "metadata": {},
   "outputs": [],
   "source": [
    "!gsutil cp feature-request.csv gs://$PROJECT_ID/telco-churn/feature-request.csv"
   ]
  },
  {
   "cell_type": "code",
   "execution_count": null,
   "id": "agricultural-terrace",
   "metadata": {},
   "outputs": [],
   "source": [
    "EXPORT_TABLE_URI = \"bq://{}.telco.training_churn_data_v6\".format(PROJECT_ID)\n",
    "FEATURE_REQ_CSV_PATH = \"gs://{}/telco-churn/feature-request.csv\".format(PROJECT_ID)"
   ]
  },
  {
   "cell_type": "code",
   "execution_count": null,
   "id": "blind-trouble",
   "metadata": {},
   "outputs": [],
   "source": [
    "batch_serving_request = featurestore_service_pb2.BatchReadFeatureValuesRequest(\n",
    "    featurestore=FS_PATH,\n",
    "    csv_read_instances=io_pb2.CsvSource(\n",
    "        gcs_source=io_pb2.GcsSource(uris=[FEATURE_REQ_CSV_PATH])),\n",
    "    \n",
    "    # Output info\n",
    "    destination=featurestore_service_pb2.FeatureValueDestination(\n",
    "        bigquery_destination=io_pb2.BigQueryDestination(\n",
    "            # output to BigQuery table\n",
    "            output_uri=EXPORT_TABLE_URI)),\n",
    "    #destination=featurestore_service_pb2.FeatureValueDestination(\n",
    "    #    tfrecord_destination=io_pb2.CsvDestination(\n",
    "    #        gcs_destination=EXPORT_TF_PATH)),\n",
    "   \n",
    "\n",
    "    # Select features to read\n",
    "    entity_type_specs=[\n",
    "        featurestore_service_pb2.BatchReadFeatureValuesRequest.EntityTypeSpec(\n",
    "            # read feature values of features subscriber_type and duration_minutes from \"bikes\"\n",
    "            entity_type_id=ENTITY_CUSTOMER, \n",
    "            feature_selector=feature_selector_customer\n",
    "        ),\n",
    "        featurestore_service_pb2.BatchReadFeatureValuesRequest.EntityTypeSpec(\n",
    "            # read feature values of features subscriber_type and duration_minutes from \"bikes\"\n",
    "            entity_type_id=ENTITY_PHONE, \n",
    "            feature_selector=feature_selector_phone\n",
    "        ),\n",
    "    ])"
   ]
  },
  {
   "cell_type": "code",
   "execution_count": null,
   "id": "speaking-parking",
   "metadata": {},
   "outputs": [],
   "source": [
    "%%time\n",
    "try:\n",
    "    print(admin_client.batch_read_feature_values(batch_serving_request).result())\n",
    "except Exception as ex:\n",
    "    print(ex)"
   ]
  },
  {
   "cell_type": "code",
   "execution_count": null,
   "id": "pursuant-healing",
   "metadata": {},
   "outputs": [],
   "source": []
  }
 ],
 "metadata": {
  "environment": {
   "name": "common-cpu.mnightly-2021-02-02-debian-10-test",
   "type": "gcloud",
   "uri": "gcr.io/deeplearning-platform-release/base-cpu:mnightly-2021-02-02-debian-10-test"
  },
  "kernelspec": {
   "display_name": "Python 3",
   "language": "python",
   "name": "python3"
  },
  "language_info": {
   "codemirror_mode": {
    "name": "ipython",
    "version": 3
   },
   "file_extension": ".py",
   "mimetype": "text/x-python",
   "name": "python",
   "nbconvert_exporter": "python",
   "pygments_lexer": "ipython3",
   "version": "3.7.9"
  }
 },
 "nbformat": 4,
 "nbformat_minor": 5
}

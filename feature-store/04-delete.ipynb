{
 "cells": [
  {
   "cell_type": "markdown",
   "id": "accessible-short",
   "metadata": {},
   "source": [
    "# Featurestore\n",
    "## Feature Store Delete\n",
    "Christos Aniftos"
   ]
  },
  {
   "cell_type": "code",
   "execution_count": null,
   "id": "stable-bookmark",
   "metadata": {},
   "outputs": [],
   "source": [
    "from google.api_core import operations_v1\n",
    "from google.cloud.aiplatform_v1beta1.types import io as io_pb2\n",
    "from google.cloud.aiplatform_v1beta1.types.feature import Feature\n",
    "from google.cloud.aiplatform_v1beta1 import FeaturestoreServiceClient\n",
    "from google.cloud.aiplatform_v1beta1 import FeaturestoreOnlineServingServiceClient\n",
    "from google.cloud.aiplatform_v1beta1.types import entity_type as entity_type_pb2\n",
    "from google.cloud.aiplatform_v1beta1.types import featurestore as featurestore_pb2\n",
    "from google.cloud.aiplatform_v1beta1.types import feature_selector as feature_selector_pb2\n",
    "from google.cloud.aiplatform_v1beta1.types import featurestore_service as featurestore_service_pb2\n",
    "from google.cloud.aiplatform_v1beta1.types import featurestore_online_service as featurestore_online_service_pb2"
   ]
  },
  {
   "cell_type": "code",
   "execution_count": null,
   "id": "demonstrated-performance",
   "metadata": {},
   "outputs": [],
   "source": [
    "PROJECT_ID=!gcloud config get-value project # returns default project id \n",
    "PROJECT_ID=PROJECT_ID[0]\n",
    "\n",
    "LOCATION = 'europe-west4' \n",
    "API_ENDPOINT = LOCATION+\"-aiplatform.googleapis.com\" \n",
    "FEATURESTORE_ID = \"telco\""
   ]
  },
  {
   "cell_type": "markdown",
   "id": "discrete-accreditation",
   "metadata": {},
   "source": [
    "## Define clinets for FS admin and data management"
   ]
  },
  {
   "cell_type": "code",
   "execution_count": null,
   "id": "aging-nashville",
   "metadata": {},
   "outputs": [],
   "source": [
    "# Create admin_client for CRUD and data_client for reading feature values.\n",
    "admin_client = FeaturestoreServiceClient(\n",
    "    client_options={\"api_endpoint\": API_ENDPOINT})"
   ]
  },
  {
   "cell_type": "code",
   "execution_count": null,
   "id": "packed-continuity",
   "metadata": {},
   "outputs": [],
   "source": [
    "LOC_PATH = admin_client.common_location_path(PROJECT_ID, LOCATION)\n",
    "FS_PATH = admin_client.featurestore_path(PROJECT_ID, LOCATION, FEATURESTORE_ID)\n",
    "\n",
    "print(\"Location: \\t\", LOC_PATH)\n",
    "print(\"Feature Store: \\t\", FS_PATH)"
   ]
  },
  {
   "cell_type": "markdown",
   "id": "strange-cleaning",
   "metadata": {},
   "source": [
    "## Delete Features , Entities and Feature Store"
   ]
  },
  {
   "cell_type": "code",
   "execution_count": null,
   "id": "remarkable-interstate",
   "metadata": {},
   "outputs": [],
   "source": [
    "try:\n",
    "    for et in list(admin_client.list_entity_types(parent=FS_PATH)):\n",
    "        for f in list(admin_client.list_features(parent=et.name)):\n",
    "            admin_client.delete_feature(name=f.name).result()  # delete feature\n",
    "        admin_client.delete_entity_type(name=et.name).result() # delete entity\n",
    "    admin_client.delete_featurestore(name = FS_PATH) # delete store\n",
    "except Exception as ex:\n",
    "    print(ex)"
   ]
  },
  {
   "cell_type": "code",
   "execution_count": null,
   "id": "executed-doctrine",
   "metadata": {},
   "outputs": [],
   "source": [
    "try:\n",
    "    print(admin_client.delete_featurestore(\n",
    "        request=featurestore_service_pb2.DeleteFeaturestoreRequest(\n",
    "            name=FS_PATH,\n",
    "            force=True)).result())\n",
    "except Exception as ex:\n",
    "    print(ex)"
   ]
  },
  {
   "cell_type": "code",
   "execution_count": null,
   "id": "appointed-driving",
   "metadata": {},
   "outputs": [],
   "source": []
  }
 ],
 "metadata": {
  "environment": {
   "name": "common-cpu.mnightly-2021-02-02-debian-10-test",
   "type": "gcloud",
   "uri": "gcr.io/deeplearning-platform-release/base-cpu:mnightly-2021-02-02-debian-10-test"
  },
  "kernelspec": {
   "display_name": "Python 3",
   "language": "python",
   "name": "python3"
  },
  "language_info": {
   "codemirror_mode": {
    "name": "ipython",
    "version": 3
   },
   "file_extension": ".py",
   "mimetype": "text/x-python",
   "name": "python",
   "nbconvert_exporter": "python",
   "pygments_lexer": "ipython3",
   "version": "3.7.9"
  }
 },
 "nbformat": 4,
 "nbformat_minor": 5
}

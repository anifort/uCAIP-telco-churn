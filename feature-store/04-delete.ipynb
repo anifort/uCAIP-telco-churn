{
 "cells": [
  {
   "cell_type": "markdown",
   "id": "7b7a8dc0",
   "metadata": {},
   "source": [
    "# Featurestore - Mars21\n",
    "## Feature Store Delete\n",
    "Christos Aniftos \\\n",
    "Soeren Petersen"
   ]
  },
  {
   "cell_type": "code",
   "execution_count": 1,
   "id": "7ba8627b",
   "metadata": {},
   "outputs": [],
   "source": [
    "from google.api_core import operations_v1\n",
    "from google.cloud.aiplatform_v1beta1.types import io as io_pb2\n",
    "from google.cloud.aiplatform_v1beta1.types.feature import Feature\n",
    "from google.cloud.aiplatform_v1beta1 import FeaturestoreServiceClient\n",
    "from google.cloud.aiplatform_v1beta1 import FeaturestoreOnlineServingServiceClient\n",
    "from google.cloud.aiplatform_v1beta1.types import entity_type as entity_type_pb2\n",
    "from google.cloud.aiplatform_v1beta1.types import featurestore as featurestore_pb2\n",
    "from google.cloud.aiplatform_v1beta1.types import feature_selector as feature_selector_pb2\n",
    "from google.cloud.aiplatform_v1beta1.types import featurestore_service as featurestore_service_pb2\n",
    "from google.cloud.aiplatform_v1beta1.types import featurestore_online_service as featurestore_online_service_pb2"
   ]
  },
  {
   "cell_type": "code",
   "execution_count": 2,
   "id": "05c02be5",
   "metadata": {},
   "outputs": [],
   "source": [
    "PROJECT_ID = \"feature-store-mars21\" # Change to your project id\n",
    "LOCATION = \"us-central1\" \n",
    "API_ENDPOINT = LOCATION+\"-aiplatform.googleapis.com\" \n",
    "FEATURESTORE_ID = \"universe\"\n",
    "ENTITY=\"customer\""
   ]
  },
  {
   "cell_type": "markdown",
   "id": "3ad5f324",
   "metadata": {},
   "source": [
    "## Define clinets for FS admin and data management"
   ]
  },
  {
   "cell_type": "code",
   "execution_count": 3,
   "id": "1075e4a9",
   "metadata": {},
   "outputs": [],
   "source": [
    "# Create admin_client for CRUD and data_client for reading feature values.\n",
    "admin_client = FeaturestoreServiceClient(\n",
    "    client_options={\"api_endpoint\": API_ENDPOINT})\n",
    "\n",
    "data_client = FeaturestoreOnlineServingServiceClient(\n",
    "    client_options={\"api_endpoint\": API_ENDPOINT})"
   ]
  },
  {
   "cell_type": "code",
   "execution_count": 4,
   "id": "b30bf995",
   "metadata": {},
   "outputs": [
    {
     "name": "stdout",
     "output_type": "stream",
     "text": [
      "Location: \t projects/feature-store-mars21/locations/us-central1\n",
      "Feature Store: \t projects/feature-store-mars21/locations/us-central1/featurestores/universe\n",
      "Entity: \t projects/feature-store-mars21/locations/us-central1/featurestores/universe/entityTypes/planets\n",
      "Feature: \t projects/feature-store-mars21/locations/us-central1/featurestores/universe/entityTypes/planets/features/{}\n"
     ]
    }
   ],
   "source": [
    "LOC_PATH = admin_client.common_location_path(PROJECT_ID, LOCATION)\n",
    "FS_PATH = admin_client.featurestore_path(PROJECT_ID, LOCATION, FEATURESTORE_ID)\n",
    "ENTITY_PATH = admin_client.entity_type_path(PROJECT_ID, LOCATION, FEATURESTORE_ID, ENTITY)\n",
    "FEATURE_PATH = admin_client.feature_path(PROJECT_ID, LOCATION, FEATURESTORE_ID, ENTITY, '{}')\n",
    "\n",
    "print(\"Location: \\t\", LOC_PATH)\n",
    "print(\"Feature Store: \\t\", FS_PATH)\n",
    "print(\"Entity: \\t\", ENTITY_PATH)\n",
    "print(\"Feature: \\t\",FEATURE_PATH)"
   ]
  },
  {
   "cell_type": "markdown",
   "id": "b33689d5",
   "metadata": {},
   "source": [
    "## Delete Features , Entities and Feature Store"
   ]
  },
  {
   "cell_type": "code",
   "execution_count": 5,
   "id": "0f7e5c98",
   "metadata": {},
   "outputs": [],
   "source": [
    "try:\n",
    "    for et in list(admin_client.list_entity_types(parent=FS_PATH)):\n",
    "        for f in list(admin_client.list_features(parent=et.name)):\n",
    "            admin_client.delete_feature(name=f.name).result()  # delete feature\n",
    "        #admin_client.delete_entity_type(name=et.name).result() # delete entity\n",
    "    #admin_client.delete_featurestore(name = FS_PATH) # delete store\n",
    "except Exception as ex:\n",
    "    print(ex)"
   ]
  },
  {
   "cell_type": "code",
   "execution_count": 6,
   "id": "8982d65d",
   "metadata": {},
   "outputs": [
    {
     "name": "stdout",
     "output_type": "stream",
     "text": [
      "\n"
     ]
    }
   ],
   "source": [
    "try:\n",
    "    print(admin_client.delete_featurestore(\n",
    "        request=featurestore_service_pb2.DeleteFeaturestoreRequest(\n",
    "            name=FS_PATH,\n",
    "            force=True)).result())\n",
    "except Exception as ex:\n",
    "    print(ex)"
   ]
  },
  {
   "cell_type": "code",
   "execution_count": null,
   "id": "1fc504a3",
   "metadata": {},
   "outputs": [],
   "source": []
  },
  {
   "cell_type": "code",
   "execution_count": null,
   "id": "4092a5a3",
   "metadata": {},
   "outputs": [],
   "source": []
  }
 ],
 "metadata": {
  "environment": {
   "name": "common-cpu.m69",
   "type": "gcloud",
   "uri": "gcr.io/deeplearning-platform-release/base-cpu:m69"
  },
  "kernelspec": {
   "display_name": "Python 3",
   "language": "python",
   "name": "python3"
  },
  "language_info": {
   "codemirror_mode": {
    "name": "ipython",
    "version": 3
   },
   "file_extension": ".py",
   "mimetype": "text/x-python",
   "name": "python",
   "nbconvert_exporter": "python",
   "pygments_lexer": "ipython3",
   "version": "3.7.10"
  }
 },
 "nbformat": 4,
 "nbformat_minor": 5
}

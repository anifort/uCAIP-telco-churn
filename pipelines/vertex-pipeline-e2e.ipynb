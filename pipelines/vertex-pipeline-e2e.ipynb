{
 "cells": [
  {
   "cell_type": "code",
   "execution_count": 1,
   "id": "excellent-wedding",
   "metadata": {
    "collapsed": true,
    "jupyter": {
     "outputs_hidden": true
    }
   },
   "outputs": [
    {
     "name": "stdout",
     "output_type": "stream",
     "text": [
      "Requirement already satisfied: google-cloud-pipeline-components==0.1.4 in /opt/conda/lib/python3.7/site-packages (0.1.4)\n",
      "Requirement already satisfied: kfp<2.0.0,>=1.4.0 in /opt/conda/lib/python3.7/site-packages (from google-cloud-pipeline-components==0.1.4) (1.7.1)\n",
      "Requirement already satisfied: google-cloud-aiplatform>=1.1.1 in /opt/conda/lib/python3.7/site-packages (from google-cloud-pipeline-components==0.1.4) (1.3.0)\n",
      "Requirement already satisfied: google-api-core[grpc]<3.0.0dev,>=1.26.0 in /opt/conda/lib/python3.7/site-packages (from google-cloud-aiplatform>=1.1.1->google-cloud-pipeline-components==0.1.4) (2.0.0)\n",
      "Requirement already satisfied: google-cloud-storage<2.0.0dev,>=1.32.0 in /opt/conda/lib/python3.7/site-packages (from google-cloud-aiplatform>=1.1.1->google-cloud-pipeline-components==0.1.4) (1.42.0)\n",
      "Requirement already satisfied: google-cloud-bigquery<3.0.0dev,>=1.15.0 in /opt/conda/lib/python3.7/site-packages (from google-cloud-aiplatform>=1.1.1->google-cloud-pipeline-components==0.1.4) (2.24.1)\n",
      "Requirement already satisfied: proto-plus>=1.10.1 in /opt/conda/lib/python3.7/site-packages (from google-cloud-aiplatform>=1.1.1->google-cloud-pipeline-components==0.1.4) (1.13.0)\n",
      "Requirement already satisfied: packaging>=14.3 in /opt/conda/lib/python3.7/site-packages (from google-cloud-aiplatform>=1.1.1->google-cloud-pipeline-components==0.1.4) (20.8)\n",
      "Requirement already satisfied: requests<3.0.0dev,>=2.18.0 in /opt/conda/lib/python3.7/site-packages (from google-api-core[grpc]<3.0.0dev,>=1.26.0->google-cloud-aiplatform>=1.1.1->google-cloud-pipeline-components==0.1.4) (2.25.1)\n",
      "Requirement already satisfied: protobuf>=3.12.0 in /opt/conda/lib/python3.7/site-packages (from google-api-core[grpc]<3.0.0dev,>=1.26.0->google-cloud-aiplatform>=1.1.1->google-cloud-pipeline-components==0.1.4) (3.14.0)\n",
      "Requirement already satisfied: setuptools>=40.3.0 in /opt/conda/lib/python3.7/site-packages (from google-api-core[grpc]<3.0.0dev,>=1.26.0->google-cloud-aiplatform>=1.1.1->google-cloud-pipeline-components==0.1.4) (49.6.0.post20210108)\n",
      "Requirement already satisfied: google-auth<3.0dev,>=1.25.0 in /opt/conda/lib/python3.7/site-packages (from google-api-core[grpc]<3.0.0dev,>=1.26.0->google-cloud-aiplatform>=1.1.1->google-cloud-pipeline-components==0.1.4) (1.35.0)\n",
      "Requirement already satisfied: googleapis-common-protos<2.0dev,>=1.6.0 in /opt/conda/lib/python3.7/site-packages (from google-api-core[grpc]<3.0.0dev,>=1.26.0->google-cloud-aiplatform>=1.1.1->google-cloud-pipeline-components==0.1.4) (1.52.0)\n",
      "Requirement already satisfied: grpcio<2.0dev,>=1.33.2 in /opt/conda/lib/python3.7/site-packages (from google-api-core[grpc]<3.0.0dev,>=1.26.0->google-cloud-aiplatform>=1.1.1->google-cloud-pipeline-components==0.1.4) (1.39.0)\n",
      "Requirement already satisfied: six>=1.9.0 in /opt/conda/lib/python3.7/site-packages (from google-auth<3.0dev,>=1.25.0->google-api-core[grpc]<3.0.0dev,>=1.26.0->google-cloud-aiplatform>=1.1.1->google-cloud-pipeline-components==0.1.4) (1.15.0)\n",
      "Requirement already satisfied: cachetools<5.0,>=2.0.0 in /opt/conda/lib/python3.7/site-packages (from google-auth<3.0dev,>=1.25.0->google-api-core[grpc]<3.0.0dev,>=1.26.0->google-cloud-aiplatform>=1.1.1->google-cloud-pipeline-components==0.1.4) (4.2.1)\n",
      "Requirement already satisfied: rsa<5,>=3.1.4 in /opt/conda/lib/python3.7/site-packages (from google-auth<3.0dev,>=1.25.0->google-api-core[grpc]<3.0.0dev,>=1.26.0->google-cloud-aiplatform>=1.1.1->google-cloud-pipeline-components==0.1.4) (4.7)\n",
      "Requirement already satisfied: pyasn1-modules>=0.2.1 in /opt/conda/lib/python3.7/site-packages (from google-auth<3.0dev,>=1.25.0->google-api-core[grpc]<3.0.0dev,>=1.26.0->google-cloud-aiplatform>=1.1.1->google-cloud-pipeline-components==0.1.4) (0.2.7)\n",
      "Requirement already satisfied: google-resumable-media<3.0dev,>=0.6.0 in /opt/conda/lib/python3.7/site-packages (from google-cloud-bigquery<3.0.0dev,>=1.15.0->google-cloud-aiplatform>=1.1.1->google-cloud-pipeline-components==0.1.4) (2.0.0)\n",
      "Requirement already satisfied: google-cloud-core<3.0.0dev,>=1.4.1 in /opt/conda/lib/python3.7/site-packages (from google-cloud-bigquery<3.0.0dev,>=1.15.0->google-cloud-aiplatform>=1.1.1->google-cloud-pipeline-components==0.1.4) (2.0.0)\n",
      "Requirement already satisfied: google-crc32c<2.0dev,>=1.0 in /opt/conda/lib/python3.7/site-packages (from google-resumable-media<3.0dev,>=0.6.0->google-cloud-bigquery<3.0.0dev,>=1.15.0->google-cloud-aiplatform>=1.1.1->google-cloud-pipeline-components==0.1.4) (1.1.2)\n",
      "Requirement already satisfied: cffi>=1.0.0 in /opt/conda/lib/python3.7/site-packages (from google-crc32c<2.0dev,>=1.0->google-resumable-media<3.0dev,>=0.6.0->google-cloud-bigquery<3.0.0dev,>=1.15.0->google-cloud-aiplatform>=1.1.1->google-cloud-pipeline-components==0.1.4) (1.14.4)\n",
      "Requirement already satisfied: pycparser in /opt/conda/lib/python3.7/site-packages (from cffi>=1.0.0->google-crc32c<2.0dev,>=1.0->google-resumable-media<3.0dev,>=0.6.0->google-cloud-bigquery<3.0.0dev,>=1.15.0->google-cloud-aiplatform>=1.1.1->google-cloud-pipeline-components==0.1.4) (2.20)\n",
      "Requirement already satisfied: cloudpickle<2,>=1.3.0 in /opt/conda/lib/python3.7/site-packages (from kfp<2.0.0,>=1.4.0->google-cloud-pipeline-components==0.1.4) (1.6.0)\n",
      "Requirement already satisfied: kfp-pipeline-spec<0.2.0,>=0.1.8 in /opt/conda/lib/python3.7/site-packages (from kfp<2.0.0,>=1.4.0->google-cloud-pipeline-components==0.1.4) (0.1.9)\n",
      "Requirement already satisfied: fire<1,>=0.3.1 in /opt/conda/lib/python3.7/site-packages (from kfp<2.0.0,>=1.4.0->google-cloud-pipeline-components==0.1.4) (0.4.0)\n",
      "Requirement already satisfied: absl-py<=0.11,>=0.9 in /opt/conda/lib/python3.7/site-packages (from kfp<2.0.0,>=1.4.0->google-cloud-pipeline-components==0.1.4) (0.11.0)\n",
      "Requirement already satisfied: Deprecated<2,>=1.2.7 in /opt/conda/lib/python3.7/site-packages (from kfp<2.0.0,>=1.4.0->google-cloud-pipeline-components==0.1.4) (1.2.12)\n",
      "Requirement already satisfied: jsonschema<4,>=3.0.1 in /opt/conda/lib/python3.7/site-packages (from kfp<2.0.0,>=1.4.0->google-cloud-pipeline-components==0.1.4) (3.2.0)\n",
      "Requirement already satisfied: tabulate<1,>=0.8.6 in /opt/conda/lib/python3.7/site-packages (from kfp<2.0.0,>=1.4.0->google-cloud-pipeline-components==0.1.4) (0.8.9)\n",
      "Requirement already satisfied: click<8,>=7.1.1 in /opt/conda/lib/python3.7/site-packages (from kfp<2.0.0,>=1.4.0->google-cloud-pipeline-components==0.1.4) (7.1.2)\n",
      "Requirement already satisfied: requests-toolbelt<1,>=0.8.0 in /opt/conda/lib/python3.7/site-packages (from kfp<2.0.0,>=1.4.0->google-cloud-pipeline-components==0.1.4) (0.9.1)\n",
      "Requirement already satisfied: PyYAML<6,>=5.3 in /opt/conda/lib/python3.7/site-packages (from kfp<2.0.0,>=1.4.0->google-cloud-pipeline-components==0.1.4) (5.4.1)\n",
      "Requirement already satisfied: docstring-parser<1,>=0.7.3 in /opt/conda/lib/python3.7/site-packages (from kfp<2.0.0,>=1.4.0->google-cloud-pipeline-components==0.1.4) (0.10)\n",
      "Requirement already satisfied: strip-hints<1,>=0.1.8 in /opt/conda/lib/python3.7/site-packages (from kfp<2.0.0,>=1.4.0->google-cloud-pipeline-components==0.1.4) (0.1.10)\n",
      "Requirement already satisfied: google-api-python-client<2,>=1.7.8 in /opt/conda/lib/python3.7/site-packages (from kfp<2.0.0,>=1.4.0->google-cloud-pipeline-components==0.1.4) (1.7.12)\n",
      "Requirement already satisfied: kubernetes<13,>=8.0.0 in /opt/conda/lib/python3.7/site-packages (from kfp<2.0.0,>=1.4.0->google-cloud-pipeline-components==0.1.4) (12.0.1)\n",
      "Requirement already satisfied: kfp-server-api<2.0.0,>=1.1.2 in /opt/conda/lib/python3.7/site-packages (from kfp<2.0.0,>=1.4.0->google-cloud-pipeline-components==0.1.4) (1.6.0)\n",
      "Requirement already satisfied: wrapt<2,>=1.10 in /opt/conda/lib/python3.7/site-packages (from Deprecated<2,>=1.2.7->kfp<2.0.0,>=1.4.0->google-cloud-pipeline-components==0.1.4) (1.12.1)\n",
      "Requirement already satisfied: termcolor in /opt/conda/lib/python3.7/site-packages (from fire<1,>=0.3.1->kfp<2.0.0,>=1.4.0->google-cloud-pipeline-components==0.1.4) (1.1.0)\n",
      "Requirement already satisfied: httplib2<1dev,>=0.17.0 in /opt/conda/lib/python3.7/site-packages (from google-api-python-client<2,>=1.7.8->kfp<2.0.0,>=1.4.0->google-cloud-pipeline-components==0.1.4) (0.18.1)\n",
      "Requirement already satisfied: google-auth-httplib2>=0.0.3 in /opt/conda/lib/python3.7/site-packages (from google-api-python-client<2,>=1.7.8->kfp<2.0.0,>=1.4.0->google-cloud-pipeline-components==0.1.4) (0.0.4)\n",
      "Requirement already satisfied: uritemplate<4dev,>=3.0.0 in /opt/conda/lib/python3.7/site-packages (from google-api-python-client<2,>=1.7.8->kfp<2.0.0,>=1.4.0->google-cloud-pipeline-components==0.1.4) (3.0.1)\n",
      "Requirement already satisfied: pyrsistent>=0.14.0 in /opt/conda/lib/python3.7/site-packages (from jsonschema<4,>=3.0.1->kfp<2.0.0,>=1.4.0->google-cloud-pipeline-components==0.1.4) (0.17.3)\n",
      "Requirement already satisfied: importlib-metadata in /opt/conda/lib/python3.7/site-packages (from jsonschema<4,>=3.0.1->kfp<2.0.0,>=1.4.0->google-cloud-pipeline-components==0.1.4) (3.4.0)\n",
      "Requirement already satisfied: attrs>=17.4.0 in /opt/conda/lib/python3.7/site-packages (from jsonschema<4,>=3.0.1->kfp<2.0.0,>=1.4.0->google-cloud-pipeline-components==0.1.4) (20.3.0)\n",
      "Requirement already satisfied: python-dateutil in /opt/conda/lib/python3.7/site-packages (from kfp-server-api<2.0.0,>=1.1.2->kfp<2.0.0,>=1.4.0->google-cloud-pipeline-components==0.1.4) (2.8.1)\n",
      "Requirement already satisfied: urllib3>=1.15 in /opt/conda/lib/python3.7/site-packages (from kfp-server-api<2.0.0,>=1.1.2->kfp<2.0.0,>=1.4.0->google-cloud-pipeline-components==0.1.4) (1.26.3)\n",
      "Requirement already satisfied: certifi in /opt/conda/lib/python3.7/site-packages (from kfp-server-api<2.0.0,>=1.1.2->kfp<2.0.0,>=1.4.0->google-cloud-pipeline-components==0.1.4) (2020.12.5)\n",
      "Requirement already satisfied: requests-oauthlib in /opt/conda/lib/python3.7/site-packages (from kubernetes<13,>=8.0.0->kfp<2.0.0,>=1.4.0->google-cloud-pipeline-components==0.1.4) (1.3.0)\n",
      "Requirement already satisfied: websocket-client!=0.40.0,!=0.41.*,!=0.42.*,>=0.32.0 in /opt/conda/lib/python3.7/site-packages (from kubernetes<13,>=8.0.0->kfp<2.0.0,>=1.4.0->google-cloud-pipeline-components==0.1.4) (0.57.0)\n",
      "Requirement already satisfied: pyparsing>=2.0.2 in /opt/conda/lib/python3.7/site-packages (from packaging>=14.3->google-cloud-aiplatform>=1.1.1->google-cloud-pipeline-components==0.1.4) (2.4.7)\n",
      "Requirement already satisfied: pyasn1<0.5.0,>=0.4.6 in /opt/conda/lib/python3.7/site-packages (from pyasn1-modules>=0.2.1->google-auth<3.0dev,>=1.25.0->google-api-core[grpc]<3.0.0dev,>=1.26.0->google-cloud-aiplatform>=1.1.1->google-cloud-pipeline-components==0.1.4) (0.4.8)\n",
      "Requirement already satisfied: chardet<5,>=3.0.2 in /opt/conda/lib/python3.7/site-packages (from requests<3.0.0dev,>=2.18.0->google-api-core[grpc]<3.0.0dev,>=1.26.0->google-cloud-aiplatform>=1.1.1->google-cloud-pipeline-components==0.1.4) (3.0.4)\n",
      "Requirement already satisfied: idna<3,>=2.5 in /opt/conda/lib/python3.7/site-packages (from requests<3.0.0dev,>=2.18.0->google-api-core[grpc]<3.0.0dev,>=1.26.0->google-cloud-aiplatform>=1.1.1->google-cloud-pipeline-components==0.1.4) (2.10)\n",
      "Requirement already satisfied: wheel in /opt/conda/lib/python3.7/site-packages (from strip-hints<1,>=0.1.8->kfp<2.0.0,>=1.4.0->google-cloud-pipeline-components==0.1.4) (0.36.2)\n",
      "Requirement already satisfied: zipp>=0.5 in /opt/conda/lib/python3.7/site-packages (from importlib-metadata->jsonschema<4,>=3.0.1->kfp<2.0.0,>=1.4.0->google-cloud-pipeline-components==0.1.4) (3.4.0)\n",
      "Requirement already satisfied: typing-extensions>=3.6.4 in /opt/conda/lib/python3.7/site-packages (from importlib-metadata->jsonschema<4,>=3.0.1->kfp<2.0.0,>=1.4.0->google-cloud-pipeline-components==0.1.4) (3.7.4.3)\n",
      "Requirement already satisfied: oauthlib>=3.0.0 in /opt/conda/lib/python3.7/site-packages (from requests-oauthlib->kubernetes<13,>=8.0.0->kfp<2.0.0,>=1.4.0->google-cloud-pipeline-components==0.1.4) (3.0.1)\n",
      "Requirement already satisfied: google-cloud-aiplatform==1.3.0 in /opt/conda/lib/python3.7/site-packages (1.3.0)\n",
      "Requirement already satisfied: google-cloud-bigquery<3.0.0dev,>=1.15.0 in /opt/conda/lib/python3.7/site-packages (from google-cloud-aiplatform==1.3.0) (2.24.1)\n",
      "Requirement already satisfied: proto-plus>=1.10.1 in /opt/conda/lib/python3.7/site-packages (from google-cloud-aiplatform==1.3.0) (1.13.0)\n",
      "Requirement already satisfied: packaging>=14.3 in /opt/conda/lib/python3.7/site-packages (from google-cloud-aiplatform==1.3.0) (20.8)\n",
      "Requirement already satisfied: google-cloud-storage<2.0.0dev,>=1.32.0 in /opt/conda/lib/python3.7/site-packages (from google-cloud-aiplatform==1.3.0) (1.42.0)\n",
      "Requirement already satisfied: google-api-core[grpc]<3.0.0dev,>=1.26.0 in /opt/conda/lib/python3.7/site-packages (from google-cloud-aiplatform==1.3.0) (2.0.0)\n",
      "Requirement already satisfied: google-auth<3.0dev,>=1.25.0 in /opt/conda/lib/python3.7/site-packages (from google-api-core[grpc]<3.0.0dev,>=1.26.0->google-cloud-aiplatform==1.3.0) (1.35.0)\n",
      "Requirement already satisfied: requests<3.0.0dev,>=2.18.0 in /opt/conda/lib/python3.7/site-packages (from google-api-core[grpc]<3.0.0dev,>=1.26.0->google-cloud-aiplatform==1.3.0) (2.25.1)\n",
      "Requirement already satisfied: protobuf>=3.12.0 in /opt/conda/lib/python3.7/site-packages (from google-api-core[grpc]<3.0.0dev,>=1.26.0->google-cloud-aiplatform==1.3.0) (3.14.0)\n",
      "Requirement already satisfied: setuptools>=40.3.0 in /opt/conda/lib/python3.7/site-packages (from google-api-core[grpc]<3.0.0dev,>=1.26.0->google-cloud-aiplatform==1.3.0) (49.6.0.post20210108)\n",
      "Requirement already satisfied: googleapis-common-protos<2.0dev,>=1.6.0 in /opt/conda/lib/python3.7/site-packages (from google-api-core[grpc]<3.0.0dev,>=1.26.0->google-cloud-aiplatform==1.3.0) (1.52.0)\n",
      "Requirement already satisfied: grpcio<2.0dev,>=1.33.2 in /opt/conda/lib/python3.7/site-packages (from google-api-core[grpc]<3.0.0dev,>=1.26.0->google-cloud-aiplatform==1.3.0) (1.39.0)\n",
      "Requirement already satisfied: pyasn1-modules>=0.2.1 in /opt/conda/lib/python3.7/site-packages (from google-auth<3.0dev,>=1.25.0->google-api-core[grpc]<3.0.0dev,>=1.26.0->google-cloud-aiplatform==1.3.0) (0.2.7)\n",
      "Requirement already satisfied: six>=1.9.0 in /opt/conda/lib/python3.7/site-packages (from google-auth<3.0dev,>=1.25.0->google-api-core[grpc]<3.0.0dev,>=1.26.0->google-cloud-aiplatform==1.3.0) (1.15.0)\n",
      "Requirement already satisfied: cachetools<5.0,>=2.0.0 in /opt/conda/lib/python3.7/site-packages (from google-auth<3.0dev,>=1.25.0->google-api-core[grpc]<3.0.0dev,>=1.26.0->google-cloud-aiplatform==1.3.0) (4.2.1)\n",
      "Requirement already satisfied: rsa<5,>=3.1.4 in /opt/conda/lib/python3.7/site-packages (from google-auth<3.0dev,>=1.25.0->google-api-core[grpc]<3.0.0dev,>=1.26.0->google-cloud-aiplatform==1.3.0) (4.7)\n",
      "Requirement already satisfied: google-cloud-core<3.0.0dev,>=1.4.1 in /opt/conda/lib/python3.7/site-packages (from google-cloud-bigquery<3.0.0dev,>=1.15.0->google-cloud-aiplatform==1.3.0) (2.0.0)\n",
      "Requirement already satisfied: google-resumable-media<3.0dev,>=0.6.0 in /opt/conda/lib/python3.7/site-packages (from google-cloud-bigquery<3.0.0dev,>=1.15.0->google-cloud-aiplatform==1.3.0) (2.0.0)\n",
      "Requirement already satisfied: google-crc32c<2.0dev,>=1.0 in /opt/conda/lib/python3.7/site-packages (from google-resumable-media<3.0dev,>=0.6.0->google-cloud-bigquery<3.0.0dev,>=1.15.0->google-cloud-aiplatform==1.3.0) (1.1.2)\n",
      "Requirement already satisfied: cffi>=1.0.0 in /opt/conda/lib/python3.7/site-packages (from google-crc32c<2.0dev,>=1.0->google-resumable-media<3.0dev,>=0.6.0->google-cloud-bigquery<3.0.0dev,>=1.15.0->google-cloud-aiplatform==1.3.0) (1.14.4)\n",
      "Requirement already satisfied: pycparser in /opt/conda/lib/python3.7/site-packages (from cffi>=1.0.0->google-crc32c<2.0dev,>=1.0->google-resumable-media<3.0dev,>=0.6.0->google-cloud-bigquery<3.0.0dev,>=1.15.0->google-cloud-aiplatform==1.3.0) (2.20)\n",
      "Requirement already satisfied: pyparsing>=2.0.2 in /opt/conda/lib/python3.7/site-packages (from packaging>=14.3->google-cloud-aiplatform==1.3.0) (2.4.7)\n",
      "Requirement already satisfied: pyasn1<0.5.0,>=0.4.6 in /opt/conda/lib/python3.7/site-packages (from pyasn1-modules>=0.2.1->google-auth<3.0dev,>=1.25.0->google-api-core[grpc]<3.0.0dev,>=1.26.0->google-cloud-aiplatform==1.3.0) (0.4.8)\n",
      "Requirement already satisfied: idna<3,>=2.5 in /opt/conda/lib/python3.7/site-packages (from requests<3.0.0dev,>=2.18.0->google-api-core[grpc]<3.0.0dev,>=1.26.0->google-cloud-aiplatform==1.3.0) (2.10)\n",
      "Requirement already satisfied: certifi>=2017.4.17 in /opt/conda/lib/python3.7/site-packages (from requests<3.0.0dev,>=2.18.0->google-api-core[grpc]<3.0.0dev,>=1.26.0->google-cloud-aiplatform==1.3.0) (2020.12.5)\n",
      "Requirement already satisfied: chardet<5,>=3.0.2 in /opt/conda/lib/python3.7/site-packages (from requests<3.0.0dev,>=2.18.0->google-api-core[grpc]<3.0.0dev,>=1.26.0->google-cloud-aiplatform==1.3.0) (3.0.4)\n",
      "Requirement already satisfied: urllib3<1.27,>=1.21.1 in /opt/conda/lib/python3.7/site-packages (from requests<3.0.0dev,>=2.18.0->google-api-core[grpc]<3.0.0dev,>=1.26.0->google-cloud-aiplatform==1.3.0) (1.26.3)\n"
     ]
    }
   ],
   "source": [
    "!pip install google-cloud-pipeline-components==0.1.4\n",
    "!pip install google-cloud-aiplatform==1.3.0"
   ]
  },
  {
   "cell_type": "code",
   "execution_count": 2,
   "id": "progressive-specific",
   "metadata": {},
   "outputs": [],
   "source": [
    "import kfp\n",
    "from datetime import datetime\n",
    "from kfp.v2 import compiler\n",
    "from kfp.v2.google.client import AIPlatformClient\n",
    "from google.cloud import aiplatform\n",
    "from google_cloud_pipeline_components import aiplatform as gcc_aip"
   ]
  },
  {
   "cell_type": "code",
   "execution_count": 73,
   "id": "scientific-model",
   "metadata": {},
   "outputs": [],
   "source": [
    "PROJECT_ID=!gcloud config get-value project # returns default project id \n",
    "PROJECT_ID=PROJECT_ID[0]\n",
    "TIMESTAMP = datetime.now().strftime(\"%Y%m%d%H%M%S\")\n",
    "BUCKET = \"gs://\"+PROJECT_ID+'/telco-churn/pipeline'\n",
    "REGION='europe-west4'\n",
    "\n",
    "VERSION='v1'\n",
    "JOB_NAME=\"telco-churn-job-\"+VERSION\n",
    "MODEL_NAME=\"telco-churn-model-\"+VERSION\n",
    "DATASET_ID='5848592619210276864'"
   ]
  },
  {
   "cell_type": "code",
   "execution_count": 74,
   "id": "several-tissue",
   "metadata": {},
   "outputs": [],
   "source": [
    "gcs_csv_path = \"gs://{}/data/telco/Telco-Customer-Churn.csv\".format(PROJECT_ID)\n",
    "bq_data_table= 'bq://{}.telco.churn'.format(PROJECT_ID)\n",
    "bq_split_table= 'bq://{}.telco.churn_'.format(PROJECT_ID)\n",
    "pipeline_root_path = BUCKET+\"/pl-root\"\n",
    "pipeline_path = pipeline_root_path+'/churn_classif_pipeline.json'"
   ]
  },
  {
   "cell_type": "code",
   "execution_count": 87,
   "id": "inappropriate-grounds",
   "metadata": {},
   "outputs": [],
   "source": [
    "@kfp.dsl.pipeline(name=\"{}\".format(JOB_NAME),\n",
    "    pipeline_root=pipeline_root_path)\n",
    "def pipeline(project_id: str, \n",
    "             location: str):\n",
    "        \n",
    "    dataset_create_op = gcc_aip.TabularDatasetCreateOp(\n",
    "        project=project_id, \n",
    "        display_name=\"churn-pred\", \n",
    "        #gcs_source=gcs_csv_path,\n",
    "        bq_source=bq_data_table,\n",
    "        location=location\n",
    "    )\n",
    "    \n",
    "    training_op = gcc_aip.CustomPythonPackageTrainingJobRunOp(\n",
    "        project=project_id,\n",
    "        display_name=\"train_churn_prediction_{}\".format(VERSION),\n",
    "        python_package_gcs_uri=\"gs://{}/telco-churn/dist/trainer-0.1.tar.gz\".format(PROJECT_ID),\n",
    "        python_module=\"trainer.task\",\n",
    "        model_description=\"Churn prediction model\",\n",
    "        container_uri='eu.gcr.io/cloud-aiplatform/training/scikit-learn-cpu.0-23:latest', \n",
    "        model_serving_container_image_uri='eu.gcr.io/cloud-aiplatform/prediction/sklearn-cpu.0-23:latest',\n",
    "        dataset=dataset_create_op.outputs[\"dataset\"],\n",
    "        model_display_name=\"myChurnModel{}\".format(VERSION),\n",
    "        base_output_dir=\"{}/assets-{}\".format(BUCKET, VERSION),\n",
    "        staging_bucket=\"{}/staging\".format(BUCKET),\n",
    "        bigquery_destination=\"bq://{}\".format(PROJECT_ID),\n",
    "        machine_type= 'n1-standard-4',\n",
    "        training_fraction_split = 0.8,\n",
    "        validation_fraction_split = 0.1,\n",
    "        test_fraction_split = 0.1,\n",
    "        location=location\n",
    "    )\n",
    "\n",
    "    deploy_op = gcc_aip.ModelDeployOp(  \n",
    "        model=training_op.outputs[\"model\"],\n",
    "        project=project_id,\n",
    "        machine_type=\"n1-standard-4\",\n",
    "        location=location\n",
    "    )"
   ]
  },
  {
   "cell_type": "code",
   "execution_count": 88,
   "id": "hired-education",
   "metadata": {},
   "outputs": [],
   "source": [
    "compiler.Compiler().compile(\n",
    "    pipeline_func=pipeline,\n",
    "    package_path='/tmp/churn_classif_pipeline.json')"
   ]
  },
  {
   "cell_type": "code",
   "execution_count": 89,
   "id": "closing-beaver",
   "metadata": {},
   "outputs": [],
   "source": [
    "from google.cloud import storage\n",
    "storage_client = storage.Client()\n",
    "bucket = storage_client.bucket(PROJECT_ID)\n",
    "blob = bucket.blob('/'.join(pipeline_path.split('/')[3:]))\n",
    "\n",
    "blob.upload_from_filename('/tmp/churn_classif_pipeline.json')"
   ]
  },
  {
   "cell_type": "code",
   "execution_count": 90,
   "id": "constant-receiver",
   "metadata": {},
   "outputs": [
    {
     "name": "stdout",
     "output_type": "stream",
     "text": [
      "INFO:google.cloud.aiplatform.pipeline_jobs:Creating PipelineJob\n",
      "INFO:google.cloud.aiplatform.pipeline_jobs:PipelineJob created. Resource name: projects/478111835512/locations/europe-west4/pipelineJobs/telco-churn-job-v1-20210824000111\n",
      "INFO:google.cloud.aiplatform.pipeline_jobs:To use this PipelineJob in another session:\n",
      "INFO:google.cloud.aiplatform.pipeline_jobs:pipeline_job = aiplatform.PipelineJob.get('projects/478111835512/locations/europe-west4/pipelineJobs/telco-churn-job-v1-20210824000111')\n",
      "INFO:google.cloud.aiplatform.pipeline_jobs:View Pipeline Job:\n",
      "https://console.cloud.google.com/vertex-ai/locations/europe-west4/pipelines/runs/telco-churn-job-v1-20210824000111?project=478111835512\n",
      "INFO:google.cloud.aiplatform.pipeline_jobs:PipelineJob projects/478111835512/locations/europe-west4/pipelineJobs/telco-churn-job-v1-20210824000111 current state:\n",
      "PipelineState.PIPELINE_STATE_RUNNING\n",
      "INFO:google.cloud.aiplatform.pipeline_jobs:PipelineJob projects/478111835512/locations/europe-west4/pipelineJobs/telco-churn-job-v1-20210824000111 current state:\n",
      "PipelineState.PIPELINE_STATE_RUNNING\n",
      "INFO:google.cloud.aiplatform.pipeline_jobs:PipelineJob projects/478111835512/locations/europe-west4/pipelineJobs/telco-churn-job-v1-20210824000111 current state:\n",
      "PipelineState.PIPELINE_STATE_RUNNING\n",
      "INFO:google.cloud.aiplatform.pipeline_jobs:PipelineJob projects/478111835512/locations/europe-west4/pipelineJobs/telco-churn-job-v1-20210824000111 current state:\n",
      "PipelineState.PIPELINE_STATE_RUNNING\n",
      "INFO:google.cloud.aiplatform.pipeline_jobs:PipelineJob projects/478111835512/locations/europe-west4/pipelineJobs/telco-churn-job-v1-20210824000111 current state:\n",
      "PipelineState.PIPELINE_STATE_RUNNING\n",
      "INFO:google.cloud.aiplatform.pipeline_jobs:PipelineJob projects/478111835512/locations/europe-west4/pipelineJobs/telco-churn-job-v1-20210824000111 current state:\n",
      "PipelineState.PIPELINE_STATE_RUNNING\n",
      "INFO:google.cloud.aiplatform.pipeline_jobs:PipelineJob projects/478111835512/locations/europe-west4/pipelineJobs/telco-churn-job-v1-20210824000111 current state:\n",
      "PipelineState.PIPELINE_STATE_RUNNING\n",
      "INFO:google.cloud.aiplatform.pipeline_jobs:PipelineJob projects/478111835512/locations/europe-west4/pipelineJobs/telco-churn-job-v1-20210824000111 current state:\n",
      "PipelineState.PIPELINE_STATE_RUNNING\n",
      "INFO:google.cloud.aiplatform.pipeline_jobs:PipelineJob projects/478111835512/locations/europe-west4/pipelineJobs/telco-churn-job-v1-20210824000111 current state:\n",
      "PipelineState.PIPELINE_STATE_RUNNING\n",
      "INFO:google.cloud.aiplatform.pipeline_jobs:PipelineJob projects/478111835512/locations/europe-west4/pipelineJobs/telco-churn-job-v1-20210824000111 current state:\n",
      "PipelineState.PIPELINE_STATE_RUNNING\n",
      "INFO:google.cloud.aiplatform.pipeline_jobs:PipelineJob run completed. Resource name: projects/478111835512/locations/europe-west4/pipelineJobs/telco-churn-job-v1-20210824000111\n"
     ]
    }
   ],
   "source": [
    "\"\"\" \n",
    "from kfp.v2.google.client import AIPlatformClient\n",
    "api_client = AIPlatformClient(project_id=PROJECT_ID, region=REGION)\n",
    "response = api_client.create_run_from_job_spec(\n",
    "    'churn_classif_pipeline.json',\n",
    "    pipeline_root=pipeline_root_path,\n",
    "    parameter_values={\n",
    "        'project_id': project_id\n",
    "    })\n",
    "    \n",
    "\"\"\"\n",
    "\n",
    "from google.cloud.aiplatform.pipeline_jobs import PipelineJob\n",
    "\n",
    "pl = PipelineJob(display_name= JOB_NAME,\n",
    "        template_path= pipeline_path,\n",
    "        location=REGION,\n",
    "        parameter_values={'project_id': PROJECT_ID, \n",
    "                          'location': REGION})\n",
    "\n",
    "pl.run(sync=False)"
   ]
  },
  {
   "cell_type": "code",
   "execution_count": 85,
   "id": "ethical-satin",
   "metadata": {},
   "outputs": [
    {
     "data": {
      "text/plain": [
       "<PipelineState.PIPELINE_STATE_RUNNING: 3>"
      ]
     },
     "execution_count": 85,
     "metadata": {},
     "output_type": "execute_result"
    }
   ],
   "source": [
    "pl.state"
   ]
  }
 ],
 "metadata": {
  "environment": {
   "name": "common-cpu.mnightly-2021-02-02-debian-10-test",
   "type": "gcloud",
   "uri": "gcr.io/deeplearning-platform-release/base-cpu:mnightly-2021-02-02-debian-10-test"
  },
  "kernelspec": {
   "display_name": "Python 3",
   "language": "python",
   "name": "python3"
  },
  "language_info": {
   "codemirror_mode": {
    "name": "ipython",
    "version": 3
   },
   "file_extension": ".py",
   "mimetype": "text/x-python",
   "name": "python",
   "nbconvert_exporter": "python",
   "pygments_lexer": "ipython3",
   "version": "3.7.9"
  }
 },
 "nbformat": 4,
 "nbformat_minor": 5
}

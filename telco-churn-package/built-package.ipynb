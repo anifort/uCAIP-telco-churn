{
 "cells": [
  {
   "cell_type": "markdown",
   "id": "metric-campbell",
   "metadata": {},
   "source": [
    "# Python Package Helper\n",
    "### This notebook simply helps building our python package and uploading it to GCP"
   ]
  },
  {
   "cell_type": "code",
   "execution_count": null,
   "id": "corrected-funeral",
   "metadata": {},
   "outputs": [],
   "source": [
    "PROJECT_ID=!gcloud config get-value project # returns default project id \n",
    "PROJECT_ID=PROJECT_ID[0]\n",
    "BUCKET = \"gs://\"+PROJECT_ID"
   ]
  },
  {
   "cell_type": "markdown",
   "id": "miniature-dealer",
   "metadata": {},
   "source": [
    "### Test Module Locally \n",
    "Testing if it can run locally before runing it remotely. It does not matter how much data we use, \n",
    "we just want to ensure that it executes. (so if possible just use few data only)"
   ]
  },
  {
   "cell_type": "code",
   "execution_count": null,
   "id": "dietary-trinidad",
   "metadata": {},
   "outputs": [],
   "source": [
    "!python3 -m trainer.task -v \\\n",
    "    --model_param_kernel=linear \\\n",
    "    --model_dir=$BUCKET\"/telco-churn/assets_v0\" \\\n",
    "    --data_format=csv \\\n",
    "    --training_data_uri=gs://$PROJECT_ID/telco-churn/data/data_*.csv \\\n",
    "    --test_data_uri=gs://$PROJECT_ID/telco-churn/data/data_*.csv \\\n",
    "    --validation_data_uri=gs://$PROJECT_ID/telco-churn/data/data_*.csv "
   ]
  },
  {
   "cell_type": "markdown",
   "id": "considered-capitol",
   "metadata": {},
   "source": [
    "### Built the package"
   ]
  },
  {
   "cell_type": "code",
   "execution_count": null,
   "id": "patent-newman",
   "metadata": {},
   "outputs": [],
   "source": [
    "!python setup.py sdist"
   ]
  },
  {
   "cell_type": "markdown",
   "id": "alpine-female",
   "metadata": {},
   "source": [
    "### Upload package to GCP"
   ]
  },
  {
   "cell_type": "code",
   "execution_count": null,
   "id": "beneficial-stevens",
   "metadata": {},
   "outputs": [],
   "source": [
    "!gsutil cp dist/trainer-0.1.tar.gz $BUCKET\"/telco-churn/dist/\""
   ]
  }
 ],
 "metadata": {
  "environment": {
   "name": "common-cpu.mnightly-2021-02-02-debian-10-test",
   "type": "gcloud",
   "uri": "gcr.io/deeplearning-platform-release/base-cpu:mnightly-2021-02-02-debian-10-test"
  },
  "kernelspec": {
   "display_name": "Python 3",
   "language": "python",
   "name": "python3"
  },
  "language_info": {
   "codemirror_mode": {
    "name": "ipython",
    "version": 3
   },
   "file_extension": ".py",
   "mimetype": "text/x-python",
   "name": "python",
   "nbconvert_exporter": "python",
   "pygments_lexer": "ipython3",
   "version": "3.7.9"
  }
 },
 "nbformat": 4,
 "nbformat_minor": 5
}

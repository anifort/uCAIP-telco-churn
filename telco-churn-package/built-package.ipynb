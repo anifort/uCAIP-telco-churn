{
 "cells": [
  {
   "cell_type": "markdown",
   "id": "steady-bradley",
   "metadata": {},
   "source": [
    "# Python Package Helper\n",
    "### This notebook simply helps building our python package and uploading it to GCP"
   ]
  },
  {
   "cell_type": "code",
   "execution_count": 7,
   "id": "failing-pointer",
   "metadata": {},
   "outputs": [
    {
     "name": "stdout",
     "output_type": "stream",
     "text": [
      "myfirstproject-226013\n"
     ]
    }
   ],
   "source": [
    "PROJECT_ID=!gcloud config get-value project # returns default project id \n",
    "PROJECT_ID=PROJECT_ID[0]\n",
    "BUCKET = \"gs://\"+PROJECT_ID\n",
    "print(PROJECT_ID)"
   ]
  },
  {
   "cell_type": "markdown",
   "id": "stupid-advertiser",
   "metadata": {},
   "source": [
    "### Test Module Locally \n",
    "Testing if it can run locally before runing it remotely. It does not matter how much data we use, \n",
    "we just want to ensure that it executes. (so if possible just use few data only)"
   ]
  },
  {
   "cell_type": "markdown",
   "id": "valued-coordinator",
   "metadata": {},
   "source": [
    "The below will execute using data on GCS in the form of CSVs"
   ]
  },
  {
   "cell_type": "code",
   "execution_count": 12,
   "id": "exterior-diagram",
   "metadata": {},
   "outputs": [
    {
     "name": "stdout",
     "output_type": "stream",
     "text": [
      "INFO:root:Model artifacts will be exported here: gs://myfirstproject-226013/telco-churn/assets_v0\n",
      "INFO:root:Data format: csv\n",
      "INFO:root:Training data uri: gs://myfirstproject-226013/telco-churn/data/data_*.csv\n",
      "INFO:root:Validation data uri: gs://myfirstproject-226013/telco-churn/data/data_*.csv\n",
      "INFO:root:Test data uri: gs://myfirstproject-226013/telco-churn/data/data_*.csv\n",
      "INFO:root:Loading csv data\n",
      "INFO:root:reading gs data: gs://myfirstproject-226013/telco-churn/data/data_*.csv\n",
      "INFO:root:reading gs data: gs://myfirstproject-226013/telco-churn/data/data_*.csv\n",
      "INFO:root:Defining model parameters\n",
      "INFO:root:Running feature selection\n",
      "INFO:root:Training pipelines in CV\n",
      "INFO:root:Export trained pipeline and report\n",
      "INFO:root:Train completed. Exiting...\n"
     ]
    }
   ],
   "source": [
    "!python3 -m trainer.task -v \\\n",
    "    --model_param_kernel=linear \\\n",
    "    --model_dir=$BUCKET\"/telco-churn/assets_v0\" \\\n",
    "    --data_format=csv \\\n",
    "    --training_data_uri=$BUCKET\"/telco-churn/data/data_*.csv\" \\\n",
    "    --test_data_uri=$BUCKET\"/telco-churn/data/data_*.csv\" \\\n",
    "    --validation_data_uri=$BUCKET\"/telco-churn/data/data_*.csv\""
   ]
  },
  {
   "cell_type": "markdown",
   "id": "moved-angle",
   "metadata": {},
   "source": [
    "The below will execute using data from BigQuery"
   ]
  },
  {
   "cell_type": "code",
   "execution_count": 9,
   "id": "referenced-milton",
   "metadata": {},
   "outputs": [
    {
     "name": "stdout",
     "output_type": "stream",
     "text": [
      "INFO:root:Model artifacts will be exported here: gs://myfirstproject-226013/telco-churn/assets_v0\n",
      "INFO:root:Data format: bigquery\n",
      "INFO:root:Training data uri: bq://myfirstproject-226013.telco.churn\n",
      "INFO:root:Validation data uri: bq://myfirstproject-226013.telco.churn\n",
      "INFO:root:Test data uri: bq://myfirstproject-226013.telco.churn\n",
      "INFO:root:Loading bigquery data\n",
      "bq://myfirstproject-226013.telco.churn\n",
      "INFO:root:reading bq data: bq://myfirstproject-226013.telco.churn\n",
      "INFO:root:reading bq data: bq://myfirstproject-226013.telco.churn\n",
      "INFO:root:Defining model parameters\n",
      "INFO:root:Running feature selection\n",
      "INFO:root:Training pipelines in CV\n",
      "INFO:root:Export trained pipeline and report\n",
      "INFO:root:Train completed. Exiting...\n"
     ]
    }
   ],
   "source": [
    "!python3 -m trainer.task -v \\\n",
    "    --model_param_kernel=linear \\\n",
    "    --model_dir=$BUCKET\"/telco-churn/assets_v0\" \\\n",
    "    --data_format=bigquery \\\n",
    "    --training_data_uri=\"bq://\"$PROJECT_ID\".telco.churn\" \\\n",
    "    --test_data_uri=\"bq://\"$PROJECT_ID\".telco.churn\" \\\n",
    "    --validation_data_uri=\"bq://\"$PROJECT_ID\".telco.churn\""
   ]
  },
  {
   "cell_type": "markdown",
   "id": "ultimate-trainer",
   "metadata": {},
   "source": [
    "### Built the package"
   ]
  },
  {
   "cell_type": "code",
   "execution_count": 10,
   "id": "finnish-semester",
   "metadata": {},
   "outputs": [
    {
     "name": "stdout",
     "output_type": "stream",
     "text": [
      "running sdist\n",
      "running egg_info\n",
      "writing trainer.egg-info/PKG-INFO\n",
      "writing dependency_links to trainer.egg-info/dependency_links.txt\n",
      "writing requirements to trainer.egg-info/requires.txt\n",
      "writing top-level names to trainer.egg-info/top_level.txt\n",
      "reading manifest file 'trainer.egg-info/SOURCES.txt'\n",
      "writing manifest file 'trainer.egg-info/SOURCES.txt'\n",
      "warning: sdist: standard file not found: should have one of README, README.rst, README.txt, README.md\n",
      "\n",
      "running check\n",
      "warning: check: missing required meta-data: url\n",
      "\n",
      "warning: check: missing meta-data: if 'author' supplied, 'author_email' must be supplied too\n",
      "\n",
      "creating trainer-0.1\n",
      "creating trainer-0.1/trainer\n",
      "creating trainer-0.1/trainer.egg-info\n",
      "copying files to trainer-0.1...\n",
      "copying setup.py -> trainer-0.1\n",
      "copying trainer/__init__.py -> trainer-0.1/trainer\n",
      "copying trainer/task.py -> trainer-0.1/trainer\n",
      "copying trainer.egg-info/PKG-INFO -> trainer-0.1/trainer.egg-info\n",
      "copying trainer.egg-info/SOURCES.txt -> trainer-0.1/trainer.egg-info\n",
      "copying trainer.egg-info/dependency_links.txt -> trainer-0.1/trainer.egg-info\n",
      "copying trainer.egg-info/requires.txt -> trainer-0.1/trainer.egg-info\n",
      "copying trainer.egg-info/top_level.txt -> trainer-0.1/trainer.egg-info\n",
      "Writing trainer-0.1/setup.cfg\n",
      "Creating tar archive\n",
      "removing 'trainer-0.1' (and everything under it)\n"
     ]
    }
   ],
   "source": [
    "!python setup.py sdist"
   ]
  },
  {
   "cell_type": "markdown",
   "id": "authorized-studio",
   "metadata": {},
   "source": [
    "### Upload package to GCP"
   ]
  },
  {
   "cell_type": "code",
   "execution_count": 11,
   "id": "academic-assurance",
   "metadata": {},
   "outputs": [
    {
     "name": "stdout",
     "output_type": "stream",
     "text": [
      "Copying file://dist/trainer-0.1.tar.gz [Content-Type=application/x-tar]...\n",
      "/ [1 files][  6.0 KiB/  6.0 KiB]                                                \n",
      "Operation completed over 1 objects/6.0 KiB.                                      \n"
     ]
    }
   ],
   "source": [
    "!gsutil cp dist/trainer-0.1.tar.gz $BUCKET\"/telco-churn/dist/\""
   ]
  }
 ],
 "metadata": {
  "environment": {
   "name": "common-cpu.mnightly-2021-02-02-debian-10-test",
   "type": "gcloud",
   "uri": "gcr.io/deeplearning-platform-release/base-cpu:mnightly-2021-02-02-debian-10-test"
  },
  "kernelspec": {
   "display_name": "Python 3",
   "language": "python",
   "name": "python3"
  },
  "language_info": {
   "codemirror_mode": {
    "name": "ipython",
    "version": 3
   },
   "file_extension": ".py",
   "mimetype": "text/x-python",
   "name": "python",
   "nbconvert_exporter": "python",
   "pygments_lexer": "ipython3",
   "version": "3.7.9"
  }
 },
 "nbformat": 4,
 "nbformat_minor": 5
}

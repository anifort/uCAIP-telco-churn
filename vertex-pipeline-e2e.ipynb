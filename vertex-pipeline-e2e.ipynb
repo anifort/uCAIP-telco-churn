{
 "cells": [
  {
   "cell_type": "code",
   "execution_count": null,
   "id": "a360a342",
   "metadata": {},
   "outputs": [],
   "source": [
    "!pip install google-cloud-pipeline-components==0.1.4\n",
    "!pip install google-cloud-aiplatform==1.3.0"
   ]
  },
  {
   "cell_type": "code",
   "execution_count": null,
   "id": "92de3e58",
   "metadata": {},
   "outputs": [],
   "source": [
    "import kfp\n",
    "from datetime import datetime\n",
    "from kfp.v2 import compiler\n",
    "from kfp.v2.google.client import AIPlatformClient\n",
    "from google.cloud import aiplatform\n",
    "from google_cloud_pipeline_components import aiplatform as gcc_aip"
   ]
  },
  {
   "cell_type": "code",
   "execution_count": null,
   "id": "4eb9ae66",
   "metadata": {},
   "outputs": [],
   "source": [
    "PROJECT_ID=!gcloud config get-value project # returns default project id \n",
    "PROJECT_ID=PROJECT_ID[0]\n",
    "TIMESTAMP = datetime.now().strftime(\"%Y%m%d%H%M%S\")\n",
    "BUCKET = \"gs://\"+PROJECT_ID+'/churn-custom'\n",
    "REGION='europe-west4'\n",
    "\n",
    "VERSION='v1'\n",
    "JOB_NAME=\"telco-churn-job-\"+VERSION\n",
    "MODEL_NAME=\"telco-churn-model-\"+VERSION\n",
    "DATASET_ID='5848592619210276864'"
   ]
  },
  {
   "cell_type": "code",
   "execution_count": null,
   "id": "976230de",
   "metadata": {},
   "outputs": [],
   "source": [
    "gcs_csv_path = \"gs://feature-store-mars21/data/telco/Telco-Customer-Churn.csv\"\n",
    "pipeline_root_path = BUCKET+\"/pl-root\"\n",
    "pipeline_path = pipeline_root_path+'/churn_classif_pipeline.json'"
   ]
  },
  {
   "cell_type": "code",
   "execution_count": null,
   "id": "6d1d30fc",
   "metadata": {},
   "outputs": [],
   "source": [
    "@kfp.dsl.pipeline(name=\"{}\".format(JOB_NAME),\n",
    "    pipeline_root=pipeline_root_path)\n",
    "def pipeline(project_id: str):\n",
    "        \n",
    "    dataset_create_op = gcc_aip.TabularDatasetCreateOp(\n",
    "         project=project_id, display_name=\"churn-pred\", gcs_source=gcs_csv_path,\n",
    "    )\n",
    "    \n",
    "    training_op = gcc_aip.CustomPythonPackageTrainingJobRunOp(\n",
    "        project=project_id,\n",
    "        display_name=\"train_churn_prediction_{}\".format(VERSION),\n",
    "        python_package_gcs_uri=\"gs://feature-store-mars21/churn-model-dist/churn-0.1.tar.gz\",\n",
    "        python_module=\"trainer.task\",\n",
    "        model_description=\"Churn prediction model\",\n",
    "        container_uri='eu.gcr.io/cloud-aiplatform/training/scikit-learn-cpu.0-23:latest', \n",
    "        model_serving_container_image_uri='eu.gcr.io/cloud-aiplatform/prediction/sklearn-cpu.0-23:latest',\n",
    "        dataset=dataset_create_op.outputs[\"dataset\"],\n",
    "        model_display_name=\"myChurnModel{}\".format(VERSION),\n",
    "        base_output_dir=\"{}/assets-{}\".format(BUCKET, VERSION),\n",
    "        staging_bucket=\"{}/staging\".format(BUCKET),\n",
    "        machine_type= 'n1-standard-4',\n",
    "        training_fraction_split = 0.8,\n",
    "        validation_fraction_split = 0.1,\n",
    "        test_fraction_split = 0.1\n",
    "    )\n",
    "\n",
    "    deploy_op = gcc_aip.ModelDeployOp(  \n",
    "        model=training_op.outputs[\"model\"],\n",
    "        project=project_id,\n",
    "        machine_type=\"n1-standard-4\"\n",
    "    )"
   ]
  },
  {
   "cell_type": "code",
   "execution_count": null,
   "id": "c7cd7b04",
   "metadata": {},
   "outputs": [],
   "source": [
    "compiler.Compiler().compile(\n",
    "    pipeline_func=pipeline,\n",
    "    package_path='/tmp/churn_classif_pipeline.json')"
   ]
  },
  {
   "cell_type": "code",
   "execution_count": null,
   "id": "1a307053",
   "metadata": {},
   "outputs": [],
   "source": [
    "from google.cloud import storage\n",
    "storage_client = storage.Client()\n",
    "bucket = storage_client.bucket(PROJECT_ID)\n",
    "blob = bucket.blob('/'.join(pipeline_path.split('/')[3:]))\n",
    "\n",
    "blob.upload_from_filename('/tmp/churn_classif_pipeline.json')"
   ]
  },
  {
   "cell_type": "code",
   "execution_count": null,
   "id": "b14e491b",
   "metadata": {},
   "outputs": [],
   "source": [
    "\"\"\" \n",
    "from kfp.v2.google.client import AIPlatformClient\n",
    "api_client = AIPlatformClient(project_id=PROJECT_ID, region=REGION)\n",
    "response = api_client.create_run_from_job_spec(\n",
    "    'churn_classif_pipeline.json',\n",
    "    pipeline_root=pipeline_root_path,\n",
    "    parameter_values={\n",
    "        'project_id': project_id\n",
    "    })\n",
    "    \n",
    "\"\"\"\n",
    "\n",
    "from google.cloud.aiplatform.pipeline_jobs import PipelineJob\n",
    "\n",
    "pl = PipelineJob(display_name= JOB_NAME,\n",
    "        template_path= pipeline_path,\n",
    "        parameter_values={'project_id': PROJECT_ID})\n",
    "\n",
    "pl.run(sync=False)"
   ]
  },
  {
   "cell_type": "code",
   "execution_count": null,
   "id": "0f440fc9",
   "metadata": {},
   "outputs": [],
   "source": [
    "pl.state"
   ]
  },
  {
   "cell_type": "code",
   "execution_count": null,
   "id": "0a5aff36",
   "metadata": {},
   "outputs": [],
   "source": []
  }
 ],
 "metadata": {
  "environment": {
   "name": "common-cpu.m69",
   "type": "gcloud",
   "uri": "gcr.io/deeplearning-platform-release/base-cpu:m69"
  },
  "kernelspec": {
   "display_name": "Python 3",
   "language": "python",
   "name": "python3"
  },
  "language_info": {
   "codemirror_mode": {
    "name": "ipython",
    "version": 3
   },
   "file_extension": ".py",
   "mimetype": "text/x-python",
   "name": "python",
   "nbconvert_exporter": "python",
   "pygments_lexer": "ipython3",
   "version": "3.7.10"
  }
 },
 "nbformat": 4,
 "nbformat_minor": 5
}
